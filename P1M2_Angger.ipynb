{
 "cells": [
  {
   "cell_type": "markdown",
   "metadata": {},
   "source": [
    "===================================================  \n",
    "Employees Burn Out : Analysis and Prediciton\n",
    "\n",
    "Nama = __Angger Rizky Firdaus__  \n",
    "This project is developed to accomplish milestone 2 of the FTDS Hacktiv8 program.  \n",
    "Creating a regression model to predict the level of Employee Burnout.\n",
    "\n",
    "==================================================="
   ]
  },
  {
   "cell_type": "markdown",
   "metadata": {},
   "source": [
    "__Objective__\n",
    "\n",
    "As a representative of the data science team in the HR department, I have been tasked with creating a predictive model to forecast the level of employee burnout across the organization. The application of this model is expected to be usable by individuals unfamiliar with Python. Therefore, the model must be deployed to the Hugging Face website for use by the HR team. Various models will be utilized until obtaining the one with optimal performance."
   ]
  },
  {
   "cell_type": "markdown",
   "metadata": {},
   "source": [
    "[__Hugging Face Deploy Link__](https://huggingface.co/spaces/batraccoon/Burn_Out_Score_Prediction)"
   ]
  },
  {
   "cell_type": "markdown",
   "metadata": {},
   "source": [
    "# Library"
   ]
  },
  {
   "cell_type": "code",
   "execution_count": 1,
   "metadata": {},
   "outputs": [
    {
     "name": "stdout",
     "output_type": "stream",
     "text": [
      "Requirement already satisfied: lightgbm in c:\\users\\d5att\\anaconda3\\lib\\site-packages (4.3.0)\n",
      "Requirement already satisfied: numpy in c:\\users\\d5att\\anaconda3\\lib\\site-packages (from lightgbm) (1.24.3)\n",
      "Requirement already satisfied: scipy in c:\\users\\d5att\\anaconda3\\lib\\site-packages (from lightgbm) (1.11.1)\n"
     ]
    }
   ],
   "source": [
    "#install the lightgbm library to use the lightgbm boost model\n",
    "!pip install lightgbm"
   ]
  },
  {
   "cell_type": "code",
   "execution_count": 2,
   "metadata": {},
   "outputs": [],
   "source": [
    "#import the library used for this project\n",
    "import opendatasets as od\n",
    "import pandas as pd\n",
    "from scipy import stats\n",
    "import matplotlib.pyplot as plt\n",
    "import seaborn as sns\n",
    "import numpy as np\n",
    "from sklearn.model_selection import train_test_split\n",
    "from feature_engine.outliers import Winsorizer\n",
    "from scipy.stats import kendalltau, pearsonr\n",
    "from sklearn.preprocessing import StandardScaler, OneHotEncoder\n",
    "from sklearn.metrics import mean_absolute_error, r2_score, mean_squared_error\n",
    "import pickle\n",
    "import json\n",
    "from sklearn.pipeline import Pipeline\n",
    "from sklearn.compose import ColumnTransformer\n",
    "from sklearn.neighbors import KNeighborsRegressor\n",
    "from sklearn.svm import SVR\n",
    "from sklearn.tree import DecisionTreeRegressor\n",
    "from sklearn.ensemble import RandomForestRegressor\n",
    "from lightgbm import LGBMRegressor\n",
    "from sklearn.model_selection import GridSearchCV, cross_val_score"
   ]
  },
  {
   "cell_type": "markdown",
   "metadata": {},
   "source": [
    "# Data Loading"
   ]
  },
  {
   "cell_type": "code",
   "execution_count": 3,
   "metadata": {},
   "outputs": [],
   "source": [
    "# syntax for downloading files from Kaggle using functions from the OpenDatasets library\n",
    "# od.download('https://www.kaggle.com/datasets/blurredmachine/are-your-employees-burning-out/')\n"
   ]
  },
  {
   "cell_type": "markdown",
   "metadata": {},
   "source": [
    "The data has been successfully downloaded from Kaggle."
   ]
  },
  {
   "cell_type": "code",
   "execution_count": 4,
   "metadata": {},
   "outputs": [],
   "source": [
    "# reading train data from CSV\n",
    "train = pd.read_csv('train.csv')\n"
   ]
  },
  {
   "cell_type": "code",
   "execution_count": 5,
   "metadata": {},
   "outputs": [
    {
     "data": {
      "text/html": [
       "<div>\n",
       "<style scoped>\n",
       "    .dataframe tbody tr th:only-of-type {\n",
       "        vertical-align: middle;\n",
       "    }\n",
       "\n",
       "    .dataframe tbody tr th {\n",
       "        vertical-align: top;\n",
       "    }\n",
       "\n",
       "    .dataframe thead th {\n",
       "        text-align: right;\n",
       "    }\n",
       "</style>\n",
       "<table border=\"1\" class=\"dataframe\">\n",
       "  <thead>\n",
       "    <tr style=\"text-align: right;\">\n",
       "      <th></th>\n",
       "      <th>Employee ID</th>\n",
       "      <th>Date of Joining</th>\n",
       "      <th>Gender</th>\n",
       "      <th>Company Type</th>\n",
       "      <th>WFH Setup Available</th>\n",
       "      <th>Designation</th>\n",
       "      <th>Resource Allocation</th>\n",
       "      <th>Mental Fatigue Score</th>\n",
       "      <th>Burn Rate</th>\n",
       "    </tr>\n",
       "  </thead>\n",
       "  <tbody>\n",
       "    <tr>\n",
       "      <th>0</th>\n",
       "      <td>fffe32003000360033003200</td>\n",
       "      <td>2008-09-30</td>\n",
       "      <td>Female</td>\n",
       "      <td>Service</td>\n",
       "      <td>No</td>\n",
       "      <td>2.0</td>\n",
       "      <td>3.0</td>\n",
       "      <td>3.8</td>\n",
       "      <td>0.16</td>\n",
       "    </tr>\n",
       "    <tr>\n",
       "      <th>1</th>\n",
       "      <td>fffe3700360033003500</td>\n",
       "      <td>2008-11-30</td>\n",
       "      <td>Male</td>\n",
       "      <td>Service</td>\n",
       "      <td>Yes</td>\n",
       "      <td>1.0</td>\n",
       "      <td>2.0</td>\n",
       "      <td>5.0</td>\n",
       "      <td>0.36</td>\n",
       "    </tr>\n",
       "    <tr>\n",
       "      <th>2</th>\n",
       "      <td>fffe31003300320037003900</td>\n",
       "      <td>2008-03-10</td>\n",
       "      <td>Female</td>\n",
       "      <td>Product</td>\n",
       "      <td>Yes</td>\n",
       "      <td>2.0</td>\n",
       "      <td>NaN</td>\n",
       "      <td>5.8</td>\n",
       "      <td>0.49</td>\n",
       "    </tr>\n",
       "    <tr>\n",
       "      <th>3</th>\n",
       "      <td>fffe32003400380032003900</td>\n",
       "      <td>2008-11-03</td>\n",
       "      <td>Male</td>\n",
       "      <td>Service</td>\n",
       "      <td>Yes</td>\n",
       "      <td>1.0</td>\n",
       "      <td>1.0</td>\n",
       "      <td>2.6</td>\n",
       "      <td>0.20</td>\n",
       "    </tr>\n",
       "    <tr>\n",
       "      <th>4</th>\n",
       "      <td>fffe31003900340031003600</td>\n",
       "      <td>2008-07-24</td>\n",
       "      <td>Female</td>\n",
       "      <td>Service</td>\n",
       "      <td>No</td>\n",
       "      <td>3.0</td>\n",
       "      <td>7.0</td>\n",
       "      <td>6.9</td>\n",
       "      <td>0.52</td>\n",
       "    </tr>\n",
       "  </tbody>\n",
       "</table>\n",
       "</div>"
      ],
      "text/plain": [
       "                Employee ID Date of Joining  Gender Company Type  \\\n",
       "0  fffe32003000360033003200      2008-09-30  Female      Service   \n",
       "1      fffe3700360033003500      2008-11-30    Male      Service   \n",
       "2  fffe31003300320037003900      2008-03-10  Female      Product   \n",
       "3  fffe32003400380032003900      2008-11-03    Male      Service   \n",
       "4  fffe31003900340031003600      2008-07-24  Female      Service   \n",
       "\n",
       "  WFH Setup Available  Designation  Resource Allocation  Mental Fatigue Score  \\\n",
       "0                  No          2.0                  3.0                   3.8   \n",
       "1                 Yes          1.0                  2.0                   5.0   \n",
       "2                 Yes          2.0                  NaN                   5.8   \n",
       "3                 Yes          1.0                  1.0                   2.6   \n",
       "4                  No          3.0                  7.0                   6.9   \n",
       "\n",
       "   Burn Rate  \n",
       "0       0.16  \n",
       "1       0.36  \n",
       "2       0.49  \n",
       "3       0.20  \n",
       "4       0.52  "
      ]
     },
     "execution_count": 5,
     "metadata": {},
     "output_type": "execute_result"
    }
   ],
   "source": [
    "#Displays train data loaded from CSV\n",
    "train.head(5)"
   ]
  },
  {
   "cell_type": "markdown",
   "metadata": {},
   "source": [
    "The dataset is displayed successfully"
   ]
  },
  {
   "cell_type": "code",
   "execution_count": 6,
   "metadata": {},
   "outputs": [],
   "source": [
    "#Assign a new variable to display the dataset\n",
    "df_train = train.copy()"
   ]
  },
  {
   "cell_type": "markdown",
   "metadata": {},
   "source": [
    "data copied successfully"
   ]
  },
  {
   "cell_type": "code",
   "execution_count": 7,
   "metadata": {},
   "outputs": [
    {
     "name": "stdout",
     "output_type": "stream",
     "text": [
      "<class 'pandas.core.frame.DataFrame'>\n",
      "RangeIndex: 22750 entries, 0 to 22749\n",
      "Data columns (total 9 columns):\n",
      " #   Column                Non-Null Count  Dtype  \n",
      "---  ------                --------------  -----  \n",
      " 0   Employee ID           22750 non-null  object \n",
      " 1   Date of Joining       22750 non-null  object \n",
      " 2   Gender                22750 non-null  object \n",
      " 3   Company Type          22750 non-null  object \n",
      " 4   WFH Setup Available   22750 non-null  object \n",
      " 5   Designation           22750 non-null  float64\n",
      " 6   Resource Allocation   21369 non-null  float64\n",
      " 7   Mental Fatigue Score  20633 non-null  float64\n",
      " 8   Burn Rate             21626 non-null  float64\n",
      "dtypes: float64(4), object(5)\n",
      "memory usage: 1.6+ MB\n"
     ]
    }
   ],
   "source": [
    "#summary of train data\n",
    "df_train.info()"
   ]
  },
  {
   "cell_type": "markdown",
   "metadata": {},
   "source": [
    "From this training data, it can be observed that there are 22750 rows/data with 9 columns. There are missing values in the price column which will be handled later. Based on observation, the data type for the date of joining column is not consistent with its values, it should be datetime."
   ]
  },
  {
   "cell_type": "code",
   "execution_count": 8,
   "metadata": {},
   "outputs": [],
   "source": [
    "#change the Date Of Joining datatype to datetime64\n",
    "df_train['Date of Joining'] = df_train['Date of Joining'].astype('datetime64[ns]')\n"
   ]
  },
  {
   "cell_type": "code",
   "execution_count": 9,
   "metadata": {},
   "outputs": [
    {
     "name": "stdout",
     "output_type": "stream",
     "text": [
      "<class 'pandas.core.series.Series'>\n",
      "RangeIndex: 22750 entries, 0 to 22749\n",
      "Series name: Date of Joining\n",
      "Non-Null Count  Dtype         \n",
      "--------------  -----         \n",
      "22750 non-null  datetime64[ns]\n",
      "dtypes: datetime64[ns](1)\n",
      "memory usage: 177.9 KB\n"
     ]
    }
   ],
   "source": [
    "#checking whether the datatype is correct\n",
    "df_train['Date of Joining'].info()"
   ]
  },
  {
   "cell_type": "markdown",
   "metadata": {},
   "source": [
    "Datatype has successfully become datetime64[ns]"
   ]
  },
  {
   "cell_type": "code",
   "execution_count": 10,
   "metadata": {},
   "outputs": [
    {
     "data": {
      "text/plain": [
       "Employee ID                0\n",
       "Date of Joining            0\n",
       "Gender                     0\n",
       "Company Type               0\n",
       "WFH Setup Available        0\n",
       "Designation                0\n",
       "Resource Allocation     1381\n",
       "Mental Fatigue Score    2117\n",
       "Burn Rate               1124\n",
       "dtype: int64"
      ]
     },
     "execution_count": 10,
     "metadata": {},
     "output_type": "execute_result"
    }
   ],
   "source": [
    "#Checking for missing values ​​in train data\n",
    "df_train.isnull().sum()"
   ]
  },
  {
   "cell_type": "markdown",
   "metadata": {},
   "source": [
    "there are missing values ​​in the Resource Allocation, Mental Fatigue Score, and Burn Rate columns"
   ]
  },
  {
   "cell_type": "code",
   "execution_count": 11,
   "metadata": {},
   "outputs": [
    {
     "data": {
      "text/plain": [
       "(22750, 9)"
      ]
     },
     "execution_count": 11,
     "metadata": {},
     "output_type": "execute_result"
    }
   ],
   "source": [
    "#display the shape of the train data\n",
    "df_train.shape"
   ]
  },
  {
   "cell_type": "markdown",
   "metadata": {},
   "source": [
    "as previously explained, the train dataset has 22750 rows with 9 columns."
   ]
  },
  {
   "cell_type": "code",
   "execution_count": 12,
   "metadata": {},
   "outputs": [
    {
     "data": {
      "text/plain": [
       "0"
      ]
     },
     "execution_count": 12,
     "metadata": {},
     "output_type": "execute_result"
    }
   ],
   "source": [
    "#duplicate checking\n",
    "df_train.duplicated().sum()"
   ]
  },
  {
   "cell_type": "markdown",
   "metadata": {},
   "source": [
    "no duplicate data"
   ]
  },
  {
   "cell_type": "markdown",
   "metadata": {},
   "source": [
    "__Dataset Information__"
   ]
  },
  {
   "cell_type": "code",
   "execution_count": 13,
   "metadata": {},
   "outputs": [
    {
     "data": {
      "text/plain": [
       "Index(['Employee ID', 'Date of Joining', 'Gender', 'Company Type',\n",
       "       'WFH Setup Available', 'Designation', 'Resource Allocation',\n",
       "       'Mental Fatigue Score', 'Burn Rate'],\n",
       "      dtype='object')"
      ]
     },
     "execution_count": 13,
     "metadata": {},
     "output_type": "execute_result"
    }
   ],
   "source": [
    "#display the columns contained in the dataset.\n",
    "df_train.columns"
   ]
  },
  {
   "cell_type": "markdown",
   "metadata": {},
   "source": [
    "| Feature                   | Description                                                                                               |\n",
    "|-------------------------|-----------------------------------------------------------------------------------------------------------|\n",
    "| Employee ID             | The unique ID allocated for each employee (example: fffe390032003000)                                      |\n",
    "| Date of Joining         | The date-time when the employee has joined the organization (example: 2008-12-30)                           |\n",
    "| Gender                  | The gender of the employee (Male/Female)                                                                  |\n",
    "| Company Type            | The type of company where the employee is working (Service/Product)                                        |\n",
    "| WFH Setup Available     | Is the work from home facility available for the employee (Yes/No)                                         |\n",
    "| Designation             | The designation of the employee of work in the organization. In the range of [0.0, 5.0] bigger is higher designation. |\n",
    "| Resource Allocation     | The amount of resource allocated to the employee to work, ie. number of working hours. In the range of [1.0, 10.0] (higher means more resource) |\n",
    "| Mental Fatigue Score    | The level of fatigue mentally the employee is facing. In the range of [0.0, 10.0] where 0.0 means no fatigue and 10.0 means completely fatigue. |\n",
    "| Burn Rate               | The value we need to predict for each employee telling the rate of Burn out while working. In the range of [0.0, 1.0] where the higher the value is more is the burn out. |\n"
   ]
  },
  {
   "cell_type": "code",
   "execution_count": 14,
   "metadata": {},
   "outputs": [
    {
     "name": "stdout",
     "output_type": "stream",
     "text": [
      "Employee ID\n",
      "['fffe32003000360033003200' 'fffe3700360033003500'\n",
      " 'fffe31003300320037003900' ... 'fffe390032003000'\n",
      " 'fffe33003300320036003900' 'fffe3400350031003800']\n",
      "Date of Joining\n",
      "<DatetimeArray>\n",
      "['2008-09-30 00:00:00', '2008-11-30 00:00:00', '2008-03-10 00:00:00',\n",
      " '2008-11-03 00:00:00', '2008-07-24 00:00:00', '2008-11-26 00:00:00',\n",
      " '2008-01-02 00:00:00', '2008-10-31 00:00:00', '2008-12-27 00:00:00',\n",
      " '2008-03-09 00:00:00',\n",
      " ...\n",
      " '2008-05-24 00:00:00', '2008-06-10 00:00:00', '2008-03-31 00:00:00',\n",
      " '2008-12-01 00:00:00', '2008-01-05 00:00:00', '2008-09-15 00:00:00',\n",
      " '2008-12-10 00:00:00', '2008-02-10 00:00:00', '2008-12-03 00:00:00',\n",
      " '2008-02-01 00:00:00']\n",
      "Length: 366, dtype: datetime64[ns]\n",
      "Gender\n",
      "['Female' 'Male']\n",
      "Company Type\n",
      "['Service' 'Product']\n",
      "WFH Setup Available\n",
      "['No' 'Yes']\n",
      "Designation\n",
      "[2. 1. 3. 0. 4. 5.]\n",
      "Resource Allocation\n",
      "[ 3.  2. nan  1.  7.  4.  6.  5.  8. 10.  9.]\n",
      "Mental Fatigue Score\n",
      "[ 3.8  5.   5.8  2.6  6.9  3.6  7.9  4.4  nan  5.3  1.8  4.7  5.9  6.7\n",
      "  4.   7.6  6.3  7.7  6.6  7.4  3.9  3.   8.7  7.3  5.4  6.   7.5 10.\n",
      "  6.4  5.1  5.6  6.1  3.1  8.   6.8  4.9  9.2  6.5  6.2  8.2  4.1  4.3\n",
      "  0.8  2.9  2.   9.1  0.   5.7  8.3  5.5  7.   3.3  7.8  7.2  5.2  8.9\n",
      "  4.5  8.1  8.6  9.5  3.5  4.8  2.4  3.7  1.   8.8  9.3  4.6  9.9  0.5\n",
      "  2.8  9.   3.4  4.2  1.6  2.7  1.3  3.2  8.4  7.1  9.4  2.1  9.7  2.5\n",
      "  1.9  1.7  9.6  0.7  0.2  1.2  8.5  9.8  2.2  1.1  0.9  2.3  0.4  1.4\n",
      "  1.5  0.6  0.3  0.1]\n",
      "Burn Rate\n",
      "[0.16 0.36 0.49 0.2  0.52 0.29 0.62 0.33 0.56 0.67 0.5  0.12 0.4  0.51\n",
      " 0.32 0.39 0.59 0.22 0.68 0.57 0.47 0.46 0.61 0.91 0.44 0.6  0.45 0.19\n",
      " 0.31 0.81 0.42 0.53  nan 0.94 0.37 0.65 0.38 0.15 0.26 0.28 0.71 0.8\n",
      " 0.63 0.79 0.72 0.34 0.27 0.66 0.04 0.05 0.11 0.41 0.76 0.43 0.85 0.35\n",
      " 0.   0.55 0.48 0.7  0.18 0.23 0.25 0.75 0.1  0.73 0.58 0.88 0.77 0.3\n",
      " 0.06 0.03 0.69 0.24 0.74 0.86 0.92 0.78 0.21 0.98 0.02 0.82 0.93 0.83\n",
      " 0.87 0.64 0.54 0.17 1.   0.08 0.09 0.14 0.13 0.07 0.84 0.99 0.01 0.97\n",
      " 0.95 0.9  0.96 0.89]\n"
     ]
    }
   ],
   "source": [
    "#display unique values ​​from data\n",
    "kols = []\n",
    "unik = []\n",
    "\n",
    "for kol in list(df_train.columns):\n",
    "    unik_val = df_train[kol].unique()\n",
    "\n",
    "    kols.append(kol)\n",
    "    unik.append(unik_val)\n",
    "\n",
    "    print(kol)\n",
    "    print(unik_val)\n"
   ]
  },
  {
   "cell_type": "code",
   "execution_count": 15,
   "metadata": {},
   "outputs": [
    {
     "data": {
      "text/html": [
       "<div>\n",
       "<style scoped>\n",
       "    .dataframe tbody tr th:only-of-type {\n",
       "        vertical-align: middle;\n",
       "    }\n",
       "\n",
       "    .dataframe tbody tr th {\n",
       "        vertical-align: top;\n",
       "    }\n",
       "\n",
       "    .dataframe thead th {\n",
       "        text-align: right;\n",
       "    }\n",
       "</style>\n",
       "<table border=\"1\" class=\"dataframe\">\n",
       "  <thead>\n",
       "    <tr style=\"text-align: right;\">\n",
       "      <th></th>\n",
       "      <th>Column</th>\n",
       "      <th>number of unique values</th>\n",
       "    </tr>\n",
       "  </thead>\n",
       "  <tbody>\n",
       "    <tr>\n",
       "      <th>0</th>\n",
       "      <td>Employee ID</td>\n",
       "      <td>22750</td>\n",
       "    </tr>\n",
       "    <tr>\n",
       "      <th>1</th>\n",
       "      <td>Date of Joining</td>\n",
       "      <td>366</td>\n",
       "    </tr>\n",
       "    <tr>\n",
       "      <th>2</th>\n",
       "      <td>Gender</td>\n",
       "      <td>2</td>\n",
       "    </tr>\n",
       "    <tr>\n",
       "      <th>3</th>\n",
       "      <td>Company Type</td>\n",
       "      <td>2</td>\n",
       "    </tr>\n",
       "    <tr>\n",
       "      <th>4</th>\n",
       "      <td>WFH Setup Available</td>\n",
       "      <td>2</td>\n",
       "    </tr>\n",
       "    <tr>\n",
       "      <th>5</th>\n",
       "      <td>Designation</td>\n",
       "      <td>6</td>\n",
       "    </tr>\n",
       "    <tr>\n",
       "      <th>6</th>\n",
       "      <td>Resource Allocation</td>\n",
       "      <td>10</td>\n",
       "    </tr>\n",
       "    <tr>\n",
       "      <th>7</th>\n",
       "      <td>Mental Fatigue Score</td>\n",
       "      <td>101</td>\n",
       "    </tr>\n",
       "    <tr>\n",
       "      <th>8</th>\n",
       "      <td>Burn Rate</td>\n",
       "      <td>101</td>\n",
       "    </tr>\n",
       "  </tbody>\n",
       "</table>\n",
       "</div>"
      ],
      "text/plain": [
       "                 Column  number of unique values\n",
       "0           Employee ID                    22750\n",
       "1       Date of Joining                      366\n",
       "2                Gender                        2\n",
       "3          Company Type                        2\n",
       "4   WFH Setup Available                        2\n",
       "5           Designation                        6\n",
       "6   Resource Allocation                       10\n",
       "7  Mental Fatigue Score                      101\n",
       "8             Burn Rate                      101"
      ]
     },
     "execution_count": 15,
     "metadata": {},
     "output_type": "execute_result"
    }
   ],
   "source": [
    "#Syntax displays the number of unique values\n",
    "listItem = []\n",
    "for col in df_train.columns:\n",
    "  listItem.append([col, df_train[col].nunique()])\n",
    "\n",
    "pd.DataFrame(columns=['Column', 'number of unique values'], data=listItem)"
   ]
  },
  {
   "cell_type": "markdown",
   "metadata": {},
   "source": [
    "Based on the information displayed above, data types can be divided into:\n",
    "- Numeric Continous = Designation, Resource Allocation, Mental Fatigue Score, Burn Rate\n",
    "- String Continous = Employee ID\n",
    "- Datetime =  Date of Joining\n",
    "- String Categorical = Gender, Company Type, WFH Setup Available,"
   ]
  },
  {
   "cell_type": "markdown",
   "metadata": {},
   "source": [
    "__Must Do!__\n",
    "\n",
    "- Handling missing values ​​in the Resource Allocation, Mental Fatigue Score and Burn Rate columns\n",
    "- Feature engineering"
   ]
  },
  {
   "cell_type": "markdown",
   "metadata": {},
   "source": [
    "# Exploratory Data Analysis (EDA)"
   ]
  },
  {
   "cell_type": "code",
   "execution_count": 16,
   "metadata": {},
   "outputs": [],
   "source": [
    "#Assign new variables for exploratory data analysis (EDA) tasks.\n",
    "eda = df_train.copy()"
   ]
  },
  {
   "cell_type": "code",
   "execution_count": 17,
   "metadata": {},
   "outputs": [
    {
     "data": {
      "text/html": [
       "<div>\n",
       "<style scoped>\n",
       "    .dataframe tbody tr th:only-of-type {\n",
       "        vertical-align: middle;\n",
       "    }\n",
       "\n",
       "    .dataframe tbody tr th {\n",
       "        vertical-align: top;\n",
       "    }\n",
       "\n",
       "    .dataframe thead th {\n",
       "        text-align: right;\n",
       "    }\n",
       "</style>\n",
       "<table border=\"1\" class=\"dataframe\">\n",
       "  <thead>\n",
       "    <tr style=\"text-align: right;\">\n",
       "      <th></th>\n",
       "      <th>Employee ID</th>\n",
       "      <th>Date of Joining</th>\n",
       "      <th>Gender</th>\n",
       "      <th>Company Type</th>\n",
       "      <th>WFH Setup Available</th>\n",
       "      <th>Designation</th>\n",
       "      <th>Resource Allocation</th>\n",
       "      <th>Mental Fatigue Score</th>\n",
       "      <th>Burn Rate</th>\n",
       "    </tr>\n",
       "  </thead>\n",
       "  <tbody>\n",
       "    <tr>\n",
       "      <th>0</th>\n",
       "      <td>fffe32003000360033003200</td>\n",
       "      <td>2008-09-30</td>\n",
       "      <td>Female</td>\n",
       "      <td>Service</td>\n",
       "      <td>No</td>\n",
       "      <td>2.0</td>\n",
       "      <td>3.0</td>\n",
       "      <td>3.8</td>\n",
       "      <td>0.16</td>\n",
       "    </tr>\n",
       "    <tr>\n",
       "      <th>1</th>\n",
       "      <td>fffe3700360033003500</td>\n",
       "      <td>2008-11-30</td>\n",
       "      <td>Male</td>\n",
       "      <td>Service</td>\n",
       "      <td>Yes</td>\n",
       "      <td>1.0</td>\n",
       "      <td>2.0</td>\n",
       "      <td>5.0</td>\n",
       "      <td>0.36</td>\n",
       "    </tr>\n",
       "    <tr>\n",
       "      <th>2</th>\n",
       "      <td>fffe31003300320037003900</td>\n",
       "      <td>2008-03-10</td>\n",
       "      <td>Female</td>\n",
       "      <td>Product</td>\n",
       "      <td>Yes</td>\n",
       "      <td>2.0</td>\n",
       "      <td>NaN</td>\n",
       "      <td>5.8</td>\n",
       "      <td>0.49</td>\n",
       "    </tr>\n",
       "    <tr>\n",
       "      <th>3</th>\n",
       "      <td>fffe32003400380032003900</td>\n",
       "      <td>2008-11-03</td>\n",
       "      <td>Male</td>\n",
       "      <td>Service</td>\n",
       "      <td>Yes</td>\n",
       "      <td>1.0</td>\n",
       "      <td>1.0</td>\n",
       "      <td>2.6</td>\n",
       "      <td>0.20</td>\n",
       "    </tr>\n",
       "    <tr>\n",
       "      <th>4</th>\n",
       "      <td>fffe31003900340031003600</td>\n",
       "      <td>2008-07-24</td>\n",
       "      <td>Female</td>\n",
       "      <td>Service</td>\n",
       "      <td>No</td>\n",
       "      <td>3.0</td>\n",
       "      <td>7.0</td>\n",
       "      <td>6.9</td>\n",
       "      <td>0.52</td>\n",
       "    </tr>\n",
       "  </tbody>\n",
       "</table>\n",
       "</div>"
      ],
      "text/plain": [
       "                Employee ID Date of Joining  Gender Company Type  \\\n",
       "0  fffe32003000360033003200      2008-09-30  Female      Service   \n",
       "1      fffe3700360033003500      2008-11-30    Male      Service   \n",
       "2  fffe31003300320037003900      2008-03-10  Female      Product   \n",
       "3  fffe32003400380032003900      2008-11-03    Male      Service   \n",
       "4  fffe31003900340031003600      2008-07-24  Female      Service   \n",
       "\n",
       "  WFH Setup Available  Designation  Resource Allocation  Mental Fatigue Score  \\\n",
       "0                  No          2.0                  3.0                   3.8   \n",
       "1                 Yes          1.0                  2.0                   5.0   \n",
       "2                 Yes          2.0                  NaN                   5.8   \n",
       "3                 Yes          1.0                  1.0                   2.6   \n",
       "4                  No          3.0                  7.0                   6.9   \n",
       "\n",
       "   Burn Rate  \n",
       "0       0.16  \n",
       "1       0.36  \n",
       "2       0.49  \n",
       "3       0.20  \n",
       "4       0.52  "
      ]
     },
     "execution_count": 17,
     "metadata": {},
     "output_type": "execute_result"
    }
   ],
   "source": [
    "eda.head(5)"
   ]
  },
  {
   "cell_type": "code",
   "execution_count": 18,
   "metadata": {},
   "outputs": [
    {
     "data": {
      "text/plain": [
       "Index(['Employee ID', 'Date of Joining', 'Gender', 'Company Type',\n",
       "       'WFH Setup Available', 'Designation', 'Resource Allocation',\n",
       "       'Mental Fatigue Score', 'Burn Rate'],\n",
       "      dtype='object')"
      ]
     },
     "execution_count": 18,
     "metadata": {},
     "output_type": "execute_result"
    }
   ],
   "source": [
    "#display eda column\n",
    "eda.columns"
   ]
  },
  {
   "cell_type": "code",
   "execution_count": 19,
   "metadata": {},
   "outputs": [
    {
     "data": {
      "text/html": [
       "<div>\n",
       "<style scoped>\n",
       "    .dataframe tbody tr th:only-of-type {\n",
       "        vertical-align: middle;\n",
       "    }\n",
       "\n",
       "    .dataframe tbody tr th {\n",
       "        vertical-align: top;\n",
       "    }\n",
       "\n",
       "    .dataframe thead th {\n",
       "        text-align: right;\n",
       "    }\n",
       "</style>\n",
       "<table border=\"1\" class=\"dataframe\">\n",
       "  <thead>\n",
       "    <tr style=\"text-align: right;\">\n",
       "      <th></th>\n",
       "      <th>count</th>\n",
       "      <th>mean</th>\n",
       "      <th>min</th>\n",
       "      <th>25%</th>\n",
       "      <th>50%</th>\n",
       "      <th>75%</th>\n",
       "      <th>max</th>\n",
       "      <th>std</th>\n",
       "    </tr>\n",
       "  </thead>\n",
       "  <tbody>\n",
       "    <tr>\n",
       "      <th>Date of Joining</th>\n",
       "      <td>22750</td>\n",
       "      <td>2008-07-01 09:28:05.274725120</td>\n",
       "      <td>2008-01-01 00:00:00</td>\n",
       "      <td>2008-04-01 00:00:00</td>\n",
       "      <td>2008-07-02 00:00:00</td>\n",
       "      <td>2008-09-30 00:00:00</td>\n",
       "      <td>2008-12-31 00:00:00</td>\n",
       "      <td>NaN</td>\n",
       "    </tr>\n",
       "    <tr>\n",
       "      <th>Designation</th>\n",
       "      <td>22750.0</td>\n",
       "      <td>2.178725</td>\n",
       "      <td>0.0</td>\n",
       "      <td>1.0</td>\n",
       "      <td>2.0</td>\n",
       "      <td>3.0</td>\n",
       "      <td>5.0</td>\n",
       "      <td>1.135145</td>\n",
       "    </tr>\n",
       "    <tr>\n",
       "      <th>Resource Allocation</th>\n",
       "      <td>21369.0</td>\n",
       "      <td>4.481398</td>\n",
       "      <td>1.0</td>\n",
       "      <td>3.0</td>\n",
       "      <td>4.0</td>\n",
       "      <td>6.0</td>\n",
       "      <td>10.0</td>\n",
       "      <td>2.047211</td>\n",
       "    </tr>\n",
       "    <tr>\n",
       "      <th>Mental Fatigue Score</th>\n",
       "      <td>20633.0</td>\n",
       "      <td>5.728188</td>\n",
       "      <td>0.0</td>\n",
       "      <td>4.6</td>\n",
       "      <td>5.9</td>\n",
       "      <td>7.1</td>\n",
       "      <td>10.0</td>\n",
       "      <td>1.920839</td>\n",
       "    </tr>\n",
       "    <tr>\n",
       "      <th>Burn Rate</th>\n",
       "      <td>21626.0</td>\n",
       "      <td>0.452005</td>\n",
       "      <td>0.0</td>\n",
       "      <td>0.31</td>\n",
       "      <td>0.45</td>\n",
       "      <td>0.59</td>\n",
       "      <td>1.0</td>\n",
       "      <td>0.198226</td>\n",
       "    </tr>\n",
       "  </tbody>\n",
       "</table>\n",
       "</div>"
      ],
      "text/plain": [
       "                        count                           mean  \\\n",
       "Date of Joining         22750  2008-07-01 09:28:05.274725120   \n",
       "Designation           22750.0                       2.178725   \n",
       "Resource Allocation   21369.0                       4.481398   \n",
       "Mental Fatigue Score  20633.0                       5.728188   \n",
       "Burn Rate             21626.0                       0.452005   \n",
       "\n",
       "                                      min                  25%  \\\n",
       "Date of Joining       2008-01-01 00:00:00  2008-04-01 00:00:00   \n",
       "Designation                           0.0                  1.0   \n",
       "Resource Allocation                   1.0                  3.0   \n",
       "Mental Fatigue Score                  0.0                  4.6   \n",
       "Burn Rate                             0.0                 0.31   \n",
       "\n",
       "                                      50%                  75%  \\\n",
       "Date of Joining       2008-07-02 00:00:00  2008-09-30 00:00:00   \n",
       "Designation                           2.0                  3.0   \n",
       "Resource Allocation                   4.0                  6.0   \n",
       "Mental Fatigue Score                  5.9                  7.1   \n",
       "Burn Rate                            0.45                 0.59   \n",
       "\n",
       "                                      max       std  \n",
       "Date of Joining       2008-12-31 00:00:00       NaN  \n",
       "Designation                           5.0  1.135145  \n",
       "Resource Allocation                  10.0  2.047211  \n",
       "Mental Fatigue Score                 10.0  1.920839  \n",
       "Burn Rate                             1.0  0.198226  "
      ]
     },
     "execution_count": 19,
     "metadata": {},
     "output_type": "execute_result"
    }
   ],
   "source": [
    "eda.describe().T"
   ]
  },
  {
   "cell_type": "markdown",
   "metadata": {},
   "source": [
    "## Distribution of Mental Fatigue Score Columns"
   ]
  },
  {
   "cell_type": "code",
   "execution_count": 20,
   "metadata": {},
   "outputs": [
    {
     "data": {
      "text/plain": [
       "<Axes: title={'center': 'Mental Fatigue Score'}>"
      ]
     },
     "execution_count": 20,
     "metadata": {},
     "output_type": "execute_result"
    },
    {
     "data": {
      "image/png": "[encoded data removed]",
      "text/plain": [
       "<Figure size 1000x400 with 2 Axes>"
      ]
     },
     "metadata": {},
     "output_type": "display_data"
    }
   ],
   "source": [
    "#Displays a histogram and boxplot in the Mental Fatigue Score column\n",
    "fig, ax = plt.subplots(ncols=2,figsize=(10,4))\n",
    "\n",
    "eda['Mental Fatigue Score'].plot(kind='hist',bins=20,ax=ax[0],title='Mental Fatigue Score')\n",
    "eda['Mental Fatigue Score'].plot(kind='box',ax=ax[1],title='Mental Fatigue Score')\n"
   ]
  },
  {
   "cell_type": "code",
   "execution_count": 21,
   "metadata": {},
   "outputs": [
    {
     "name": "stdout",
     "output_type": "stream",
     "text": [
      "Minimum score: 0.0\n",
      "Mean score: 5.728187854407987\n",
      "Median score: 5.9\n",
      "Skewness score: -0.4308950578815428\n"
     ]
    }
   ],
   "source": [
    "# Assign formulas for mean and median\n",
    "mean_score = eda['Mental Fatigue Score'].mean()\n",
    "median_score = eda['Mental Fatigue Score'].median()\n",
    "min_score = eda['Mental Fatigue Score'].min()\n",
    "skewness_score = eda['Mental Fatigue Score'].skew()\n",
    "\n",
    "# Displaying the mean and median values in the Mental Fatigue Score column.\n",
    "print(f'Minimum score: {min_score}')\n",
    "print(f'Mean score: {mean_score}')\n",
    "print(f'Median score: {median_score}')\n",
    "print(f'Skewness score: {skewness_score}')"
   ]
  },
  {
   "cell_type": "markdown",
   "metadata": {},
   "source": [
    "__Explanation__\n",
    "\n",
    "In the visualization through the boxplot, the column \"Mental Fatigue Score\" exhibits outliers, which are validated by the skewness value of -0.43. A skewness value of -0.43 indicates that the data is relatively normally distributed, albeit slightly skewed to the right (negative skewness).\n",
    "\n",
    "This means that the average mental fatigue score ranges from 5.7 to 5.9, indicating a relatively high level of stress, even reaching its peak at a score of 10. However, employees who do not feel stressed or have low stress scores are outliers in this data, indicating that employees who do not feel stressed or have low stress levels are rare occurrences."
   ]
  },
  {
   "cell_type": "markdown",
   "metadata": {},
   "source": [
    "## Distribution of Employee Position Level Columns"
   ]
  },
  {
   "cell_type": "code",
   "execution_count": 22,
   "metadata": {},
   "outputs": [
    {
     "data": {
      "text/plain": [
       "<Axes: title={'center': 'Designation'}>"
      ]
     },
     "execution_count": 22,
     "metadata": {},
     "output_type": "execute_result"
    },
    {
     "data": {
      "image/png": "[encoded data removed]",
      "text/plain": [
       "<Figure size 1000x400 with 2 Axes>"
      ]
     },
     "metadata": {},
     "output_type": "display_data"
    }
   ],
   "source": [
    "#Display histograph and boxplot in the Designation column\n",
    "fig, ax = plt.subplots(ncols=2,figsize=(10,4))\n",
    "\n",
    "eda['Designation'].plot(kind='hist',bins=20,ax=ax[0],title='Designation')\n",
    "eda['Designation'].plot(kind='box',ax=ax[1],title='Designation')"
   ]
  },
  {
   "cell_type": "code",
   "execution_count": 23,
   "metadata": {},
   "outputs": [
    {
     "name": "stdout",
     "output_type": "stream",
     "text": [
      "Minimum score: 0.0\n",
      "Mean score: 2.1787252747252746\n",
      "Median score: 2.0\n",
      "Skewness value: 0.09242138478903683\n"
     ]
    }
   ],
   "source": [
    "#assign formulas for mean and median\n",
    "m = eda['Designation'].mean()\n",
    "me = eda['Designation'].median()\n",
    "mi = eda['Designation'].min()\n",
    "sk = eda['Designation'].skew()\n",
    "\n",
    "#display the mean and median values in the Designation column.\n",
    "print(f'Minimum score: {mi}')\n",
    "print(f'Mean score: {m}')\n",
    "print(f'Median score: {me}')\n",
    "print(f'Skewness value: {sk}')\n"
   ]
  },
  {
   "cell_type": "markdown",
   "metadata": {},
   "source": [
    "__Explanation__\n",
    "\n",
    "In the visualization via boxplot, the \"Designation\" column does not have outliers, validated by a skewness value of 0.092. A skewness value of 0.092 indicates normally distributed data, depicted in the boxplot without outliers. This may be due to the data being only filled with numbers ranging from 0 to 5.\n",
    "\n",
    "This means that among all employees, the most common designation level is at level 2. This is evidenced by the mode, mean, and median which are at level 2. Individuals with higher levels such as levels 4 and 5 have fewer numbers compared to levels 2 and 3. Lower levels such as 0 and 1 also do not have as many instances as levels 2 and 3.\n"
   ]
  },
  {
   "cell_type": "markdown",
   "metadata": {},
   "source": [
    "## Distribution of Resource Allocation Columns"
   ]
  },
  {
   "cell_type": "code",
   "execution_count": 24,
   "metadata": {},
   "outputs": [
    {
     "data": {
      "text/plain": [
       "<Axes: title={'center': 'Resource Allocation'}>"
      ]
     },
     "execution_count": 24,
     "metadata": {},
     "output_type": "execute_result"
    },
    {
     "data": {
      "image/png": "[encoded data removed]",
      "text/plain": [
       "<Figure size 1000x400 with 2 Axes>"
      ]
     },
     "metadata": {},
     "output_type": "display_data"
    }
   ],
   "source": [
    "#Displays a histograph and boxplot in the Resource Allocation column\n",
    "fig, ax = plt.subplots(ncols=2,figsize=(10,4))\n",
    "\n",
    "eda['Resource Allocation'].plot(kind='hist',bins=20,ax=ax[0],title='Resource Allocation')\n",
    "eda['Resource Allocation'].plot(kind='box',ax=ax[1],title='Resource Allocation')"
   ]
  },
  {
   "cell_type": "code",
   "execution_count": 92,
   "metadata": {},
   "outputs": [
    {
     "name": "stdout",
     "output_type": "stream",
     "text": [
      "Minimum score: 1.0\n",
      "Mean score: 4.481398287238523\n",
      "Median score: 4.0\n",
      "Skewness value: 0.20457273454318103\n"
     ]
    }
   ],
   "source": [
    "# Assign formulas for mean and median\n",
    "m = eda['Resource Allocation'].mean()\n",
    "me = eda['Resource Allocation'].median()\n",
    "mi = eda['Resource Allocation'].min()\n",
    "sk = eda['Resource Allocation'].skew()\n",
    "\n",
    "# Displaying the mean and median values for the Resource Allocation column.\n",
    "print(f'Minimum score: {mi}')\n",
    "print(f'Mean score: {m}')\n",
    "print(f'Median score: {me}')\n",
    "print(f'Skewness value: {sk}')\n"
   ]
  },
  {
   "cell_type": "markdown",
   "metadata": {},
   "source": [
    "__Explanation__\n",
    "\n",
    "Visually, in the boxplot, the resource allocation column does not have outliers, as validated by a skewness value of 0.2. A skewness value of 0.2 indicates that the data is relatively normally distributed, and there are no outliers depicted in the boxplot. This could be attributed to the data being filled with numbers ranging from 0 to 10.\n",
    "\n",
    "This implies that, among all employees, the majority have resource allocation levels at 4 and 5. This is evidenced by the mode, mean, and median values being around 4 and 5. Individuals with high resource allocation levels (8-10) are very few. There is a possibility that this is influenced by the employees' positions, which will be confirmed with the scatterplot below."
   ]
  },
  {
   "cell_type": "markdown",
   "metadata": {},
   "source": [
    "## Scatterplot visualization for number of hours worked by position."
   ]
  },
  {
   "cell_type": "code",
   "execution_count": 93,
   "metadata": {},
   "outputs": [
    {
     "data": {
      "image/png": "[encoded data removed]",
      "text/plain": [
       "<Figure size 640x480 with 1 Axes>"
      ]
     },
     "metadata": {},
     "output_type": "display_data"
    }
   ],
   "source": [
    "#syntax for scatterplot visualization with seaborn\n",
    "sns.regplot(x=df_train[\"Resource Allocation\"], y=df_train[\"Designation\"])\n",
    "plt.xlabel('Work Hours')\n",
    "plt.ylabel('Designation Level')\n",
    "plt.title('Work Hours vs. Designation Level')\n",
    "plt.show()\n"
   ]
  },
  {
   "cell_type": "markdown",
   "metadata": {},
   "source": [
    "Based on this scatterplot, there is a linear correlation with working hours and position level. The meaning of this visualization is that the higher the position, the more hours you work. If the position is low then the working hours will also be low."
   ]
  },
  {
   "cell_type": "markdown",
   "metadata": {},
   "source": [
    "## Burn Rate Column Distribution Spread"
   ]
  },
  {
   "cell_type": "code",
   "execution_count": 27,
   "metadata": {},
   "outputs": [
    {
     "data": {
      "text/plain": [
       "<Axes: title={'center': 'Burn Rate'}>"
      ]
     },
     "execution_count": 27,
     "metadata": {},
     "output_type": "execute_result"
    },
    {
     "data": {
      "image/png": "[encoded data removed]",
      "text/plain": [
       "<Figure size 1000x400 with 2 Axes>"
      ]
     },
     "metadata": {},
     "output_type": "display_data"
    }
   ],
   "source": [
    "#Displays a histogram and boxplot in the Burn Rate column\n",
    "fig, ax = plt.subplots(ncols=2,figsize=(10,4))\n",
    "\n",
    "eda['Burn Rate'].plot(kind='hist',bins=20,ax=ax[0],title='Burn Rate')\n",
    "eda['Burn Rate'].plot(kind='box',ax=ax[1],title='Burn Rate')"
   ]
  },
  {
   "cell_type": "code",
   "execution_count": 94,
   "metadata": {},
   "outputs": [
    {
     "name": "stdout",
     "output_type": "stream",
     "text": [
      "Minimum Score: 0.0\n",
      "Mean: 0.45200545639508\n",
      "Median: 0.45\n",
      "Skewness: 0.045737370909640515\n"
     ]
    }
   ],
   "source": [
    "# Calculate mean and median for Burn Rate column\n",
    "m = eda['Burn Rate'].mean()\n",
    "me = eda['Burn Rate'].median()\n",
    "mi = eda['Burn Rate'].min()\n",
    "sk = eda['Burn Rate'].skew()\n",
    "\n",
    "# Display the minimum score, mean, median, and skewness for the Burn Rate column\n",
    "print(f'Minimum Score: {mi}')\n",
    "print(f'Mean: {m}')\n",
    "print(f'Median: {me}')\n",
    "print(f'Skewness: {sk}')"
   ]
  },
  {
   "cell_type": "markdown",
   "metadata": {},
   "source": [
    "__Explanation__\n",
    "\n",
    "In the visualization through the boxplot, the Burn Rate column exhibits no outliers, validated by a skewness value of 0.045. This skewness value indicates a normal distribution of data, as depicted in the boxplot where no outliers are evident. Additionally, the equality between the median and mean of this data represents typical characteristics of a normally distributed dataset. This normal distribution is attributed to the predefined range used to fill this column, which prevents extreme data points.\n",
    "\n",
    "From the dataset, the majority of employees exhibit a burn rate around 0.45, indicating a significant level of burnout during work. Employee burnout may result from heavy workloads, high-ranking positions, long working hours, and mental stress. The number of employees who are not burned out is below 500, signifying that only a small portion of the workforce does not experience burnout.\n",
    "\n",
    "To investigate whether there is a correlation between burnout level and job designation, it will be visualized using a scatterplot below."
   ]
  },
  {
   "cell_type": "markdown",
   "metadata": {},
   "source": [
    "## Scatterplot visualization for the level of saturation with the position."
   ]
  },
  {
   "cell_type": "code",
   "execution_count": 95,
   "metadata": {},
   "outputs": [
    {
     "data": {
      "text/plain": [
       "Text(0.5, 1.0, 'The Level of Saturation and Its Position')"
      ]
     },
     "execution_count": 95,
     "metadata": {},
     "output_type": "execute_result"
    },
    {
     "data": {
      "image/png": "[encoded data removed]",
      "text/plain": [
       "<Figure size 640x480 with 1 Axes>"
      ]
     },
     "metadata": {},
     "output_type": "display_data"
    }
   ],
   "source": [
    "# syntax untuk visualisasi scatterplot dengan seaborn\n",
    "\n",
    "sns.regplot(x=df_train[\"Designation\"], y=df_train[\"Burn Rate\"])\n",
    "plt.ylabel('Saturation Level')\n",
    "plt.xlabel('Position Level')\n",
    "plt.title('The Level of Saturation and Its Position')"
   ]
  },
  {
   "cell_type": "markdown",
   "metadata": {},
   "source": [
    "Based on this scatterplot, there appears to be a linear correlation between the level of burnout and job designation. The significance of this visualization is that as the job designation rises, the level of burnout also tends to increase. Conversely, lower job designations correspond to lower levels of burnout. However, at the same job designation level, each employee exhibits their own level of burnout, as depicted in the plot above."
   ]
  },
  {
   "cell_type": "markdown",
   "metadata": {},
   "source": [
    "## Comparison of the Number of Employee Genders"
   ]
  },
  {
   "cell_type": "code",
   "execution_count": 96,
   "metadata": {},
   "outputs": [
    {
     "data": {
      "image/png": "[encoded data removed]",
      "text/plain": [
       "<Figure size 800x800 with 1 Axes>"
      ]
     },
     "metadata": {},
     "output_type": "display_data"
    }
   ],
   "source": [
    "#syntax to display the Gender Number comparison\n",
    "fig,ax1 = plt.subplots(figsize=(8,8))\n",
    "\n",
    "df_train['Gender'].value_counts().plot(kind='pie', autopct='%.2f%%',ax=ax1)\n",
    "plt.title('Gender')\n",
    "plt.show()\n"
   ]
  },
  {
   "cell_type": "markdown",
   "metadata": {},
   "source": [
    "From the visualization above, it can be seen that the percentage of women reached 52.34%, while men only reached 47.66%. This shows that the number of women is greater than the number of men in the observed dataset."
   ]
  },
  {
   "cell_type": "markdown",
   "metadata": {},
   "source": [
    "## Comparison of Number of Company Types of Employees"
   ]
  },
  {
   "cell_type": "code",
   "execution_count": 97,
   "metadata": {},
   "outputs": [
    {
     "data": {
      "image/png": "[encoded data removed]",
      "text/plain": [
       "<Figure size 800x800 with 1 Axes>"
      ]
     },
     "metadata": {},
     "output_type": "display_data"
    }
   ],
   "source": [
    "#syntax to display the Gender Number comparison\n",
    "fig,ax1 = plt.subplots(figsize=(8,8))\n",
    "\n",
    "df_train['Company Type'].value_counts().plot(kind='pie', autopct='%.2f%%',ax=ax1)\n",
    "plt.title('Company Type')\n",
    "plt.show()"
   ]
  },
  {
   "cell_type": "markdown",
   "metadata": {},
   "source": [
    "Based on the visualization displayed, employees who work in the service sector reach 65.20% and employees who work in the product sector reach 34.80%. This means that many employees work in the service sector in the product production sector in this dataset."
   ]
  },
  {
   "cell_type": "markdown",
   "metadata": {},
   "source": [
    "## Comparison of the Number of People Allowed to WFH"
   ]
  },
  {
   "cell_type": "code",
   "execution_count": 98,
   "metadata": {},
   "outputs": [
    {
     "data": {
      "image/png": "[encoded data removed]",
      "text/plain": [
       "<Figure size 800x800 with 1 Axes>"
      ]
     },
     "metadata": {},
     "output_type": "display_data"
    }
   ],
   "source": [
    "#syntax to display the Gender Number comparison\n",
    "fig,ax1 = plt.subplots(figsize=(8,8))\n",
    "\n",
    "df_train['WFH Setup Available'].value_counts().plot(kind='pie', autopct='%.2f%%',ax=ax1)\n",
    "plt.title('Percentage of WFH Options for Employees')\n",
    "plt.show()"
   ]
  },
  {
   "cell_type": "markdown",
   "metadata": {},
   "source": [
    "From the visualization presented, it can be seen that 54.02% of employees in the dataset are permitted to work from home (WFH), while 45.98% of employees are not permitted to work from home (WFO). This shows that the majority of employees in the dataset have access to work from home, indicating widespread adoption of remote working (WFH) flexibility."
   ]
  },
  {
   "cell_type": "markdown",
   "metadata": {},
   "source": [
    "## Correlation between Number of Working Hours, Position Level, Stress Score, and Fatigue Level"
   ]
  },
  {
   "cell_type": "code",
   "execution_count": 99,
   "metadata": {},
   "outputs": [
    {
     "data": {
      "text/plain": [
       "Text(0.5, 1.0, 'Heatmap between Number of working hours, Position Level, Stress Score, and Fatigue Level')"
      ]
     },
     "execution_count": 99,
     "metadata": {},
     "output_type": "execute_result"
    },
    {
     "data": {
      "image/png": "[encoded data removed]",
      "text/plain": [
       "<Figure size 500x600 with 2 Axes>"
      ]
     },
     "metadata": {},
     "output_type": "display_data"
    }
   ],
   "source": [
    "fig, axes = plt.subplots( figsize=(5, 6))\n",
    "\n",
    "sns.heatmap(df_train[['Designation', 'Resource Allocation',\n",
    "        'Mental Fatigue Score', 'Burn Rate']].corr(),annot=True)\n",
    "plt.title('Heatmap between Number of working hours, Position Level, Stress Score, and Fatigue Level')"
   ]
  },
  {
   "cell_type": "markdown",
   "metadata": {},
   "source": [
    "Based on the heatmap visualization which depicts the correlation between columns using the Spearman method, the resource allocation column (number of working hours), the mental fatigue score column (stress level) has a strong correlation with the burn rate (burn out) level."
   ]
  },
  {
   "cell_type": "markdown",
   "metadata": {},
   "source": [
    "# Feature Engineering"
   ]
  },
  {
   "cell_type": "markdown",
   "metadata": {},
   "source": [
    "## Handling cardinality"
   ]
  },
  {
   "cell_type": "code",
   "execution_count": 100,
   "metadata": {},
   "outputs": [
    {
     "data": {
      "text/html": [
       "<div>\n",
       "<style scoped>\n",
       "    .dataframe tbody tr th:only-of-type {\n",
       "        vertical-align: middle;\n",
       "    }\n",
       "\n",
       "    .dataframe tbody tr th {\n",
       "        vertical-align: top;\n",
       "    }\n",
       "\n",
       "    .dataframe thead th {\n",
       "        text-align: right;\n",
       "    }\n",
       "</style>\n",
       "<table border=\"1\" class=\"dataframe\">\n",
       "  <thead>\n",
       "    <tr style=\"text-align: right;\">\n",
       "      <th></th>\n",
       "      <th>column name</th>\n",
       "      <th>number of unique values</th>\n",
       "    </tr>\n",
       "  </thead>\n",
       "  <tbody>\n",
       "    <tr>\n",
       "      <th>0</th>\n",
       "      <td>Employee ID</td>\n",
       "      <td>22750</td>\n",
       "    </tr>\n",
       "    <tr>\n",
       "      <th>1</th>\n",
       "      <td>Date of Joining</td>\n",
       "      <td>366</td>\n",
       "    </tr>\n",
       "    <tr>\n",
       "      <th>2</th>\n",
       "      <td>Gender</td>\n",
       "      <td>2</td>\n",
       "    </tr>\n",
       "    <tr>\n",
       "      <th>3</th>\n",
       "      <td>Company Type</td>\n",
       "      <td>2</td>\n",
       "    </tr>\n",
       "    <tr>\n",
       "      <th>4</th>\n",
       "      <td>WFH Setup Available</td>\n",
       "      <td>2</td>\n",
       "    </tr>\n",
       "  </tbody>\n",
       "</table>\n",
       "</div>"
      ],
      "text/plain": [
       "           column name  number of unique values\n",
       "0          Employee ID                    22750\n",
       "1      Date of Joining                      366\n",
       "2               Gender                        2\n",
       "3         Company Type                        2\n",
       "4  WFH Setup Available                        2"
      ]
     },
     "execution_count": 100,
     "metadata": {},
     "output_type": "execute_result"
    }
   ],
   "source": [
    "#to display unique values from categorical (and numeric) columns\n",
    "cat = (df_train.select_dtypes(include=['object','datetime64']).columns)\n",
    "\n",
    "listItem = []\n",
    "for col in cat:\n",
    "  listItem.append([col, df_train[col].nunique()])\n",
    "\n",
    "pd.DataFrame(columns=['column name', 'number of unique values'], data=listItem)"
   ]
  },
  {
   "cell_type": "markdown",
   "metadata": {},
   "source": [
    "Based on calculations, results were obtained for high and low cardinality.  \n",
    "High cardinality = Employee ID and date of joining  \n",
    "low cardinality = Gender, Company Type, and WFH Setup Available  "
   ]
  },
  {
   "cell_type": "markdown",
   "metadata": {},
   "source": [
    "__Must Do!__\n",
    "For data with low cardinality, encoding can be done, for high cardinality data it must first be checked to see whether it is correlated with the target."
   ]
  },
  {
   "cell_type": "markdown",
   "metadata": {},
   "source": [
    "## Split X dan Y"
   ]
  },
  {
   "cell_type": "markdown",
   "metadata": {},
   "source": [
    "The target we want to know is the burn out level of employees so that  \n",
    "Y = burn rate column"
   ]
  },
  {
   "cell_type": "code",
   "execution_count": 35,
   "metadata": {},
   "outputs": [],
   "source": [
    "#separation of features and targets\n",
    "X = df_train.drop(['Burn Rate'], axis = 1)\n",
    "y = df_train['Burn Rate']"
   ]
  },
  {
   "cell_type": "code",
   "execution_count": 36,
   "metadata": {},
   "outputs": [
    {
     "name": "stdout",
     "output_type": "stream",
     "text": [
      "Train Size:  (17062, 8)\n",
      "Test Size:  (5688, 8)\n"
     ]
    }
   ],
   "source": [
    "#separation between train dataset and test dataset.\n",
    "\n",
    "X_train, X_test, y_train, y_test = train_test_split(X, y, test_size = 0.25, random_state = 30)\n",
    "print('Train Size: ', X_train.shape)\n",
    "print('Test Size: ', X_test.shape)"
   ]
  },
  {
   "cell_type": "markdown",
   "metadata": {},
   "source": [
    "This model uses 65%/414684 data for training from the dataset and will be tested with 25%/5688 data. why use this comparison to reduce the possibility of overfitting and lowfitting models."
   ]
  },
  {
   "cell_type": "markdown",
   "metadata": {},
   "source": [
    "## Handling Outlier"
   ]
  },
  {
   "cell_type": "code",
   "execution_count": 102,
   "metadata": {},
   "outputs": [
    {
     "data": {
      "text/html": [
       "<div>\n",
       "<style scoped>\n",
       "    .dataframe tbody tr th:only-of-type {\n",
       "        vertical-align: middle;\n",
       "    }\n",
       "\n",
       "    .dataframe tbody tr th {\n",
       "        vertical-align: top;\n",
       "    }\n",
       "\n",
       "    .dataframe thead th {\n",
       "        text-align: right;\n",
       "    }\n",
       "</style>\n",
       "<table border=\"1\" class=\"dataframe\">\n",
       "  <thead>\n",
       "    <tr style=\"text-align: right;\">\n",
       "      <th></th>\n",
       "      <th>column name</th>\n",
       "      <th>skewness</th>\n",
       "      <th>skewness value</th>\n",
       "    </tr>\n",
       "  </thead>\n",
       "  <tbody>\n",
       "    <tr>\n",
       "      <th>0</th>\n",
       "      <td>Designation</td>\n",
       "      <td>normal</td>\n",
       "      <td>-0.43056</td>\n",
       "    </tr>\n",
       "    <tr>\n",
       "      <th>1</th>\n",
       "      <td>Resource Allocation</td>\n",
       "      <td>normal</td>\n",
       "      <td>-0.43056</td>\n",
       "    </tr>\n",
       "    <tr>\n",
       "      <th>2</th>\n",
       "      <td>Mental Fatigue Score</td>\n",
       "      <td>normal</td>\n",
       "      <td>-0.43056</td>\n",
       "    </tr>\n",
       "  </tbody>\n",
       "</table>\n",
       "</div>"
      ],
      "text/plain": [
       "            column name skewness  skewness value\n",
       "0           Designation   normal        -0.43056\n",
       "1   Resource Allocation   normal        -0.43056\n",
       "2  Mental Fatigue Score   normal        -0.43056"
      ]
     },
     "execution_count": 102,
     "metadata": {},
     "output_type": "execute_result"
    }
   ],
   "source": [
    "#syntax to find out the skew value and type of skewness\n",
    "num_cols = list(X_train.select_dtypes(exclude=['object','datetime64']).columns)\n",
    "\n",
    "\n",
    "kolom = []\n",
    "skewnes = []\n",
    "skews = []\n",
    "\n",
    "for col in num_cols:\n",
    "  skew = X_train[col].skew()\n",
    "  kolom.append(col)\n",
    "\n",
    "  if skew >= -0.5 and skew <= 0.5:\n",
    "    skewnes.append('normal')\n",
    "  else:\n",
    "    skewnes.append('skew')\n",
    "  skews.append(skew)\n",
    "\n",
    "kolskew = pd.DataFrame({'column name' : kolom , 'skewness' : skewnes,'skewness value':skew })\n",
    "kolskew\n"
   ]
  },
  {
   "cell_type": "markdown",
   "metadata": {},
   "source": [
    "Below is a column that groups skewed and normal data. The distribution is skewed or normal, determined from a skew value that is greater than 0.5 or smaller than -0.5, then the value is skewed. Below this value can be called normal distribution. Based on the calculations above, there is no skew in the data for the numerical column. All data tends to have a normal distribution."
   ]
  },
  {
   "cell_type": "code",
   "execution_count": 38,
   "metadata": {},
   "outputs": [],
   "source": [
    "#normal column grouping\n",
    "normal = list(kolskew[kolskew['skewness']== \"normal\"]['nama_kolom'])\n"
   ]
  },
  {
   "cell_type": "markdown",
   "metadata": {},
   "source": [
    "### Proses Capping dengan Winsorizer"
   ]
  },
  {
   "cell_type": "markdown",
   "metadata": {},
   "source": [
    "__Winsorizer untuk persebaran normal__"
   ]
  },
  {
   "cell_type": "code",
   "execution_count": 39,
   "metadata": {},
   "outputs": [],
   "source": [
    "#syntax for handling outliers by capping using winsorizer for gaussian capping method\n",
    "\n",
    "winsorisernorm = Winsorizer(capping_method='gaussian',\n",
    "                            tail='both',\n",
    "                            fold=3,\n",
    "                            variables= normal,\n",
    "                            missing_values='ignore')\n",
    "\n",
    "X_train_capped = winsorisernorm.fit_transform(X_train)\n",
    "X_test_capped = winsorisernorm.transform(X_test)"
   ]
  },
  {
   "cell_type": "markdown",
   "metadata": {},
   "source": [
    "Columns with normal distribution have been successfully capped."
   ]
  },
  {
   "cell_type": "code",
   "execution_count": 40,
   "metadata": {},
   "outputs": [
    {
     "name": "stdout",
     "output_type": "stream",
     "text": [
      "Designation - Before Capping\n"
     ]
    },
    {
     "data": {
      "image/png": "[encoded data removed]",
      "text/plain": [
       "<Figure size 1600x400 with 2 Axes>"
      ]
     },
     "metadata": {},
     "output_type": "display_data"
    },
    {
     "name": "stdout",
     "output_type": "stream",
     "text": [
      "\n",
      "Designation - After Capping\n"
     ]
    },
    {
     "data": {
      "image/png": "[encoded data removed]",
      "text/plain": [
       "<Figure size 1600x400 with 2 Axes>"
      ]
     },
     "metadata": {},
     "output_type": "display_data"
    },
    {
     "name": "stdout",
     "output_type": "stream",
     "text": [
      "Resource Allocation - Before Capping\n"
     ]
    },
    {
     "data": {
      "image/png": "[encoded data removed]",
      "text/plain": [
       "<Figure size 1600x400 with 2 Axes>"
      ]
     },
     "metadata": {},
     "output_type": "display_data"
    },
    {
     "name": "stdout",
     "output_type": "stream",
     "text": [
      "\n",
      "Resource Allocation - After Capping\n"
     ]
    },
    {
     "data": {
      "image/png": "[encoded data removed]",
      "text/plain": [
       "<Figure size 1600x400 with 2 Axes>"
      ]
     },
     "metadata": {},
     "output_type": "display_data"
    },
    {
     "name": "stdout",
     "output_type": "stream",
     "text": [
      "Mental Fatigue Score - Before Capping\n"
     ]
    },
    {
     "data": {
      "image/png": "[encoded data removed]",
      "text/plain": [
       "<Figure size 1600x400 with 2 Axes>"
      ]
     },
     "metadata": {},
     "output_type": "display_data"
    },
    {
     "name": "stdout",
     "output_type": "stream",
     "text": [
      "\n",
      "Mental Fatigue Score - After Capping\n"
     ]
    },
    {
     "data": {
      "image/png": "[encoded data removed]",
      "text/plain": [
       "<Figure size 1600x400 with 2 Axes>"
      ]
     },
     "metadata": {},
     "output_type": "display_data"
    }
   ],
   "source": [
    "# Function to display histograms and boxplots from columns.\n",
    "def diagnostic_plots(df, variable):\n",
    "    # Define figure size\n",
    "    plt.figure(figsize=(16, 4))\n",
    "\n",
    "    # Histogram\n",
    "    plt.subplot(1, 2, 1)\n",
    "    sns.histplot(df[variable], bins=30)\n",
    "    plt.title('Histogram')\n",
    "\n",
    "    # Boxplot\n",
    "    plt.subplot(1, 2, 2)\n",
    "    sns.boxplot(y=df[variable])\n",
    "    plt.title('Boxplot')\n",
    "\n",
    "    plt.show()\n",
    "\n",
    "\n",
    "for col in num_cols:\n",
    "  print(f'{col} - Before Capping')\n",
    "  diagnostic_plots(X_train, col)\n",
    "\n",
    "  print(f'\\n{col} - After Capping')\n",
    "  diagnostic_plots(X_train_capped, col)"
   ]
  },
  {
   "cell_type": "markdown",
   "metadata": {},
   "source": [
    "Based on the capping results, the mental fatigue score column does not change based on the capping results. capping will be carried out using the IQR method"
   ]
  },
  {
   "cell_type": "code",
   "execution_count": 41,
   "metadata": {},
   "outputs": [],
   "source": [
    "ske = ['Mental Fatigue Score']"
   ]
  },
  {
   "cell_type": "code",
   "execution_count": 42,
   "metadata": {},
   "outputs": [],
   "source": [
    "# syntax for handling outliers by capping using winsorizer for the IQR capping method\n",
    "\n",
    "winsoriserskew = Winsorizer(capping_method='iqr',\n",
    "                            tail='both',\n",
    "                            fold=1.5,\n",
    "                            variables= ske,\n",
    "                            missing_values='ignore')\n",
    "\n",
    "X_train_capped = winsoriserskew.fit_transform(X_train_capped)\n",
    "X_test_capped = winsorisernorm.transform(X_test_capped)"
   ]
  },
  {
   "cell_type": "markdown",
   "metadata": {},
   "source": [
    "The capping process was successfully carried out"
   ]
  },
  {
   "cell_type": "code",
   "execution_count": 43,
   "metadata": {},
   "outputs": [
    {
     "name": "stdout",
     "output_type": "stream",
     "text": [
      "Mental Fatigue Score - Before Capping\n"
     ]
    },
    {
     "data": {
      "image/png": "[encoded data removed]",
      "text/plain": [
       "<Figure size 1600x400 with 2 Axes>"
      ]
     },
     "metadata": {},
     "output_type": "display_data"
    },
    {
     "name": "stdout",
     "output_type": "stream",
     "text": [
      "Mental Fatigue Score - After Capping\n"
     ]
    },
    {
     "data": {
      "image/png": "[encoded data removed]",
      "text/plain": [
       "<Figure size 1600x400 with 2 Axes>"
      ]
     },
     "metadata": {},
     "output_type": "display_data"
    }
   ],
   "source": [
    "# Function to display histograms and boxplots from columns.\n",
    "def diagnostic_plots(df, variable):\n",
    "    # Define figure size\n",
    "    plt.figure(figsize=(16, 4))\n",
    "\n",
    "    # Histogram\n",
    "    plt.subplot(1, 2, 1)\n",
    "    sns.histplot(df[variable], bins=30)\n",
    "    plt.title('Histogram')\n",
    "\n",
    "    # Boxplot\n",
    "    plt.subplot(1, 2, 2)\n",
    "    sns.boxplot(y=df[variable])\n",
    "    plt.title('Boxplot')\n",
    "\n",
    "    plt.show()\n",
    "\n",
    "\n",
    "\n",
    "print(f'Mental Fatigue Score - Before Capping')\n",
    "diagnostic_plots(X_train, 'Mental Fatigue Score')\n",
    "\n",
    "print(f'Mental Fatigue Score - After Capping')\n",
    "diagnostic_plots(X_train_capped, 'Mental Fatigue Score')"
   ]
  },
  {
   "cell_type": "markdown",
   "metadata": {},
   "source": [
    "semua data sudah terhandle outliernya, selanjutnya adalah handling missing value"
   ]
  },
  {
   "cell_type": "markdown",
   "metadata": {},
   "source": [
    "## Handling Missing Value"
   ]
  },
  {
   "cell_type": "code",
   "execution_count": 44,
   "metadata": {},
   "outputs": [
    {
     "name": "stdout",
     "output_type": "stream",
     "text": [
      "Null di X_train Employee ID                0\n",
      "Date of Joining            0\n",
      "Gender                     0\n",
      "Company Type               0\n",
      "WFH Setup Available        0\n",
      "Designation                0\n",
      "Resource Allocation     1035\n",
      "Mental Fatigue Score    1598\n",
      "dtype: int64\n"
     ]
    }
   ],
   "source": [
    "#displays the number of missing values in the train data.\n",
    "\n",
    "print(\"Null di X_train\",X_train_capped.isnull().sum())\n"
   ]
  },
  {
   "cell_type": "markdown",
   "metadata": {},
   "source": [
    "There are outliers in the resource allocation and mental fatigue score columns"
   ]
  },
  {
   "cell_type": "code",
   "execution_count": 45,
   "metadata": {},
   "outputs": [
    {
     "name": "stdout",
     "output_type": "stream",
     "text": [
      "Null di X_test Employee ID               0\n",
      "Date of Joining           0\n",
      "Gender                    0\n",
      "Company Type              0\n",
      "WFH Setup Available       0\n",
      "Designation               0\n",
      "Resource Allocation     346\n",
      "Mental Fatigue Score    519\n",
      "dtype: int64\n"
     ]
    }
   ],
   "source": [
    "#displays the number of missing values in the test data.\n",
    "\n",
    "print(\"Null di X_test\",X_test_capped.isnull().sum())\n"
   ]
  },
  {
   "cell_type": "markdown",
   "metadata": {},
   "source": [
    "There are outliers in the resource allocation and mental fatigue score columns"
   ]
  },
  {
   "cell_type": "code",
   "execution_count": 46,
   "metadata": {},
   "outputs": [
    {
     "name": "stdout",
     "output_type": "stream",
     "text": [
      "Null di y_train 842\n",
      "Null di y_test 282\n"
     ]
    }
   ],
   "source": [
    "#displays the number of missing values in the y train and test data.\n",
    "\n",
    "print(\"Null di y_train\",y_train.isnull().sum())\n",
    "print(\"Null di y_test\",y_test.isnull().sum())\n"
   ]
  },
  {
   "cell_type": "markdown",
   "metadata": {},
   "source": [
    "There are outliers in the burn rate column or target column."
   ]
  },
  {
   "cell_type": "code",
   "execution_count": 47,
   "metadata": {},
   "outputs": [
    {
     "name": "stdout",
     "output_type": "stream",
     "text": [
      "Total passengers in the Titanic               :  22750\n",
      "Total passengers with values in all variables :  18590\n",
      "Percentage of data without missing values (%) :  81.71428571428572\n"
     ]
    }
   ],
   "source": [
    "# Count How Many Observations that We Would Drop\n",
    "\n",
    "handleMisval = df_train.copy()\n",
    "print('Total passengers in the Titanic               : ', handleMisval.shape[0])\n",
    "print('Total passengers with values in all variables : ', handleMisval.dropna().shape[0])\n",
    "print('Percentage of data without missing values (%) : ', handleMisval.dropna().shape[0] / handleMisval.shape[0] * 100)"
   ]
  },
  {
   "cell_type": "markdown",
   "metadata": {},
   "source": [
    "Null data contained in the target/y_train/y_test column must not be handled and must be trimmed/dropped so as not to produce biased data."
   ]
  },
  {
   "cell_type": "code",
   "execution_count": 48,
   "metadata": {},
   "outputs": [],
   "source": [
    "#store the target data index which is null\n",
    "\n",
    "nulYtrain = y_train[y_train.isnull()].index.tolist()\n",
    "nulYtest = y_test[y_test.isnull()].index.tolist()"
   ]
  },
  {
   "cell_type": "code",
   "execution_count": 49,
   "metadata": {},
   "outputs": [],
   "source": [
    "#drop null data on the target and drop the same row on the X train and test data\n",
    "\n",
    "\n",
    "X_train_capped = X_train_capped.drop(index=nulYtrain)\n",
    "X_test_capped = X_test_capped.drop(index=nulYtest)\n",
    "\n",
    "y_train.dropna(inplace=True)\n",
    "y_test.dropna(inplace=True)\n"
   ]
  },
  {
   "cell_type": "markdown",
   "metadata": {},
   "source": [
    "The target column has had its nulls removed. The next step is to handle outliers in data X."
   ]
  },
  {
   "cell_type": "code",
   "execution_count": 50,
   "metadata": {},
   "outputs": [
    {
     "data": {
      "image/png": "[encoded data removed]",
      "text/plain": [
       "<Figure size 800x600 with 1 Axes>"
      ]
     },
     "metadata": {},
     "output_type": "display_data"
    }
   ],
   "source": [
    "#Checking the distribution of outlier data using a heatmap\n",
    "plt.figure(figsize=(8, 6))\n",
    "sns.heatmap(X_train_capped.isnull(), cmap='viridis', cbar=False)\n",
    "plt.title('Heatmap of Null Data')\n",
    "plt.xlabel('Variables')\n",
    "plt.ylabel('Rows')\n",
    "plt.show()"
   ]
  },
  {
   "cell_type": "code",
   "execution_count": 51,
   "metadata": {},
   "outputs": [
    {
     "data": {
      "text/html": [
       "<div>\n",
       "<style scoped>\n",
       "    .dataframe tbody tr th:only-of-type {\n",
       "        vertical-align: middle;\n",
       "    }\n",
       "\n",
       "    .dataframe tbody tr th {\n",
       "        vertical-align: top;\n",
       "    }\n",
       "\n",
       "    .dataframe thead th {\n",
       "        text-align: right;\n",
       "    }\n",
       "</style>\n",
       "<table border=\"1\" class=\"dataframe\">\n",
       "  <thead>\n",
       "    <tr style=\"text-align: right;\">\n",
       "      <th></th>\n",
       "      <th>Employee ID</th>\n",
       "      <th>Date of Joining</th>\n",
       "      <th>Gender</th>\n",
       "      <th>Company Type</th>\n",
       "      <th>WFH Setup Available</th>\n",
       "      <th>Designation</th>\n",
       "      <th>Resource Allocation</th>\n",
       "      <th>Mental Fatigue Score</th>\n",
       "    </tr>\n",
       "  </thead>\n",
       "  <tbody>\n",
       "    <tr>\n",
       "      <th>2513</th>\n",
       "      <td>fffe32003200340031003100</td>\n",
       "      <td>2008-04-06</td>\n",
       "      <td>Female</td>\n",
       "      <td>Service</td>\n",
       "      <td>Yes</td>\n",
       "      <td>1.0</td>\n",
       "      <td>NaN</td>\n",
       "      <td>4.5</td>\n",
       "    </tr>\n",
       "    <tr>\n",
       "      <th>13435</th>\n",
       "      <td>fffe31003200330034003600</td>\n",
       "      <td>2008-08-27</td>\n",
       "      <td>Male</td>\n",
       "      <td>Service</td>\n",
       "      <td>Yes</td>\n",
       "      <td>2.0</td>\n",
       "      <td>NaN</td>\n",
       "      <td>4.5</td>\n",
       "    </tr>\n",
       "    <tr>\n",
       "      <th>11169</th>\n",
       "      <td>fffe3600310038003400</td>\n",
       "      <td>2008-04-28</td>\n",
       "      <td>Female</td>\n",
       "      <td>Product</td>\n",
       "      <td>Yes</td>\n",
       "      <td>2.0</td>\n",
       "      <td>NaN</td>\n",
       "      <td>7.1</td>\n",
       "    </tr>\n",
       "    <tr>\n",
       "      <th>10752</th>\n",
       "      <td>fffe31003300370036003100</td>\n",
       "      <td>2008-10-29</td>\n",
       "      <td>Female</td>\n",
       "      <td>Product</td>\n",
       "      <td>No</td>\n",
       "      <td>3.0</td>\n",
       "      <td>NaN</td>\n",
       "      <td>NaN</td>\n",
       "    </tr>\n",
       "    <tr>\n",
       "      <th>15389</th>\n",
       "      <td>fffe31003200360032003600</td>\n",
       "      <td>2008-05-02</td>\n",
       "      <td>Male</td>\n",
       "      <td>Product</td>\n",
       "      <td>Yes</td>\n",
       "      <td>2.0</td>\n",
       "      <td>NaN</td>\n",
       "      <td>7.9</td>\n",
       "    </tr>\n",
       "    <tr>\n",
       "      <th>1810</th>\n",
       "      <td>fffe3400310032003500</td>\n",
       "      <td>2008-02-17</td>\n",
       "      <td>Male</td>\n",
       "      <td>Service</td>\n",
       "      <td>Yes</td>\n",
       "      <td>3.0</td>\n",
       "      <td>NaN</td>\n",
       "      <td>7.4</td>\n",
       "    </tr>\n",
       "    <tr>\n",
       "      <th>7476</th>\n",
       "      <td>fffe32003100350032003900</td>\n",
       "      <td>2008-09-07</td>\n",
       "      <td>Female</td>\n",
       "      <td>Product</td>\n",
       "      <td>Yes</td>\n",
       "      <td>3.0</td>\n",
       "      <td>NaN</td>\n",
       "      <td>6.2</td>\n",
       "    </tr>\n",
       "    <tr>\n",
       "      <th>3310</th>\n",
       "      <td>fffe31003600390035003900</td>\n",
       "      <td>2008-01-01</td>\n",
       "      <td>Female</td>\n",
       "      <td>Service</td>\n",
       "      <td>Yes</td>\n",
       "      <td>2.0</td>\n",
       "      <td>NaN</td>\n",
       "      <td>4.7</td>\n",
       "    </tr>\n",
       "    <tr>\n",
       "      <th>14194</th>\n",
       "      <td>fffe31003900330034003300</td>\n",
       "      <td>2008-09-30</td>\n",
       "      <td>Male</td>\n",
       "      <td>Service</td>\n",
       "      <td>No</td>\n",
       "      <td>4.0</td>\n",
       "      <td>NaN</td>\n",
       "      <td>8.5</td>\n",
       "    </tr>\n",
       "    <tr>\n",
       "      <th>17596</th>\n",
       "      <td>fffe3700390033003500</td>\n",
       "      <td>2008-03-18</td>\n",
       "      <td>Male</td>\n",
       "      <td>Service</td>\n",
       "      <td>Yes</td>\n",
       "      <td>2.0</td>\n",
       "      <td>NaN</td>\n",
       "      <td>NaN</td>\n",
       "    </tr>\n",
       "    <tr>\n",
       "      <th>17792</th>\n",
       "      <td>fffe31003400310039003200</td>\n",
       "      <td>2008-06-29</td>\n",
       "      <td>Male</td>\n",
       "      <td>Service</td>\n",
       "      <td>No</td>\n",
       "      <td>1.0</td>\n",
       "      <td>NaN</td>\n",
       "      <td>4.2</td>\n",
       "    </tr>\n",
       "    <tr>\n",
       "      <th>5827</th>\n",
       "      <td>fffe31003800310030003200</td>\n",
       "      <td>2008-06-21</td>\n",
       "      <td>Male</td>\n",
       "      <td>Service</td>\n",
       "      <td>Yes</td>\n",
       "      <td>2.0</td>\n",
       "      <td>NaN</td>\n",
       "      <td>5.8</td>\n",
       "    </tr>\n",
       "    <tr>\n",
       "      <th>13426</th>\n",
       "      <td>fffe3600360037003400</td>\n",
       "      <td>2008-01-16</td>\n",
       "      <td>Male</td>\n",
       "      <td>Service</td>\n",
       "      <td>No</td>\n",
       "      <td>0.0</td>\n",
       "      <td>NaN</td>\n",
       "      <td>NaN</td>\n",
       "    </tr>\n",
       "    <tr>\n",
       "      <th>21462</th>\n",
       "      <td>fffe3200370035003600</td>\n",
       "      <td>2008-08-05</td>\n",
       "      <td>Female</td>\n",
       "      <td>Service</td>\n",
       "      <td>Yes</td>\n",
       "      <td>1.0</td>\n",
       "      <td>NaN</td>\n",
       "      <td>3.7</td>\n",
       "    </tr>\n",
       "    <tr>\n",
       "      <th>10453</th>\n",
       "      <td>fffe31003100330033003400</td>\n",
       "      <td>2008-04-20</td>\n",
       "      <td>Male</td>\n",
       "      <td>Product</td>\n",
       "      <td>Yes</td>\n",
       "      <td>2.0</td>\n",
       "      <td>NaN</td>\n",
       "      <td>4.3</td>\n",
       "    </tr>\n",
       "    <tr>\n",
       "      <th>7900</th>\n",
       "      <td>fffe31003500370035003300</td>\n",
       "      <td>2008-04-01</td>\n",
       "      <td>Female</td>\n",
       "      <td>Product</td>\n",
       "      <td>No</td>\n",
       "      <td>2.0</td>\n",
       "      <td>NaN</td>\n",
       "      <td>7.0</td>\n",
       "    </tr>\n",
       "    <tr>\n",
       "      <th>7294</th>\n",
       "      <td>fffe3400320035003200</td>\n",
       "      <td>2008-09-14</td>\n",
       "      <td>Male</td>\n",
       "      <td>Service</td>\n",
       "      <td>No</td>\n",
       "      <td>3.0</td>\n",
       "      <td>NaN</td>\n",
       "      <td>7.0</td>\n",
       "    </tr>\n",
       "    <tr>\n",
       "      <th>3226</th>\n",
       "      <td>fffe31003500330031003900</td>\n",
       "      <td>2008-08-13</td>\n",
       "      <td>Female</td>\n",
       "      <td>Product</td>\n",
       "      <td>Yes</td>\n",
       "      <td>1.0</td>\n",
       "      <td>NaN</td>\n",
       "      <td>5.7</td>\n",
       "    </tr>\n",
       "    <tr>\n",
       "      <th>22325</th>\n",
       "      <td>fffe3800340033003200</td>\n",
       "      <td>2008-04-13</td>\n",
       "      <td>Female</td>\n",
       "      <td>Product</td>\n",
       "      <td>No</td>\n",
       "      <td>2.0</td>\n",
       "      <td>NaN</td>\n",
       "      <td>7.2</td>\n",
       "    </tr>\n",
       "    <tr>\n",
       "      <th>21279</th>\n",
       "      <td>fffe31003900390037003800</td>\n",
       "      <td>2008-05-17</td>\n",
       "      <td>Female</td>\n",
       "      <td>Service</td>\n",
       "      <td>No</td>\n",
       "      <td>2.0</td>\n",
       "      <td>NaN</td>\n",
       "      <td>7.3</td>\n",
       "    </tr>\n",
       "    <tr>\n",
       "      <th>14680</th>\n",
       "      <td>fffe31003900300038003100</td>\n",
       "      <td>2008-05-22</td>\n",
       "      <td>Female</td>\n",
       "      <td>Service</td>\n",
       "      <td>Yes</td>\n",
       "      <td>2.0</td>\n",
       "      <td>NaN</td>\n",
       "      <td>3.2</td>\n",
       "    </tr>\n",
       "    <tr>\n",
       "      <th>3057</th>\n",
       "      <td>fffe32003100360036003200</td>\n",
       "      <td>2008-11-02</td>\n",
       "      <td>Female</td>\n",
       "      <td>Service</td>\n",
       "      <td>Yes</td>\n",
       "      <td>1.0</td>\n",
       "      <td>NaN</td>\n",
       "      <td>4.4</td>\n",
       "    </tr>\n",
       "    <tr>\n",
       "      <th>9427</th>\n",
       "      <td>fffe3200340038003500</td>\n",
       "      <td>2008-12-21</td>\n",
       "      <td>Female</td>\n",
       "      <td>Service</td>\n",
       "      <td>Yes</td>\n",
       "      <td>2.0</td>\n",
       "      <td>NaN</td>\n",
       "      <td>NaN</td>\n",
       "    </tr>\n",
       "    <tr>\n",
       "      <th>19580</th>\n",
       "      <td>fffe31003200360033003500</td>\n",
       "      <td>2008-08-20</td>\n",
       "      <td>Female</td>\n",
       "      <td>Service</td>\n",
       "      <td>Yes</td>\n",
       "      <td>2.0</td>\n",
       "      <td>NaN</td>\n",
       "      <td>5.2</td>\n",
       "    </tr>\n",
       "    <tr>\n",
       "      <th>4886</th>\n",
       "      <td>fffe31003300390036003300</td>\n",
       "      <td>2008-03-29</td>\n",
       "      <td>Male</td>\n",
       "      <td>Service</td>\n",
       "      <td>No</td>\n",
       "      <td>0.0</td>\n",
       "      <td>NaN</td>\n",
       "      <td>NaN</td>\n",
       "    </tr>\n",
       "    <tr>\n",
       "      <th>8618</th>\n",
       "      <td>fffe31003500310033003100</td>\n",
       "      <td>2008-01-03</td>\n",
       "      <td>Male</td>\n",
       "      <td>Service</td>\n",
       "      <td>No</td>\n",
       "      <td>1.0</td>\n",
       "      <td>NaN</td>\n",
       "      <td>3.0</td>\n",
       "    </tr>\n",
       "    <tr>\n",
       "      <th>18176</th>\n",
       "      <td>fffe3600320035003900</td>\n",
       "      <td>2008-02-08</td>\n",
       "      <td>Female</td>\n",
       "      <td>Product</td>\n",
       "      <td>Yes</td>\n",
       "      <td>2.0</td>\n",
       "      <td>NaN</td>\n",
       "      <td>5.6</td>\n",
       "    </tr>\n",
       "    <tr>\n",
       "      <th>2295</th>\n",
       "      <td>fffe31003500300034003000</td>\n",
       "      <td>2008-02-06</td>\n",
       "      <td>Female</td>\n",
       "      <td>Product</td>\n",
       "      <td>No</td>\n",
       "      <td>1.0</td>\n",
       "      <td>NaN</td>\n",
       "      <td>4.2</td>\n",
       "    </tr>\n",
       "    <tr>\n",
       "      <th>18092</th>\n",
       "      <td>fffe31003900340034003600</td>\n",
       "      <td>2008-02-10</td>\n",
       "      <td>Female</td>\n",
       "      <td>Product</td>\n",
       "      <td>Yes</td>\n",
       "      <td>0.0</td>\n",
       "      <td>NaN</td>\n",
       "      <td>1.8</td>\n",
       "    </tr>\n",
       "    <tr>\n",
       "      <th>2163</th>\n",
       "      <td>fffe31003700350037003900</td>\n",
       "      <td>2008-03-24</td>\n",
       "      <td>Female</td>\n",
       "      <td>Service</td>\n",
       "      <td>No</td>\n",
       "      <td>2.0</td>\n",
       "      <td>NaN</td>\n",
       "      <td>NaN</td>\n",
       "    </tr>\n",
       "    <tr>\n",
       "      <th>1148</th>\n",
       "      <td>fffe31003700350035003200</td>\n",
       "      <td>2008-07-04</td>\n",
       "      <td>Female</td>\n",
       "      <td>Service</td>\n",
       "      <td>Yes</td>\n",
       "      <td>3.0</td>\n",
       "      <td>NaN</td>\n",
       "      <td>NaN</td>\n",
       "    </tr>\n",
       "    <tr>\n",
       "      <th>19163</th>\n",
       "      <td>fffe31003400340037003900</td>\n",
       "      <td>2008-03-26</td>\n",
       "      <td>Male</td>\n",
       "      <td>Service</td>\n",
       "      <td>No</td>\n",
       "      <td>2.0</td>\n",
       "      <td>NaN</td>\n",
       "      <td>4.3</td>\n",
       "    </tr>\n",
       "    <tr>\n",
       "      <th>1027</th>\n",
       "      <td>fffe3700310034003100</td>\n",
       "      <td>2008-09-22</td>\n",
       "      <td>Male</td>\n",
       "      <td>Service</td>\n",
       "      <td>Yes</td>\n",
       "      <td>2.0</td>\n",
       "      <td>NaN</td>\n",
       "      <td>2.7</td>\n",
       "    </tr>\n",
       "    <tr>\n",
       "      <th>7736</th>\n",
       "      <td>fffe31003900350036003800</td>\n",
       "      <td>2008-04-21</td>\n",
       "      <td>Male</td>\n",
       "      <td>Service</td>\n",
       "      <td>No</td>\n",
       "      <td>2.0</td>\n",
       "      <td>NaN</td>\n",
       "      <td>7.6</td>\n",
       "    </tr>\n",
       "    <tr>\n",
       "      <th>3506</th>\n",
       "      <td>fffe3300330038003600</td>\n",
       "      <td>2008-11-09</td>\n",
       "      <td>Male</td>\n",
       "      <td>Service</td>\n",
       "      <td>Yes</td>\n",
       "      <td>0.0</td>\n",
       "      <td>NaN</td>\n",
       "      <td>2.3</td>\n",
       "    </tr>\n",
       "    <tr>\n",
       "      <th>21425</th>\n",
       "      <td>fffe31003000380032003500</td>\n",
       "      <td>2008-04-09</td>\n",
       "      <td>Male</td>\n",
       "      <td>Product</td>\n",
       "      <td>Yes</td>\n",
       "      <td>1.0</td>\n",
       "      <td>NaN</td>\n",
       "      <td>2.7</td>\n",
       "    </tr>\n",
       "    <tr>\n",
       "      <th>5804</th>\n",
       "      <td>fffe3800360035003900</td>\n",
       "      <td>2008-07-12</td>\n",
       "      <td>Male</td>\n",
       "      <td>Product</td>\n",
       "      <td>Yes</td>\n",
       "      <td>3.0</td>\n",
       "      <td>NaN</td>\n",
       "      <td>6.5</td>\n",
       "    </tr>\n",
       "    <tr>\n",
       "      <th>15233</th>\n",
       "      <td>fffe31003000380031003500</td>\n",
       "      <td>2008-01-05</td>\n",
       "      <td>Female</td>\n",
       "      <td>Service</td>\n",
       "      <td>Yes</td>\n",
       "      <td>3.0</td>\n",
       "      <td>NaN</td>\n",
       "      <td>4.8</td>\n",
       "    </tr>\n",
       "    <tr>\n",
       "      <th>18598</th>\n",
       "      <td>fffe31003100310039003200</td>\n",
       "      <td>2008-10-19</td>\n",
       "      <td>Male</td>\n",
       "      <td>Service</td>\n",
       "      <td>Yes</td>\n",
       "      <td>2.0</td>\n",
       "      <td>NaN</td>\n",
       "      <td>4.3</td>\n",
       "    </tr>\n",
       "    <tr>\n",
       "      <th>6572</th>\n",
       "      <td>fffe31003700390030003900</td>\n",
       "      <td>2008-09-29</td>\n",
       "      <td>Male</td>\n",
       "      <td>Service</td>\n",
       "      <td>Yes</td>\n",
       "      <td>3.0</td>\n",
       "      <td>NaN</td>\n",
       "      <td>5.5</td>\n",
       "    </tr>\n",
       "    <tr>\n",
       "      <th>21032</th>\n",
       "      <td>fffe3600390038003900</td>\n",
       "      <td>2008-08-05</td>\n",
       "      <td>Male</td>\n",
       "      <td>Service</td>\n",
       "      <td>Yes</td>\n",
       "      <td>3.0</td>\n",
       "      <td>NaN</td>\n",
       "      <td>NaN</td>\n",
       "    </tr>\n",
       "    <tr>\n",
       "      <th>22112</th>\n",
       "      <td>fffe31003800360039003400</td>\n",
       "      <td>2008-12-05</td>\n",
       "      <td>Female</td>\n",
       "      <td>Product</td>\n",
       "      <td>Yes</td>\n",
       "      <td>2.0</td>\n",
       "      <td>NaN</td>\n",
       "      <td>6.1</td>\n",
       "    </tr>\n",
       "    <tr>\n",
       "      <th>8787</th>\n",
       "      <td>fffe31003700340031003900</td>\n",
       "      <td>2008-07-07</td>\n",
       "      <td>Female</td>\n",
       "      <td>Product</td>\n",
       "      <td>No</td>\n",
       "      <td>2.0</td>\n",
       "      <td>NaN</td>\n",
       "      <td>7.1</td>\n",
       "    </tr>\n",
       "    <tr>\n",
       "      <th>20851</th>\n",
       "      <td>fffe3500350031003200</td>\n",
       "      <td>2008-07-19</td>\n",
       "      <td>Female</td>\n",
       "      <td>Service</td>\n",
       "      <td>No</td>\n",
       "      <td>2.0</td>\n",
       "      <td>NaN</td>\n",
       "      <td>7.0</td>\n",
       "    </tr>\n",
       "    <tr>\n",
       "      <th>3120</th>\n",
       "      <td>fffe31003000300039003300</td>\n",
       "      <td>2008-12-10</td>\n",
       "      <td>Male</td>\n",
       "      <td>Service</td>\n",
       "      <td>No</td>\n",
       "      <td>2.0</td>\n",
       "      <td>NaN</td>\n",
       "      <td>2.9</td>\n",
       "    </tr>\n",
       "    <tr>\n",
       "      <th>12226</th>\n",
       "      <td>fffe31003000380032003800</td>\n",
       "      <td>2008-06-17</td>\n",
       "      <td>Male</td>\n",
       "      <td>Service</td>\n",
       "      <td>Yes</td>\n",
       "      <td>3.0</td>\n",
       "      <td>NaN</td>\n",
       "      <td>5.8</td>\n",
       "    </tr>\n",
       "    <tr>\n",
       "      <th>10577</th>\n",
       "      <td>fffe3700380034003300</td>\n",
       "      <td>2008-04-07</td>\n",
       "      <td>Male</td>\n",
       "      <td>Service</td>\n",
       "      <td>No</td>\n",
       "      <td>2.0</td>\n",
       "      <td>NaN</td>\n",
       "      <td>7.0</td>\n",
       "    </tr>\n",
       "    <tr>\n",
       "      <th>8092</th>\n",
       "      <td>fffe3700350033003300</td>\n",
       "      <td>2008-10-31</td>\n",
       "      <td>Male</td>\n",
       "      <td>Product</td>\n",
       "      <td>No</td>\n",
       "      <td>5.0</td>\n",
       "      <td>NaN</td>\n",
       "      <td>9.0</td>\n",
       "    </tr>\n",
       "    <tr>\n",
       "      <th>4522</th>\n",
       "      <td>fffe3200390030003500</td>\n",
       "      <td>2008-12-09</td>\n",
       "      <td>Female</td>\n",
       "      <td>Service</td>\n",
       "      <td>No</td>\n",
       "      <td>4.0</td>\n",
       "      <td>NaN</td>\n",
       "      <td>6.9</td>\n",
       "    </tr>\n",
       "    <tr>\n",
       "      <th>5237</th>\n",
       "      <td>fffe32003000350033003200</td>\n",
       "      <td>2008-08-24</td>\n",
       "      <td>Female</td>\n",
       "      <td>Service</td>\n",
       "      <td>Yes</td>\n",
       "      <td>1.0</td>\n",
       "      <td>NaN</td>\n",
       "      <td>NaN</td>\n",
       "    </tr>\n",
       "  </tbody>\n",
       "</table>\n",
       "</div>"
      ],
      "text/plain": [
       "                    Employee ID Date of Joining  Gender Company Type  \\\n",
       "2513   fffe32003200340031003100      2008-04-06  Female      Service   \n",
       "13435  fffe31003200330034003600      2008-08-27    Male      Service   \n",
       "11169      fffe3600310038003400      2008-04-28  Female      Product   \n",
       "10752  fffe31003300370036003100      2008-10-29  Female      Product   \n",
       "15389  fffe31003200360032003600      2008-05-02    Male      Product   \n",
       "1810       fffe3400310032003500      2008-02-17    Male      Service   \n",
       "7476   fffe32003100350032003900      2008-09-07  Female      Product   \n",
       "3310   fffe31003600390035003900      2008-01-01  Female      Service   \n",
       "14194  fffe31003900330034003300      2008-09-30    Male      Service   \n",
       "17596      fffe3700390033003500      2008-03-18    Male      Service   \n",
       "17792  fffe31003400310039003200      2008-06-29    Male      Service   \n",
       "5827   fffe31003800310030003200      2008-06-21    Male      Service   \n",
       "13426      fffe3600360037003400      2008-01-16    Male      Service   \n",
       "21462      fffe3200370035003600      2008-08-05  Female      Service   \n",
       "10453  fffe31003100330033003400      2008-04-20    Male      Product   \n",
       "7900   fffe31003500370035003300      2008-04-01  Female      Product   \n",
       "7294       fffe3400320035003200      2008-09-14    Male      Service   \n",
       "3226   fffe31003500330031003900      2008-08-13  Female      Product   \n",
       "22325      fffe3800340033003200      2008-04-13  Female      Product   \n",
       "21279  fffe31003900390037003800      2008-05-17  Female      Service   \n",
       "14680  fffe31003900300038003100      2008-05-22  Female      Service   \n",
       "3057   fffe32003100360036003200      2008-11-02  Female      Service   \n",
       "9427       fffe3200340038003500      2008-12-21  Female      Service   \n",
       "19580  fffe31003200360033003500      2008-08-20  Female      Service   \n",
       "4886   fffe31003300390036003300      2008-03-29    Male      Service   \n",
       "8618   fffe31003500310033003100      2008-01-03    Male      Service   \n",
       "18176      fffe3600320035003900      2008-02-08  Female      Product   \n",
       "2295   fffe31003500300034003000      2008-02-06  Female      Product   \n",
       "18092  fffe31003900340034003600      2008-02-10  Female      Product   \n",
       "2163   fffe31003700350037003900      2008-03-24  Female      Service   \n",
       "1148   fffe31003700350035003200      2008-07-04  Female      Service   \n",
       "19163  fffe31003400340037003900      2008-03-26    Male      Service   \n",
       "1027       fffe3700310034003100      2008-09-22    Male      Service   \n",
       "7736   fffe31003900350036003800      2008-04-21    Male      Service   \n",
       "3506       fffe3300330038003600      2008-11-09    Male      Service   \n",
       "21425  fffe31003000380032003500      2008-04-09    Male      Product   \n",
       "5804       fffe3800360035003900      2008-07-12    Male      Product   \n",
       "15233  fffe31003000380031003500      2008-01-05  Female      Service   \n",
       "18598  fffe31003100310039003200      2008-10-19    Male      Service   \n",
       "6572   fffe31003700390030003900      2008-09-29    Male      Service   \n",
       "21032      fffe3600390038003900      2008-08-05    Male      Service   \n",
       "22112  fffe31003800360039003400      2008-12-05  Female      Product   \n",
       "8787   fffe31003700340031003900      2008-07-07  Female      Product   \n",
       "20851      fffe3500350031003200      2008-07-19  Female      Service   \n",
       "3120   fffe31003000300039003300      2008-12-10    Male      Service   \n",
       "12226  fffe31003000380032003800      2008-06-17    Male      Service   \n",
       "10577      fffe3700380034003300      2008-04-07    Male      Service   \n",
       "8092       fffe3700350033003300      2008-10-31    Male      Product   \n",
       "4522       fffe3200390030003500      2008-12-09  Female      Service   \n",
       "5237   fffe32003000350033003200      2008-08-24  Female      Service   \n",
       "\n",
       "      WFH Setup Available  Designation  Resource Allocation  \\\n",
       "2513                  Yes          1.0                  NaN   \n",
       "13435                 Yes          2.0                  NaN   \n",
       "11169                 Yes          2.0                  NaN   \n",
       "10752                  No          3.0                  NaN   \n",
       "15389                 Yes          2.0                  NaN   \n",
       "1810                  Yes          3.0                  NaN   \n",
       "7476                  Yes          3.0                  NaN   \n",
       "3310                  Yes          2.0                  NaN   \n",
       "14194                  No          4.0                  NaN   \n",
       "17596                 Yes          2.0                  NaN   \n",
       "17792                  No          1.0                  NaN   \n",
       "5827                  Yes          2.0                  NaN   \n",
       "13426                  No          0.0                  NaN   \n",
       "21462                 Yes          1.0                  NaN   \n",
       "10453                 Yes          2.0                  NaN   \n",
       "7900                   No          2.0                  NaN   \n",
       "7294                   No          3.0                  NaN   \n",
       "3226                  Yes          1.0                  NaN   \n",
       "22325                  No          2.0                  NaN   \n",
       "21279                  No          2.0                  NaN   \n",
       "14680                 Yes          2.0                  NaN   \n",
       "3057                  Yes          1.0                  NaN   \n",
       "9427                  Yes          2.0                  NaN   \n",
       "19580                 Yes          2.0                  NaN   \n",
       "4886                   No          0.0                  NaN   \n",
       "8618                   No          1.0                  NaN   \n",
       "18176                 Yes          2.0                  NaN   \n",
       "2295                   No          1.0                  NaN   \n",
       "18092                 Yes          0.0                  NaN   \n",
       "2163                   No          2.0                  NaN   \n",
       "1148                  Yes          3.0                  NaN   \n",
       "19163                  No          2.0                  NaN   \n",
       "1027                  Yes          2.0                  NaN   \n",
       "7736                   No          2.0                  NaN   \n",
       "3506                  Yes          0.0                  NaN   \n",
       "21425                 Yes          1.0                  NaN   \n",
       "5804                  Yes          3.0                  NaN   \n",
       "15233                 Yes          3.0                  NaN   \n",
       "18598                 Yes          2.0                  NaN   \n",
       "6572                  Yes          3.0                  NaN   \n",
       "21032                 Yes          3.0                  NaN   \n",
       "22112                 Yes          2.0                  NaN   \n",
       "8787                   No          2.0                  NaN   \n",
       "20851                  No          2.0                  NaN   \n",
       "3120                   No          2.0                  NaN   \n",
       "12226                 Yes          3.0                  NaN   \n",
       "10577                  No          2.0                  NaN   \n",
       "8092                   No          5.0                  NaN   \n",
       "4522                   No          4.0                  NaN   \n",
       "5237                  Yes          1.0                  NaN   \n",
       "\n",
       "       Mental Fatigue Score  \n",
       "2513                    4.5  \n",
       "13435                   4.5  \n",
       "11169                   7.1  \n",
       "10752                   NaN  \n",
       "15389                   7.9  \n",
       "1810                    7.4  \n",
       "7476                    6.2  \n",
       "3310                    4.7  \n",
       "14194                   8.5  \n",
       "17596                   NaN  \n",
       "17792                   4.2  \n",
       "5827                    5.8  \n",
       "13426                   NaN  \n",
       "21462                   3.7  \n",
       "10453                   4.3  \n",
       "7900                    7.0  \n",
       "7294                    7.0  \n",
       "3226                    5.7  \n",
       "22325                   7.2  \n",
       "21279                   7.3  \n",
       "14680                   3.2  \n",
       "3057                    4.4  \n",
       "9427                    NaN  \n",
       "19580                   5.2  \n",
       "4886                    NaN  \n",
       "8618                    3.0  \n",
       "18176                   5.6  \n",
       "2295                    4.2  \n",
       "18092                   1.8  \n",
       "2163                    NaN  \n",
       "1148                    NaN  \n",
       "19163                   4.3  \n",
       "1027                    2.7  \n",
       "7736                    7.6  \n",
       "3506                    2.3  \n",
       "21425                   2.7  \n",
       "5804                    6.5  \n",
       "15233                   4.8  \n",
       "18598                   4.3  \n",
       "6572                    5.5  \n",
       "21032                   NaN  \n",
       "22112                   6.1  \n",
       "8787                    7.1  \n",
       "20851                   7.0  \n",
       "3120                    2.9  \n",
       "12226                   5.8  \n",
       "10577                   7.0  \n",
       "8092                    9.0  \n",
       "4522                    6.9  \n",
       "5237                    NaN  "
      ]
     },
     "execution_count": 51,
     "metadata": {},
     "output_type": "execute_result"
    }
   ],
   "source": [
    "#Display null data in the Resource Allocation column\n",
    "X_train_capped[X_train_capped['Resource Allocation'].isna()].head(50)"
   ]
  },
  {
   "cell_type": "code",
   "execution_count": 52,
   "metadata": {},
   "outputs": [
    {
     "name": "stdout",
     "output_type": "stream",
     "text": [
      "Total Data                                   :  22750\n",
      "Total Data tanpa Missing Value                :  21369\n",
      "Percentage of data without missing values (%) :  93.92967032967033\n"
     ]
    }
   ],
   "source": [
    "# Missing Value Calculation\n",
    "\n",
    "handleMisval = df_train.copy()\n",
    "print('Total Data                                   : ', handleMisval['Resource Allocation'].shape[0])\n",
    "print('Total Data tanpa Missing Value                : ', handleMisval['Resource Allocation'].dropna().shape[0])\n",
    "print('Percentage of data without missing values (%) : ', handleMisval['Resource Allocation'].dropna().shape[0] / handleMisval['Resource Allocation'].shape[0] * 100)"
   ]
  },
  {
   "cell_type": "markdown",
   "metadata": {},
   "source": [
    "There are 7% data with missing values in the Resource Allocation column"
   ]
  },
  {
   "cell_type": "code",
   "execution_count": 53,
   "metadata": {},
   "outputs": [
    {
     "data": {
      "text/html": [
       "<div>\n",
       "<style scoped>\n",
       "    .dataframe tbody tr th:only-of-type {\n",
       "        vertical-align: middle;\n",
       "    }\n",
       "\n",
       "    .dataframe tbody tr th {\n",
       "        vertical-align: top;\n",
       "    }\n",
       "\n",
       "    .dataframe thead th {\n",
       "        text-align: right;\n",
       "    }\n",
       "</style>\n",
       "<table border=\"1\" class=\"dataframe\">\n",
       "  <thead>\n",
       "    <tr style=\"text-align: right;\">\n",
       "      <th></th>\n",
       "      <th>Employee ID</th>\n",
       "      <th>Date of Joining</th>\n",
       "      <th>Gender</th>\n",
       "      <th>Company Type</th>\n",
       "      <th>WFH Setup Available</th>\n",
       "      <th>Designation</th>\n",
       "      <th>Resource Allocation</th>\n",
       "      <th>Mental Fatigue Score</th>\n",
       "    </tr>\n",
       "  </thead>\n",
       "  <tbody>\n",
       "    <tr>\n",
       "      <th>5036</th>\n",
       "      <td>fffe31003900390037003600</td>\n",
       "      <td>2008-09-25</td>\n",
       "      <td>Female</td>\n",
       "      <td>Product</td>\n",
       "      <td>No</td>\n",
       "      <td>3.0</td>\n",
       "      <td>7.0</td>\n",
       "      <td>NaN</td>\n",
       "    </tr>\n",
       "    <tr>\n",
       "      <th>7799</th>\n",
       "      <td>fffe3200340030003800</td>\n",
       "      <td>2008-03-10</td>\n",
       "      <td>Female</td>\n",
       "      <td>Service</td>\n",
       "      <td>Yes</td>\n",
       "      <td>1.0</td>\n",
       "      <td>3.0</td>\n",
       "      <td>NaN</td>\n",
       "    </tr>\n",
       "    <tr>\n",
       "      <th>10441</th>\n",
       "      <td>fffe31003300360039003900</td>\n",
       "      <td>2008-06-18</td>\n",
       "      <td>Male</td>\n",
       "      <td>Service</td>\n",
       "      <td>No</td>\n",
       "      <td>2.0</td>\n",
       "      <td>4.0</td>\n",
       "      <td>NaN</td>\n",
       "    </tr>\n",
       "    <tr>\n",
       "      <th>17461</th>\n",
       "      <td>fffe31003600390039003600</td>\n",
       "      <td>2008-12-10</td>\n",
       "      <td>Female</td>\n",
       "      <td>Product</td>\n",
       "      <td>Yes</td>\n",
       "      <td>1.0</td>\n",
       "      <td>1.0</td>\n",
       "      <td>NaN</td>\n",
       "    </tr>\n",
       "    <tr>\n",
       "      <th>21908</th>\n",
       "      <td>fffe3900330036003400</td>\n",
       "      <td>2008-06-10</td>\n",
       "      <td>Female</td>\n",
       "      <td>Product</td>\n",
       "      <td>Yes</td>\n",
       "      <td>3.0</td>\n",
       "      <td>7.0</td>\n",
       "      <td>NaN</td>\n",
       "    </tr>\n",
       "    <tr>\n",
       "      <th>19346</th>\n",
       "      <td>fffe3600360037003800</td>\n",
       "      <td>2008-01-28</td>\n",
       "      <td>Female</td>\n",
       "      <td>Service</td>\n",
       "      <td>Yes</td>\n",
       "      <td>3.0</td>\n",
       "      <td>4.0</td>\n",
       "      <td>NaN</td>\n",
       "    </tr>\n",
       "    <tr>\n",
       "      <th>13716</th>\n",
       "      <td>fffe3700370032003400</td>\n",
       "      <td>2008-08-06</td>\n",
       "      <td>Female</td>\n",
       "      <td>Service</td>\n",
       "      <td>Yes</td>\n",
       "      <td>1.0</td>\n",
       "      <td>1.0</td>\n",
       "      <td>NaN</td>\n",
       "    </tr>\n",
       "    <tr>\n",
       "      <th>4791</th>\n",
       "      <td>fffe32003200350030003800</td>\n",
       "      <td>2008-03-12</td>\n",
       "      <td>Female</td>\n",
       "      <td>Service</td>\n",
       "      <td>No</td>\n",
       "      <td>3.0</td>\n",
       "      <td>6.0</td>\n",
       "      <td>NaN</td>\n",
       "    </tr>\n",
       "    <tr>\n",
       "      <th>3036</th>\n",
       "      <td>fffe31003600380033003900</td>\n",
       "      <td>2008-01-21</td>\n",
       "      <td>Male</td>\n",
       "      <td>Service</td>\n",
       "      <td>Yes</td>\n",
       "      <td>1.0</td>\n",
       "      <td>2.0</td>\n",
       "      <td>NaN</td>\n",
       "    </tr>\n",
       "    <tr>\n",
       "      <th>20986</th>\n",
       "      <td>fffe31003900350031003000</td>\n",
       "      <td>2008-01-06</td>\n",
       "      <td>Male</td>\n",
       "      <td>Product</td>\n",
       "      <td>No</td>\n",
       "      <td>0.0</td>\n",
       "      <td>2.0</td>\n",
       "      <td>NaN</td>\n",
       "    </tr>\n",
       "    <tr>\n",
       "      <th>12985</th>\n",
       "      <td>fffe31003600320036003800</td>\n",
       "      <td>2008-08-17</td>\n",
       "      <td>Male</td>\n",
       "      <td>Service</td>\n",
       "      <td>No</td>\n",
       "      <td>3.0</td>\n",
       "      <td>5.0</td>\n",
       "      <td>NaN</td>\n",
       "    </tr>\n",
       "    <tr>\n",
       "      <th>6431</th>\n",
       "      <td>fffe330031003600</td>\n",
       "      <td>2008-12-31</td>\n",
       "      <td>Male</td>\n",
       "      <td>Service</td>\n",
       "      <td>Yes</td>\n",
       "      <td>2.0</td>\n",
       "      <td>4.0</td>\n",
       "      <td>NaN</td>\n",
       "    </tr>\n",
       "    <tr>\n",
       "      <th>11165</th>\n",
       "      <td>fffe31003800390036003400</td>\n",
       "      <td>2008-10-08</td>\n",
       "      <td>Female</td>\n",
       "      <td>Service</td>\n",
       "      <td>No</td>\n",
       "      <td>3.0</td>\n",
       "      <td>7.0</td>\n",
       "      <td>NaN</td>\n",
       "    </tr>\n",
       "    <tr>\n",
       "      <th>3123</th>\n",
       "      <td>fffe31003800390039003000</td>\n",
       "      <td>2008-04-03</td>\n",
       "      <td>Female</td>\n",
       "      <td>Product</td>\n",
       "      <td>Yes</td>\n",
       "      <td>1.0</td>\n",
       "      <td>2.0</td>\n",
       "      <td>NaN</td>\n",
       "    </tr>\n",
       "    <tr>\n",
       "      <th>10752</th>\n",
       "      <td>fffe31003300370036003100</td>\n",
       "      <td>2008-10-29</td>\n",
       "      <td>Female</td>\n",
       "      <td>Product</td>\n",
       "      <td>No</td>\n",
       "      <td>3.0</td>\n",
       "      <td>NaN</td>\n",
       "      <td>NaN</td>\n",
       "    </tr>\n",
       "    <tr>\n",
       "      <th>627</th>\n",
       "      <td>fffe32003200340031003300</td>\n",
       "      <td>2008-08-07</td>\n",
       "      <td>Female</td>\n",
       "      <td>Product</td>\n",
       "      <td>Yes</td>\n",
       "      <td>1.0</td>\n",
       "      <td>2.0</td>\n",
       "      <td>NaN</td>\n",
       "    </tr>\n",
       "    <tr>\n",
       "      <th>3233</th>\n",
       "      <td>fffe3800310031003100</td>\n",
       "      <td>2008-12-06</td>\n",
       "      <td>Female</td>\n",
       "      <td>Service</td>\n",
       "      <td>Yes</td>\n",
       "      <td>4.0</td>\n",
       "      <td>7.0</td>\n",
       "      <td>NaN</td>\n",
       "    </tr>\n",
       "    <tr>\n",
       "      <th>11098</th>\n",
       "      <td>fffe31003300340037003100</td>\n",
       "      <td>2008-10-04</td>\n",
       "      <td>Female</td>\n",
       "      <td>Service</td>\n",
       "      <td>Yes</td>\n",
       "      <td>2.0</td>\n",
       "      <td>4.0</td>\n",
       "      <td>NaN</td>\n",
       "    </tr>\n",
       "    <tr>\n",
       "      <th>17827</th>\n",
       "      <td>fffe32003200360038003800</td>\n",
       "      <td>2008-08-17</td>\n",
       "      <td>Female</td>\n",
       "      <td>Product</td>\n",
       "      <td>No</td>\n",
       "      <td>3.0</td>\n",
       "      <td>5.0</td>\n",
       "      <td>NaN</td>\n",
       "    </tr>\n",
       "    <tr>\n",
       "      <th>15639</th>\n",
       "      <td>fffe3700340035003700</td>\n",
       "      <td>2008-11-18</td>\n",
       "      <td>Male</td>\n",
       "      <td>Product</td>\n",
       "      <td>No</td>\n",
       "      <td>3.0</td>\n",
       "      <td>6.0</td>\n",
       "      <td>NaN</td>\n",
       "    </tr>\n",
       "    <tr>\n",
       "      <th>12073</th>\n",
       "      <td>fffe32003100340034003200</td>\n",
       "      <td>2008-03-29</td>\n",
       "      <td>Male</td>\n",
       "      <td>Service</td>\n",
       "      <td>No</td>\n",
       "      <td>4.0</td>\n",
       "      <td>8.0</td>\n",
       "      <td>NaN</td>\n",
       "    </tr>\n",
       "    <tr>\n",
       "      <th>17387</th>\n",
       "      <td>fffe31003700380038003300</td>\n",
       "      <td>2008-11-29</td>\n",
       "      <td>Female</td>\n",
       "      <td>Service</td>\n",
       "      <td>No</td>\n",
       "      <td>1.0</td>\n",
       "      <td>3.0</td>\n",
       "      <td>NaN</td>\n",
       "    </tr>\n",
       "    <tr>\n",
       "      <th>16897</th>\n",
       "      <td>fffe3400310031003700</td>\n",
       "      <td>2008-03-12</td>\n",
       "      <td>Male</td>\n",
       "      <td>Service</td>\n",
       "      <td>Yes</td>\n",
       "      <td>1.0</td>\n",
       "      <td>3.0</td>\n",
       "      <td>NaN</td>\n",
       "    </tr>\n",
       "    <tr>\n",
       "      <th>17596</th>\n",
       "      <td>fffe3700390033003500</td>\n",
       "      <td>2008-03-18</td>\n",
       "      <td>Male</td>\n",
       "      <td>Service</td>\n",
       "      <td>Yes</td>\n",
       "      <td>2.0</td>\n",
       "      <td>NaN</td>\n",
       "      <td>NaN</td>\n",
       "    </tr>\n",
       "    <tr>\n",
       "      <th>14707</th>\n",
       "      <td>fffe32003100320033003100</td>\n",
       "      <td>2008-01-25</td>\n",
       "      <td>Male</td>\n",
       "      <td>Product</td>\n",
       "      <td>Yes</td>\n",
       "      <td>3.0</td>\n",
       "      <td>4.0</td>\n",
       "      <td>NaN</td>\n",
       "    </tr>\n",
       "    <tr>\n",
       "      <th>5844</th>\n",
       "      <td>fffe31003300360037003200</td>\n",
       "      <td>2008-09-13</td>\n",
       "      <td>Female</td>\n",
       "      <td>Service</td>\n",
       "      <td>Yes</td>\n",
       "      <td>1.0</td>\n",
       "      <td>2.0</td>\n",
       "      <td>NaN</td>\n",
       "    </tr>\n",
       "    <tr>\n",
       "      <th>21925</th>\n",
       "      <td>fffe32003000350033003100</td>\n",
       "      <td>2008-08-15</td>\n",
       "      <td>Female</td>\n",
       "      <td>Product</td>\n",
       "      <td>Yes</td>\n",
       "      <td>1.0</td>\n",
       "      <td>4.0</td>\n",
       "      <td>NaN</td>\n",
       "    </tr>\n",
       "    <tr>\n",
       "      <th>4438</th>\n",
       "      <td>fffe31003200390030003100</td>\n",
       "      <td>2008-10-14</td>\n",
       "      <td>Female</td>\n",
       "      <td>Product</td>\n",
       "      <td>Yes</td>\n",
       "      <td>1.0</td>\n",
       "      <td>3.0</td>\n",
       "      <td>NaN</td>\n",
       "    </tr>\n",
       "    <tr>\n",
       "      <th>4936</th>\n",
       "      <td>fffe31003800360030003200</td>\n",
       "      <td>2008-05-12</td>\n",
       "      <td>Female</td>\n",
       "      <td>Service</td>\n",
       "      <td>No</td>\n",
       "      <td>3.0</td>\n",
       "      <td>7.0</td>\n",
       "      <td>NaN</td>\n",
       "    </tr>\n",
       "    <tr>\n",
       "      <th>9722</th>\n",
       "      <td>fffe31003100320033003300</td>\n",
       "      <td>2008-12-12</td>\n",
       "      <td>Male</td>\n",
       "      <td>Product</td>\n",
       "      <td>No</td>\n",
       "      <td>2.0</td>\n",
       "      <td>4.0</td>\n",
       "      <td>NaN</td>\n",
       "    </tr>\n",
       "    <tr>\n",
       "      <th>9529</th>\n",
       "      <td>fffe3700310030003000</td>\n",
       "      <td>2008-08-08</td>\n",
       "      <td>Male</td>\n",
       "      <td>Service</td>\n",
       "      <td>Yes</td>\n",
       "      <td>2.0</td>\n",
       "      <td>3.0</td>\n",
       "      <td>NaN</td>\n",
       "    </tr>\n",
       "    <tr>\n",
       "      <th>13426</th>\n",
       "      <td>fffe3600360037003400</td>\n",
       "      <td>2008-01-16</td>\n",
       "      <td>Male</td>\n",
       "      <td>Service</td>\n",
       "      <td>No</td>\n",
       "      <td>0.0</td>\n",
       "      <td>NaN</td>\n",
       "      <td>NaN</td>\n",
       "    </tr>\n",
       "    <tr>\n",
       "      <th>12107</th>\n",
       "      <td>fffe31003900340039003700</td>\n",
       "      <td>2008-09-10</td>\n",
       "      <td>Male</td>\n",
       "      <td>Service</td>\n",
       "      <td>No</td>\n",
       "      <td>3.0</td>\n",
       "      <td>7.0</td>\n",
       "      <td>NaN</td>\n",
       "    </tr>\n",
       "    <tr>\n",
       "      <th>16174</th>\n",
       "      <td>fffe3200340035003700</td>\n",
       "      <td>2008-07-16</td>\n",
       "      <td>Male</td>\n",
       "      <td>Service</td>\n",
       "      <td>Yes</td>\n",
       "      <td>1.0</td>\n",
       "      <td>3.0</td>\n",
       "      <td>NaN</td>\n",
       "    </tr>\n",
       "    <tr>\n",
       "      <th>18924</th>\n",
       "      <td>fffe31003900300036003100</td>\n",
       "      <td>2008-03-01</td>\n",
       "      <td>Female</td>\n",
       "      <td>Product</td>\n",
       "      <td>Yes</td>\n",
       "      <td>3.0</td>\n",
       "      <td>5.0</td>\n",
       "      <td>NaN</td>\n",
       "    </tr>\n",
       "    <tr>\n",
       "      <th>9064</th>\n",
       "      <td>fffe32003200360038003400</td>\n",
       "      <td>2008-09-21</td>\n",
       "      <td>Male</td>\n",
       "      <td>Service</td>\n",
       "      <td>No</td>\n",
       "      <td>4.0</td>\n",
       "      <td>7.0</td>\n",
       "      <td>NaN</td>\n",
       "    </tr>\n",
       "    <tr>\n",
       "      <th>14353</th>\n",
       "      <td>fffe3500330037003800</td>\n",
       "      <td>2008-03-22</td>\n",
       "      <td>Male</td>\n",
       "      <td>Service</td>\n",
       "      <td>No</td>\n",
       "      <td>2.0</td>\n",
       "      <td>4.0</td>\n",
       "      <td>NaN</td>\n",
       "    </tr>\n",
       "    <tr>\n",
       "      <th>787</th>\n",
       "      <td>fffe31003700360035003500</td>\n",
       "      <td>2008-02-11</td>\n",
       "      <td>Male</td>\n",
       "      <td>Service</td>\n",
       "      <td>Yes</td>\n",
       "      <td>3.0</td>\n",
       "      <td>7.0</td>\n",
       "      <td>NaN</td>\n",
       "    </tr>\n",
       "    <tr>\n",
       "      <th>19620</th>\n",
       "      <td>fffe3300360039003700</td>\n",
       "      <td>2008-11-14</td>\n",
       "      <td>Male</td>\n",
       "      <td>Service</td>\n",
       "      <td>Yes</td>\n",
       "      <td>2.0</td>\n",
       "      <td>3.0</td>\n",
       "      <td>NaN</td>\n",
       "    </tr>\n",
       "    <tr>\n",
       "      <th>11903</th>\n",
       "      <td>fffe3600310030003400</td>\n",
       "      <td>2008-03-18</td>\n",
       "      <td>Male</td>\n",
       "      <td>Product</td>\n",
       "      <td>Yes</td>\n",
       "      <td>3.0</td>\n",
       "      <td>5.0</td>\n",
       "      <td>NaN</td>\n",
       "    </tr>\n",
       "    <tr>\n",
       "      <th>6151</th>\n",
       "      <td>fffe31003700360032003100</td>\n",
       "      <td>2008-09-06</td>\n",
       "      <td>Male</td>\n",
       "      <td>Service</td>\n",
       "      <td>Yes</td>\n",
       "      <td>0.0</td>\n",
       "      <td>1.0</td>\n",
       "      <td>NaN</td>\n",
       "    </tr>\n",
       "    <tr>\n",
       "      <th>3635</th>\n",
       "      <td>fffe3300330031003100</td>\n",
       "      <td>2008-03-13</td>\n",
       "      <td>Male</td>\n",
       "      <td>Product</td>\n",
       "      <td>No</td>\n",
       "      <td>3.0</td>\n",
       "      <td>6.0</td>\n",
       "      <td>NaN</td>\n",
       "    </tr>\n",
       "    <tr>\n",
       "      <th>22737</th>\n",
       "      <td>fffe3300340033003100</td>\n",
       "      <td>2008-08-17</td>\n",
       "      <td>Female</td>\n",
       "      <td>Service</td>\n",
       "      <td>No</td>\n",
       "      <td>3.0</td>\n",
       "      <td>5.0</td>\n",
       "      <td>NaN</td>\n",
       "    </tr>\n",
       "    <tr>\n",
       "      <th>9427</th>\n",
       "      <td>fffe3200340038003500</td>\n",
       "      <td>2008-12-21</td>\n",
       "      <td>Female</td>\n",
       "      <td>Service</td>\n",
       "      <td>Yes</td>\n",
       "      <td>2.0</td>\n",
       "      <td>NaN</td>\n",
       "      <td>NaN</td>\n",
       "    </tr>\n",
       "    <tr>\n",
       "      <th>7300</th>\n",
       "      <td>fffe3200390039003700</td>\n",
       "      <td>2008-03-28</td>\n",
       "      <td>Male</td>\n",
       "      <td>Service</td>\n",
       "      <td>Yes</td>\n",
       "      <td>2.0</td>\n",
       "      <td>4.0</td>\n",
       "      <td>NaN</td>\n",
       "    </tr>\n",
       "    <tr>\n",
       "      <th>4886</th>\n",
       "      <td>fffe31003300390036003300</td>\n",
       "      <td>2008-03-29</td>\n",
       "      <td>Male</td>\n",
       "      <td>Service</td>\n",
       "      <td>No</td>\n",
       "      <td>0.0</td>\n",
       "      <td>NaN</td>\n",
       "      <td>NaN</td>\n",
       "    </tr>\n",
       "    <tr>\n",
       "      <th>8933</th>\n",
       "      <td>fffe380033003400</td>\n",
       "      <td>2008-12-17</td>\n",
       "      <td>Female</td>\n",
       "      <td>Product</td>\n",
       "      <td>Yes</td>\n",
       "      <td>3.0</td>\n",
       "      <td>4.0</td>\n",
       "      <td>NaN</td>\n",
       "    </tr>\n",
       "    <tr>\n",
       "      <th>778</th>\n",
       "      <td>fffe32003000370037003700</td>\n",
       "      <td>2008-04-03</td>\n",
       "      <td>Male</td>\n",
       "      <td>Service</td>\n",
       "      <td>Yes</td>\n",
       "      <td>4.0</td>\n",
       "      <td>7.0</td>\n",
       "      <td>NaN</td>\n",
       "    </tr>\n",
       "    <tr>\n",
       "      <th>991</th>\n",
       "      <td>fffe3900340037003500</td>\n",
       "      <td>2008-04-07</td>\n",
       "      <td>Female</td>\n",
       "      <td>Service</td>\n",
       "      <td>Yes</td>\n",
       "      <td>2.0</td>\n",
       "      <td>4.0</td>\n",
       "      <td>NaN</td>\n",
       "    </tr>\n",
       "    <tr>\n",
       "      <th>10422</th>\n",
       "      <td>fffe3900320036003900</td>\n",
       "      <td>2008-09-25</td>\n",
       "      <td>Female</td>\n",
       "      <td>Product</td>\n",
       "      <td>Yes</td>\n",
       "      <td>1.0</td>\n",
       "      <td>1.0</td>\n",
       "      <td>NaN</td>\n",
       "    </tr>\n",
       "  </tbody>\n",
       "</table>\n",
       "</div>"
      ],
      "text/plain": [
       "                    Employee ID Date of Joining  Gender Company Type  \\\n",
       "5036   fffe31003900390037003600      2008-09-25  Female      Product   \n",
       "7799       fffe3200340030003800      2008-03-10  Female      Service   \n",
       "10441  fffe31003300360039003900      2008-06-18    Male      Service   \n",
       "17461  fffe31003600390039003600      2008-12-10  Female      Product   \n",
       "21908      fffe3900330036003400      2008-06-10  Female      Product   \n",
       "19346      fffe3600360037003800      2008-01-28  Female      Service   \n",
       "13716      fffe3700370032003400      2008-08-06  Female      Service   \n",
       "4791   fffe32003200350030003800      2008-03-12  Female      Service   \n",
       "3036   fffe31003600380033003900      2008-01-21    Male      Service   \n",
       "20986  fffe31003900350031003000      2008-01-06    Male      Product   \n",
       "12985  fffe31003600320036003800      2008-08-17    Male      Service   \n",
       "6431           fffe330031003600      2008-12-31    Male      Service   \n",
       "11165  fffe31003800390036003400      2008-10-08  Female      Service   \n",
       "3123   fffe31003800390039003000      2008-04-03  Female      Product   \n",
       "10752  fffe31003300370036003100      2008-10-29  Female      Product   \n",
       "627    fffe32003200340031003300      2008-08-07  Female      Product   \n",
       "3233       fffe3800310031003100      2008-12-06  Female      Service   \n",
       "11098  fffe31003300340037003100      2008-10-04  Female      Service   \n",
       "17827  fffe32003200360038003800      2008-08-17  Female      Product   \n",
       "15639      fffe3700340035003700      2008-11-18    Male      Product   \n",
       "12073  fffe32003100340034003200      2008-03-29    Male      Service   \n",
       "17387  fffe31003700380038003300      2008-11-29  Female      Service   \n",
       "16897      fffe3400310031003700      2008-03-12    Male      Service   \n",
       "17596      fffe3700390033003500      2008-03-18    Male      Service   \n",
       "14707  fffe32003100320033003100      2008-01-25    Male      Product   \n",
       "5844   fffe31003300360037003200      2008-09-13  Female      Service   \n",
       "21925  fffe32003000350033003100      2008-08-15  Female      Product   \n",
       "4438   fffe31003200390030003100      2008-10-14  Female      Product   \n",
       "4936   fffe31003800360030003200      2008-05-12  Female      Service   \n",
       "9722   fffe31003100320033003300      2008-12-12    Male      Product   \n",
       "9529       fffe3700310030003000      2008-08-08    Male      Service   \n",
       "13426      fffe3600360037003400      2008-01-16    Male      Service   \n",
       "12107  fffe31003900340039003700      2008-09-10    Male      Service   \n",
       "16174      fffe3200340035003700      2008-07-16    Male      Service   \n",
       "18924  fffe31003900300036003100      2008-03-01  Female      Product   \n",
       "9064   fffe32003200360038003400      2008-09-21    Male      Service   \n",
       "14353      fffe3500330037003800      2008-03-22    Male      Service   \n",
       "787    fffe31003700360035003500      2008-02-11    Male      Service   \n",
       "19620      fffe3300360039003700      2008-11-14    Male      Service   \n",
       "11903      fffe3600310030003400      2008-03-18    Male      Product   \n",
       "6151   fffe31003700360032003100      2008-09-06    Male      Service   \n",
       "3635       fffe3300330031003100      2008-03-13    Male      Product   \n",
       "22737      fffe3300340033003100      2008-08-17  Female      Service   \n",
       "9427       fffe3200340038003500      2008-12-21  Female      Service   \n",
       "7300       fffe3200390039003700      2008-03-28    Male      Service   \n",
       "4886   fffe31003300390036003300      2008-03-29    Male      Service   \n",
       "8933           fffe380033003400      2008-12-17  Female      Product   \n",
       "778    fffe32003000370037003700      2008-04-03    Male      Service   \n",
       "991        fffe3900340037003500      2008-04-07  Female      Service   \n",
       "10422      fffe3900320036003900      2008-09-25  Female      Product   \n",
       "\n",
       "      WFH Setup Available  Designation  Resource Allocation  \\\n",
       "5036                   No          3.0                  7.0   \n",
       "7799                  Yes          1.0                  3.0   \n",
       "10441                  No          2.0                  4.0   \n",
       "17461                 Yes          1.0                  1.0   \n",
       "21908                 Yes          3.0                  7.0   \n",
       "19346                 Yes          3.0                  4.0   \n",
       "13716                 Yes          1.0                  1.0   \n",
       "4791                   No          3.0                  6.0   \n",
       "3036                  Yes          1.0                  2.0   \n",
       "20986                  No          0.0                  2.0   \n",
       "12985                  No          3.0                  5.0   \n",
       "6431                  Yes          2.0                  4.0   \n",
       "11165                  No          3.0                  7.0   \n",
       "3123                  Yes          1.0                  2.0   \n",
       "10752                  No          3.0                  NaN   \n",
       "627                   Yes          1.0                  2.0   \n",
       "3233                  Yes          4.0                  7.0   \n",
       "11098                 Yes          2.0                  4.0   \n",
       "17827                  No          3.0                  5.0   \n",
       "15639                  No          3.0                  6.0   \n",
       "12073                  No          4.0                  8.0   \n",
       "17387                  No          1.0                  3.0   \n",
       "16897                 Yes          1.0                  3.0   \n",
       "17596                 Yes          2.0                  NaN   \n",
       "14707                 Yes          3.0                  4.0   \n",
       "5844                  Yes          1.0                  2.0   \n",
       "21925                 Yes          1.0                  4.0   \n",
       "4438                  Yes          1.0                  3.0   \n",
       "4936                   No          3.0                  7.0   \n",
       "9722                   No          2.0                  4.0   \n",
       "9529                  Yes          2.0                  3.0   \n",
       "13426                  No          0.0                  NaN   \n",
       "12107                  No          3.0                  7.0   \n",
       "16174                 Yes          1.0                  3.0   \n",
       "18924                 Yes          3.0                  5.0   \n",
       "9064                   No          4.0                  7.0   \n",
       "14353                  No          2.0                  4.0   \n",
       "787                   Yes          3.0                  7.0   \n",
       "19620                 Yes          2.0                  3.0   \n",
       "11903                 Yes          3.0                  5.0   \n",
       "6151                  Yes          0.0                  1.0   \n",
       "3635                   No          3.0                  6.0   \n",
       "22737                  No          3.0                  5.0   \n",
       "9427                  Yes          2.0                  NaN   \n",
       "7300                  Yes          2.0                  4.0   \n",
       "4886                   No          0.0                  NaN   \n",
       "8933                  Yes          3.0                  4.0   \n",
       "778                   Yes          4.0                  7.0   \n",
       "991                   Yes          2.0                  4.0   \n",
       "10422                 Yes          1.0                  1.0   \n",
       "\n",
       "       Mental Fatigue Score  \n",
       "5036                    NaN  \n",
       "7799                    NaN  \n",
       "10441                   NaN  \n",
       "17461                   NaN  \n",
       "21908                   NaN  \n",
       "19346                   NaN  \n",
       "13716                   NaN  \n",
       "4791                    NaN  \n",
       "3036                    NaN  \n",
       "20986                   NaN  \n",
       "12985                   NaN  \n",
       "6431                    NaN  \n",
       "11165                   NaN  \n",
       "3123                    NaN  \n",
       "10752                   NaN  \n",
       "627                     NaN  \n",
       "3233                    NaN  \n",
       "11098                   NaN  \n",
       "17827                   NaN  \n",
       "15639                   NaN  \n",
       "12073                   NaN  \n",
       "17387                   NaN  \n",
       "16897                   NaN  \n",
       "17596                   NaN  \n",
       "14707                   NaN  \n",
       "5844                    NaN  \n",
       "21925                   NaN  \n",
       "4438                    NaN  \n",
       "4936                    NaN  \n",
       "9722                    NaN  \n",
       "9529                    NaN  \n",
       "13426                   NaN  \n",
       "12107                   NaN  \n",
       "16174                   NaN  \n",
       "18924                   NaN  \n",
       "9064                    NaN  \n",
       "14353                   NaN  \n",
       "787                     NaN  \n",
       "19620                   NaN  \n",
       "11903                   NaN  \n",
       "6151                    NaN  \n",
       "3635                    NaN  \n",
       "22737                   NaN  \n",
       "9427                    NaN  \n",
       "7300                    NaN  \n",
       "4886                    NaN  \n",
       "8933                    NaN  \n",
       "778                     NaN  \n",
       "991                     NaN  \n",
       "10422                   NaN  "
      ]
     },
     "execution_count": 53,
     "metadata": {},
     "output_type": "execute_result"
    }
   ],
   "source": [
    "#Displays null data in the Mental Fatigue Score column\n",
    "\n",
    "X_train_capped[X_train_capped['Mental Fatigue Score'].isna()].head(50)\n"
   ]
  },
  {
   "cell_type": "code",
   "execution_count": 54,
   "metadata": {},
   "outputs": [
    {
     "name": "stdout",
     "output_type": "stream",
     "text": [
      "Total Data                                   :  22750\n",
      "Total Data tanpa Missing Value                :  20633\n",
      "Percentage of data without missing values (%) :  90.69450549450549\n"
     ]
    }
   ],
   "source": [
    "# Missing Value Calculation\n",
    "\n",
    "handleMisval = df_train.copy()\n",
    "print('Total Data                                   : ', handleMisval['Mental Fatigue Score'].shape[0])\n",
    "print('Total Data tanpa Missing Value                : ', handleMisval['Mental Fatigue Score'].dropna().shape[0])\n",
    "print('Percentage of data without missing values (%) : ', handleMisval['Mental Fatigue Score'].dropna().shape[0] / handleMisval['Resource Allocation'].shape[0] * 100)"
   ]
  },
  {
   "cell_type": "markdown",
   "metadata": {},
   "source": [
    "Terdapat 7% data yang missing value pada kolom Mental Fatigue Score"
   ]
  },
  {
   "cell_type": "markdown",
   "metadata": {},
   "source": [
    "Berdasarkan pengamatan, missing value merupakan missing completely at random karena tidak ada alasan mengapa sejumlah data tersebut tidak ada. Tidak dilakukan imputasi untuk menjaga hasil yang diberikan sesuai dengan kondisi yang terjadi di Lapangan."
   ]
  },
  {
   "cell_type": "code",
   "execution_count": 55,
   "metadata": {},
   "outputs": [],
   "source": [
    "#store the target data index which is null\n",
    "\n",
    "nulXtrain = X_train_capped[X_train_capped.isnull().any(axis=1)].index.tolist()\n",
    "nulXtest = X_test_capped[X_test_capped.isnull().any(axis=1)].index.tolist()\n",
    "\n"
   ]
  },
  {
   "cell_type": "code",
   "execution_count": 56,
   "metadata": {},
   "outputs": [],
   "source": [
    "#drop on Y based on the null data index on data X\n",
    "y_train = y_train.drop(index=nulXtrain)\n",
    "y_test = y_test.drop(index=nulXtest)\n"
   ]
  },
  {
   "cell_type": "code",
   "execution_count": 57,
   "metadata": {},
   "outputs": [],
   "source": [
    "#drop missing values in data X\n",
    "X_train_capped = X_train_capped.drop(index=nulXtrain)\n",
    "X_test_capped = X_test_capped.drop(index=nulXtest)"
   ]
  },
  {
   "cell_type": "code",
   "execution_count": 58,
   "metadata": {},
   "outputs": [
    {
     "data": {
      "text/plain": [
       "(13936, 8)"
      ]
     },
     "execution_count": 58,
     "metadata": {},
     "output_type": "execute_result"
    }
   ],
   "source": [
    "#display the shape of the X train data\n",
    "X_train_capped.shape"
   ]
  },
  {
   "cell_type": "code",
   "execution_count": 59,
   "metadata": {},
   "outputs": [
    {
     "data": {
      "text/plain": [
       "(4654, 8)"
      ]
     },
     "execution_count": 59,
     "metadata": {},
     "output_type": "execute_result"
    }
   ],
   "source": [
    "#display the shape of the X test data\n",
    "\n",
    "X_test_capped.shape"
   ]
  },
  {
   "cell_type": "code",
   "execution_count": 60,
   "metadata": {},
   "outputs": [
    {
     "data": {
      "text/plain": [
       "(13936,)"
      ]
     },
     "execution_count": 60,
     "metadata": {},
     "output_type": "execute_result"
    }
   ],
   "source": [
    "#displays the shape of the Y train data\n",
    "\n",
    "y_train.shape\n"
   ]
  },
  {
   "cell_type": "code",
   "execution_count": 61,
   "metadata": {},
   "outputs": [
    {
     "data": {
      "text/plain": [
       "(4654,)"
      ]
     },
     "execution_count": 61,
     "metadata": {},
     "output_type": "execute_result"
    }
   ],
   "source": [
    "#displays the shape of the Y test data\n",
    "\n",
    "y_test.shape\n"
   ]
  },
  {
   "cell_type": "markdown",
   "metadata": {},
   "source": [
    "The data matches the rows and columns. there is no error in drop row."
   ]
  },
  {
   "cell_type": "markdown",
   "metadata": {},
   "source": [
    "## Feature Selection"
   ]
  },
  {
   "cell_type": "code",
   "execution_count": 62,
   "metadata": {},
   "outputs": [],
   "source": [
    "#group categorical columns\n",
    "cat_columns = ['Employee ID',\n",
    " 'Date of Joining',\n",
    " 'Gender',\n",
    " 'Company Type',\n",
    " 'WFH Setup Available']"
   ]
  },
  {
   "cell_type": "code",
   "execution_count": 63,
   "metadata": {},
   "outputs": [],
   "source": [
    "#group numerical columns\n",
    "\n",
    "num_cols = ['Designation', 'Resource Allocation', 'Mental Fatigue Score']"
   ]
  },
  {
   "cell_type": "code",
   "execution_count": 103,
   "metadata": {},
   "outputs": [
    {
     "data": {
      "text/html": [
       "<div>\n",
       "<style scoped>\n",
       "    .dataframe tbody tr th:only-of-type {\n",
       "        vertical-align: middle;\n",
       "    }\n",
       "\n",
       "    .dataframe tbody tr th {\n",
       "        vertical-align: top;\n",
       "    }\n",
       "\n",
       "    .dataframe thead th {\n",
       "        text-align: right;\n",
       "    }\n",
       "</style>\n",
       "<table border=\"1\" class=\"dataframe\">\n",
       "  <thead>\n",
       "    <tr style=\"text-align: right;\">\n",
       "      <th></th>\n",
       "      <th>column name</th>\n",
       "      <th>result</th>\n",
       "      <th>pvalue</th>\n",
       "      <th>Corr Value</th>\n",
       "    </tr>\n",
       "  </thead>\n",
       "  <tbody>\n",
       "    <tr>\n",
       "      <th>0</th>\n",
       "      <td>Employee ID</td>\n",
       "      <td>ga ada korelasi</td>\n",
       "      <td>4.545705e-01</td>\n",
       "      <td>0.004254</td>\n",
       "    </tr>\n",
       "    <tr>\n",
       "      <th>1</th>\n",
       "      <td>Date of Joining</td>\n",
       "      <td>ga ada korelasi</td>\n",
       "      <td>2.429877e-01</td>\n",
       "      <td>0.006650</td>\n",
       "    </tr>\n",
       "    <tr>\n",
       "      <th>2</th>\n",
       "      <td>Gender</td>\n",
       "      <td>ada korelasi</td>\n",
       "      <td>5.224362e-90</td>\n",
       "      <td>0.140135</td>\n",
       "    </tr>\n",
       "    <tr>\n",
       "      <th>3</th>\n",
       "      <td>Company Type</td>\n",
       "      <td>ga ada korelasi</td>\n",
       "      <td>9.324905e-01</td>\n",
       "      <td>-0.000590</td>\n",
       "    </tr>\n",
       "    <tr>\n",
       "      <th>4</th>\n",
       "      <td>WFH Setup Available</td>\n",
       "      <td>ada korelasi</td>\n",
       "      <td>0.000000e+00</td>\n",
       "      <td>-0.273360</td>\n",
       "    </tr>\n",
       "  </tbody>\n",
       "</table>\n",
       "</div>"
      ],
      "text/plain": [
       "           column name           result        pvalue  Corr Value\n",
       "0          Employee ID  ga ada korelasi  4.545705e-01    0.004254\n",
       "1      Date of Joining  ga ada korelasi  2.429877e-01    0.006650\n",
       "2               Gender     ada korelasi  5.224362e-90    0.140135\n",
       "3         Company Type  ga ada korelasi  9.324905e-01   -0.000590\n",
       "4  WFH Setup Available     ada korelasi  0.000000e+00   -0.273360"
      ]
     },
     "execution_count": 103,
     "metadata": {},
     "output_type": "execute_result"
    }
   ],
   "source": [
    "#syntax for calculating categorical column correlation using the kendalltau method\n",
    "\n",
    "p_values = []\n",
    "interpretasi = []\n",
    "cols = []\n",
    "corr = []\n",
    "\n",
    "\n",
    "for col in cat_columns:\n",
    "  corr_coef, p_value = kendalltau(X_train_capped[col], y_train)\n",
    "\n",
    "  p_values.append(p_value)\n",
    "  cols.append(col)\n",
    "  corr.append(corr_coef)\n",
    "\n",
    "  if p_value < 0.05:\n",
    "    interpretasi.append('ada korelasi')\n",
    "  else :\n",
    "    interpretasi.append('ga ada korelasi')\n",
    "\n",
    "pd.DataFrame({'column name':cols,\n",
    "               'result': interpretasi,\n",
    "               'pvalue':p_values,\n",
    "               'Corr Value' : corr })"
   ]
  },
  {
   "cell_type": "markdown",
   "metadata": {},
   "source": [
    "Column __['Gender','WFH Setup Available']__ has a correlation with the target column (Burn Rate)"
   ]
  },
  {
   "cell_type": "code",
   "execution_count": 104,
   "metadata": {},
   "outputs": [
    {
     "data": {
      "text/html": [
       "<div>\n",
       "<style scoped>\n",
       "    .dataframe tbody tr th:only-of-type {\n",
       "        vertical-align: middle;\n",
       "    }\n",
       "\n",
       "    .dataframe tbody tr th {\n",
       "        vertical-align: top;\n",
       "    }\n",
       "\n",
       "    .dataframe thead th {\n",
       "        text-align: right;\n",
       "    }\n",
       "</style>\n",
       "<table border=\"1\" class=\"dataframe\">\n",
       "  <thead>\n",
       "    <tr style=\"text-align: right;\">\n",
       "      <th></th>\n",
       "      <th>column name</th>\n",
       "      <th>result</th>\n",
       "      <th>pvalue</th>\n",
       "      <th>Corr Value</th>\n",
       "    </tr>\n",
       "  </thead>\n",
       "  <tbody>\n",
       "    <tr>\n",
       "      <th>0</th>\n",
       "      <td>Designation</td>\n",
       "      <td>ada korelasi</td>\n",
       "      <td>0.0</td>\n",
       "      <td>0.733975</td>\n",
       "    </tr>\n",
       "    <tr>\n",
       "      <th>1</th>\n",
       "      <td>Resource Allocation</td>\n",
       "      <td>ada korelasi</td>\n",
       "      <td>0.0</td>\n",
       "      <td>0.853297</td>\n",
       "    </tr>\n",
       "    <tr>\n",
       "      <th>2</th>\n",
       "      <td>Mental Fatigue Score</td>\n",
       "      <td>ada korelasi</td>\n",
       "      <td>0.0</td>\n",
       "      <td>0.946032</td>\n",
       "    </tr>\n",
       "  </tbody>\n",
       "</table>\n",
       "</div>"
      ],
      "text/plain": [
       "            column name        result  pvalue  Corr Value\n",
       "0           Designation  ada korelasi     0.0    0.733975\n",
       "1   Resource Allocation  ada korelasi     0.0    0.853297\n",
       "2  Mental Fatigue Score  ada korelasi     0.0    0.946032"
      ]
     },
     "execution_count": 104,
     "metadata": {},
     "output_type": "execute_result"
    }
   ],
   "source": [
    "#syntax to calculate numerical column correlation using the pearsonr method\n",
    "\n",
    "p_values = []\n",
    "interpretasi = []\n",
    "cols = []\n",
    "corr = []\n",
    "\n",
    "for col in num_cols:\n",
    "  corr_coef, p_value = pearsonr(X_train_capped[col], y_train)\n",
    "\n",
    "  p_values.append(p_value)\n",
    "  cols.append(col)\n",
    "  corr.append(corr_coef)\n",
    "\n",
    "  if p_value < 0.05:\n",
    "    interpretasi.append('ada korelasi')\n",
    "  else :\n",
    "    interpretasi.append('ga ada korelasi')\n",
    "\n",
    "pd.DataFrame({'column name':cols,\n",
    "               'result': interpretasi,\n",
    "               'pvalue':p_values,\n",
    "               'Corr Value' : corr })"
   ]
  },
  {
   "cell_type": "markdown",
   "metadata": {},
   "source": [
    "All numerical columns have a correlation with the target (Burn Rate)"
   ]
  },
  {
   "cell_type": "markdown",
   "metadata": {},
   "source": [
    "__Result__  \n",
    "Columns that have a correlation with the target will become features in the model."
   ]
  },
  {
   "cell_type": "markdown",
   "metadata": {},
   "source": [
    "## Encoding and Scaling"
   ]
  },
  {
   "cell_type": "markdown",
   "metadata": {},
   "source": [
    "__Definition of ColumnTransformer__"
   ]
  },
  {
   "cell_type": "code",
   "execution_count": 66,
   "metadata": {},
   "outputs": [
    {
     "data": {
      "text/html": [
       "<style>#sk-container-id-1 {color: black;}#sk-container-id-1 pre{padding: 0;}#sk-container-id-1 div.sk-toggleable {background-color: white;}#sk-container-id-1 label.sk-toggleable__label {cursor: pointer;display: block;width: 100%;margin-bottom: 0;padding: 0.3em;box-sizing: border-box;text-align: center;}#sk-container-id-1 label.sk-toggleable__label-arrow:before {content: \"▸\";float: left;margin-right: 0.25em;color: #696969;}#sk-container-id-1 label.sk-toggleable__label-arrow:hover:before {color: black;}#sk-container-id-1 div.sk-estimator:hover label.sk-toggleable__label-arrow:before {color: black;}#sk-container-id-1 div.sk-toggleable__content {max-height: 0;max-width: 0;overflow: hidden;text-align: left;background-color: #f0f8ff;}#sk-container-id-1 div.sk-toggleable__content pre {margin: 0.2em;color: black;border-radius: 0.25em;background-color: #f0f8ff;}#sk-container-id-1 input.sk-toggleable__control:checked~div.sk-toggleable__content {max-height: 200px;max-width: 100%;overflow: auto;}#sk-container-id-1 input.sk-toggleable__control:checked~label.sk-toggleable__label-arrow:before {content: \"▾\";}#sk-container-id-1 div.sk-estimator input.sk-toggleable__control:checked~label.sk-toggleable__label {background-color: #d4ebff;}#sk-container-id-1 div.sk-label input.sk-toggleable__control:checked~label.sk-toggleable__label {background-color: #d4ebff;}#sk-container-id-1 input.sk-hidden--visually {border: 0;clip: rect(1px 1px 1px 1px);clip: rect(1px, 1px, 1px, 1px);height: 1px;margin: -1px;overflow: hidden;padding: 0;position: absolute;width: 1px;}#sk-container-id-1 div.sk-estimator {font-family: monospace;background-color: #f0f8ff;border: 1px dotted black;border-radius: 0.25em;box-sizing: border-box;margin-bottom: 0.5em;}#sk-container-id-1 div.sk-estimator:hover {background-color: #d4ebff;}#sk-container-id-1 div.sk-parallel-item::after {content: \"\";width: 100%;border-bottom: 1px solid gray;flex-grow: 1;}#sk-container-id-1 div.sk-label:hover label.sk-toggleable__label {background-color: #d4ebff;}#sk-container-id-1 div.sk-serial::before {content: \"\";position: absolute;border-left: 1px solid gray;box-sizing: border-box;top: 0;bottom: 0;left: 50%;z-index: 0;}#sk-container-id-1 div.sk-serial {display: flex;flex-direction: column;align-items: center;background-color: white;padding-right: 0.2em;padding-left: 0.2em;position: relative;}#sk-container-id-1 div.sk-item {position: relative;z-index: 1;}#sk-container-id-1 div.sk-parallel {display: flex;align-items: stretch;justify-content: center;background-color: white;position: relative;}#sk-container-id-1 div.sk-item::before, #sk-container-id-1 div.sk-parallel-item::before {content: \"\";position: absolute;border-left: 1px solid gray;box-sizing: border-box;top: 0;bottom: 0;left: 50%;z-index: -1;}#sk-container-id-1 div.sk-parallel-item {display: flex;flex-direction: column;z-index: 1;position: relative;background-color: white;}#sk-container-id-1 div.sk-parallel-item:first-child::after {align-self: flex-end;width: 50%;}#sk-container-id-1 div.sk-parallel-item:last-child::after {align-self: flex-start;width: 50%;}#sk-container-id-1 div.sk-parallel-item:only-child::after {width: 0;}#sk-container-id-1 div.sk-dashed-wrapped {border: 1px dashed gray;margin: 0 0.4em 0.5em 0.4em;box-sizing: border-box;padding-bottom: 0.4em;background-color: white;}#sk-container-id-1 div.sk-label label {font-family: monospace;font-weight: bold;display: inline-block;line-height: 1.2em;}#sk-container-id-1 div.sk-label-container {text-align: center;}#sk-container-id-1 div.sk-container {/* jupyter's `normalize.less` sets `[hidden] { display: none; }` but bootstrap.min.css set `[hidden] { display: none !important; }` so we also need the `!important` here to be able to override the default hidden behavior on the sphinx rendered scikit-learn.org. See: https://github.com/scikit-learn/scikit-learn/issues/21755 */display: inline-block !important;position: relative;}#sk-container-id-1 div.sk-text-repr-fallback {display: none;}</style><div id=\"sk-container-id-1\" class=\"sk-top-container\"><div class=\"sk-text-repr-fallback\"><pre>ColumnTransformer(transformers=[(&#x27;scaler&#x27;, StandardScaler(),\n",
       "                                 [&#x27;Designation&#x27;, &#x27;Resource Allocation&#x27;,\n",
       "                                  &#x27;Mental Fatigue Score&#x27;]),\n",
       "                                (&#x27;encoding&#x27;, OneHotEncoder(),\n",
       "                                 [&#x27;Gender&#x27;, &#x27;WFH Setup Available&#x27;])])</pre><b>In a Jupyter environment, please rerun this cell to show the HTML representation or trust the notebook. <br />On GitHub, the HTML representation is unable to render, please try loading this page with nbviewer.org.</b></div><div class=\"sk-container\" hidden><div class=\"sk-item sk-dashed-wrapped\"><div class=\"sk-label-container\"><div class=\"sk-label sk-toggleable\"><input class=\"sk-toggleable__control sk-hidden--visually\" id=\"sk-estimator-id-1\" type=\"checkbox\" ><label for=\"sk-estimator-id-1\" class=\"sk-toggleable__label sk-toggleable__label-arrow\">ColumnTransformer</label><div class=\"sk-toggleable__content\"><pre>ColumnTransformer(transformers=[(&#x27;scaler&#x27;, StandardScaler(),\n",
       "                                 [&#x27;Designation&#x27;, &#x27;Resource Allocation&#x27;,\n",
       "                                  &#x27;Mental Fatigue Score&#x27;]),\n",
       "                                (&#x27;encoding&#x27;, OneHotEncoder(),\n",
       "                                 [&#x27;Gender&#x27;, &#x27;WFH Setup Available&#x27;])])</pre></div></div></div><div class=\"sk-parallel\"><div class=\"sk-parallel-item\"><div class=\"sk-item\"><div class=\"sk-label-container\"><div class=\"sk-label sk-toggleable\"><input class=\"sk-toggleable__control sk-hidden--visually\" id=\"sk-estimator-id-2\" type=\"checkbox\" ><label for=\"sk-estimator-id-2\" class=\"sk-toggleable__label sk-toggleable__label-arrow\">scaler</label><div class=\"sk-toggleable__content\"><pre>[&#x27;Designation&#x27;, &#x27;Resource Allocation&#x27;, &#x27;Mental Fatigue Score&#x27;]</pre></div></div></div><div class=\"sk-serial\"><div class=\"sk-item\"><div class=\"sk-estimator sk-toggleable\"><input class=\"sk-toggleable__control sk-hidden--visually\" id=\"sk-estimator-id-3\" type=\"checkbox\" ><label for=\"sk-estimator-id-3\" class=\"sk-toggleable__label sk-toggleable__label-arrow\">StandardScaler</label><div class=\"sk-toggleable__content\"><pre>StandardScaler()</pre></div></div></div></div></div></div><div class=\"sk-parallel-item\"><div class=\"sk-item\"><div class=\"sk-label-container\"><div class=\"sk-label sk-toggleable\"><input class=\"sk-toggleable__control sk-hidden--visually\" id=\"sk-estimator-id-4\" type=\"checkbox\" ><label for=\"sk-estimator-id-4\" class=\"sk-toggleable__label sk-toggleable__label-arrow\">encoding</label><div class=\"sk-toggleable__content\"><pre>[&#x27;Gender&#x27;, &#x27;WFH Setup Available&#x27;]</pre></div></div></div><div class=\"sk-serial\"><div class=\"sk-item\"><div class=\"sk-estimator sk-toggleable\"><input class=\"sk-toggleable__control sk-hidden--visually\" id=\"sk-estimator-id-5\" type=\"checkbox\" ><label for=\"sk-estimator-id-5\" class=\"sk-toggleable__label sk-toggleable__label-arrow\">OneHotEncoder</label><div class=\"sk-toggleable__content\"><pre>OneHotEncoder()</pre></div></div></div></div></div></div></div></div></div></div>"
      ],
      "text/plain": [
       "ColumnTransformer(transformers=[('scaler', StandardScaler(),\n",
       "                                 ['Designation', 'Resource Allocation',\n",
       "                                  'Mental Fatigue Score']),\n",
       "                                ('encoding', OneHotEncoder(),\n",
       "                                 ['Gender', 'WFH Setup Available'])])"
      ]
     },
     "execution_count": 66,
     "metadata": {},
     "output_type": "execute_result"
    }
   ],
   "source": [
    "#Assign ColumnTransformer to perform scaling and encoding on columns that have been determined in feature engineering\n",
    "#Scaling using standardscaler and encoding using onehotencoder\n",
    "prep = ColumnTransformer([\n",
    "    ('scaler', StandardScaler(), [ 'Designation', 'Resource Allocation','Mental Fatigue Score']),\n",
    "    ('encoding', OneHotEncoder(),['Gender','WFH Setup Available'])])       \n",
    "\n",
    "prep"
   ]
  },
  {
   "cell_type": "markdown",
   "metadata": {},
   "source": [
    "ColumnTransformer has been successfully assigned"
   ]
  },
  {
   "cell_type": "markdown",
   "metadata": {},
   "source": [
    "# Machine Learning"
   ]
  },
  {
   "cell_type": "markdown",
   "metadata": {},
   "source": [
    "## Model Definition"
   ]
  },
  {
   "cell_type": "markdown",
   "metadata": {},
   "source": [
    "KNN SVM Decision tree, random forest, boosting\n",
    "\n",
    "In this notebook, 5 algorithm models will be used to predict burn rate values. These results will be compared and the best result will be hyperparameter tuning.\n",
    "The model used is:\n",
    "- K-NearestRegressor\n",
    "- Support Vector Regressor\n",
    "- Decision Tree Regressors\n",
    "- Random Forest Regressor\n",
    "- LightGBM Regressor"
   ]
  },
  {
   "cell_type": "code",
   "execution_count": 67,
   "metadata": {},
   "outputs": [],
   "source": [
    "#Model Definition K-NearestRegressor\n",
    "pipe_knn = Pipeline([\n",
    "('transformer', prep),\n",
    "('classifier', KNeighborsRegressor())\n",
    "])\n",
    "\n",
    "\n",
    "#Model Definition Support Vector Regressor\n",
    "pipe_svr = Pipeline([\n",
    "('transformer', prep),\n",
    "('classifier', SVR())\n",
    "])\n",
    "\n",
    "#Model Definition Decision Tree Regressor\n",
    "pipe_tree = Pipeline([\n",
    "('transformer', prep),\n",
    "('classifier', DecisionTreeRegressor())\n",
    "])\n",
    "\n",
    "#Model Definition Random Forest Regressor\n",
    "pipe_rf = Pipeline([\n",
    "('transformer', prep),\n",
    "('classifier', RandomForestRegressor())\n",
    "])\n",
    "\n",
    "#Model Definition LightGBM Regressor\n",
    "pipe_lgb = Pipeline([\n",
    "('transformer', prep),\n",
    "('classifier', LGBMRegressor(verbose=-1))\n",
    "])\n",
    "\n"
   ]
  },
  {
   "cell_type": "markdown",
   "metadata": {},
   "source": [
    "## Model K-NearestRegressor"
   ]
  },
  {
   "cell_type": "code",
   "execution_count": 68,
   "metadata": {},
   "outputs": [],
   "source": [
    "#the model is fitted to the train data\n",
    "pipe_knn.fit(X_train_capped, y_train)\n",
    "\n",
    "#the model learns X test data\n",
    "y_knn_pred_train = pipe_knn.predict(X_train_capped)\n",
    "y_knn_pred_test = pipe_knn.predict(X_test_capped)"
   ]
  },
  {
   "cell_type": "code",
   "execution_count": 69,
   "metadata": {},
   "outputs": [
    {
     "name": "stdout",
     "output_type": "stream",
     "text": [
      "Error - train set MAE:  0.039558553386911596\n",
      "Error - Test Set MAE :  0.04599140524280189\n",
      "-----\n",
      "Error - train set RMSE:  0.05026267968384841\n",
      "Error - Test Set RMSE :  0.05781913919937557\n",
      "-----\n",
      "Nilai R2 score - train set :  0.9350754743803847\n",
      "Nilai R2 score  - Test Set r2 :  0.91605073767251\n"
     ]
    }
   ],
   "source": [
    "##Displays the error from the model using mean absolute error, root mean squared error, and r2 score.\n",
    "\n",
    "print('Error - train set MAE: ', mean_absolute_error(y_train, y_knn_pred_train))\n",
    "print('Error - Test Set MAE : ', mean_absolute_error(y_test, y_knn_pred_test))\n",
    "print(\"-----\")\n",
    "print('Error - train set RMSE: ', mean_squared_error(y_train, y_knn_pred_train,squared=False))\n",
    "print('Error - Test Set RMSE : ', mean_squared_error(y_test, y_knn_pred_test,squared=False))\n",
    "print(\"-----\")\n",
    "print('Nilai R2 score - train set : ', r2_score(y_train, y_knn_pred_train))\n",
    "print('Nilai R2 score  - Test Set r2 : ', r2_score(y_test, y_knn_pred_test))"
   ]
  },
  {
   "cell_type": "markdown",
   "metadata": {},
   "source": [
    "Based on the testing results, the K-Nearest Regressor (KNR) model has a Mean Absolute Error (MAE) of 0.039558553386911596 on the training set and 0.04599140524280189 on the test set. The Root Mean Squared Error (RMSE) is 0.05026267968384841 on the training set and 0.05781913919937557 on the test set. These results are considered quite good given the target column's range, which is from 0 to 1. Therefore, having an error of 0.05 indicates that the model's predicted values are within the range of ±0.05 from the actual values.\n",
    "\n",
    "There is a 2% difference in the R-squared score between the training set and test set. To further evaluate the model's performance, cross-validation will be conducted."
   ]
  },
  {
   "cell_type": "code",
   "execution_count": 70,
   "metadata": {},
   "outputs": [
    {
     "name": "stdout",
     "output_type": "stream",
     "text": [
      "r2 Score - All - Cross Validation  :  [0.91513836 0.92410141 0.91314846 0.91571158 0.91481146 0.91776652\n",
      " 0.91139583 0.90944189 0.92176069 0.91251206]\n",
      "r2 Score - Mean - Cross Validation :  0.915578825547321\n",
      "r2 Score - Std - Cross Validation  :  0.004323280365705284\n",
      "r2 Score - Range of Test-Set       :  0.9112555451816157 - 0.9199021059130262\n"
     ]
    }
   ],
   "source": [
    "#Cross Validation\n",
    "\n",
    "r2_train_cross_val = cross_val_score(pipe_knn,\n",
    "                                     X_train_capped,\n",
    "                                     y_train,\n",
    "                                     cv=10,\n",
    "                                     scoring=\"r2\")\n",
    "\n",
    "print('r2 Score - All - Cross Validation  : ', r2_train_cross_val)\n",
    "print('r2 Score - Mean - Cross Validation : ', r2_train_cross_val.mean())\n",
    "print('r2 Score - Std - Cross Validation  : ', r2_train_cross_val.std())\n",
    "print('r2 Score - Range of Test-Set       : ', (r2_train_cross_val.mean()-r2_train_cross_val.std()) , '-', (r2_train_cross_val.mean()+r2_train_cross_val.std()))"
   ]
  },
  {
   "cell_type": "markdown",
   "metadata": {},
   "source": [
    "Based on the results of cross validation for 10 iterations, the average r2 score is 91.55% with a standard deviation of 0.004. This means that this model has r2 score results that are not much different at each iteration. The average r2 score is also very good at 91.55%."
   ]
  },
  {
   "cell_type": "markdown",
   "metadata": {},
   "source": [
    "## Model Support Vector Regressor"
   ]
  },
  {
   "cell_type": "code",
   "execution_count": 71,
   "metadata": {},
   "outputs": [],
   "source": [
    "#the model is fitted to the train data\n",
    "pipe_svr.fit(X_train_capped, y_train)\n",
    "\n",
    "#the model learns X test data\n",
    "y_svr_pred_train = pipe_svr.predict(X_train_capped)\n",
    "y_svr_pred_test = pipe_svr.predict(X_test_capped)\n"
   ]
  },
  {
   "cell_type": "code",
   "execution_count": 72,
   "metadata": {},
   "outputs": [
    {
     "name": "stdout",
     "output_type": "stream",
     "text": [
      "Error - train set MAE:  0.04947214978152263\n",
      "Error - Test Set MAE :  0.050104126701479575\n",
      "-----\n",
      "Error - train set RMSE:  0.05813748538418637\n",
      "Error - Test Set RMSE :  0.059191624181536166\n",
      "-----\n",
      "Nilai R2 score - train set :  0.9131379660735124\n",
      "Nilai R2 score  - Test Set r2 :  0.9120179342343805\n"
     ]
    }
   ],
   "source": [
    "#Displays the error from the model using mean absolute error, root mean squared error, and r2 score.\n",
    "\n",
    "print('Error - train set MAE: ', mean_absolute_error(y_train, y_svr_pred_train))\n",
    "print('Error - Test Set MAE : ', mean_absolute_error(y_test, y_svr_pred_test))\n",
    "print(\"-----\")\n",
    "print('Error - train set RMSE: ', mean_squared_error(y_train, y_svr_pred_train,squared=False))\n",
    "print('Error - Test Set RMSE : ', mean_squared_error(y_test, y_svr_pred_test,squared=False))\n",
    "print(\"-----\")\n",
    "print('Nilai R2 score - train set : ', r2_score(y_train, y_svr_pred_train))\n",
    "print('Nilai R2 score  - Test Set r2 : ', r2_score(y_test, y_svr_pred_test))"
   ]
  },
  {
   "cell_type": "markdown",
   "metadata": {},
   "source": [
    "Based on the testing results, the Support Vector Regressor (SVR) model has a Mean Absolute Error (MAE) of 0.04947214978152263 on the training set and 0.050104126701479575 on the test set. The Root Mean Squared Error (RMSE) is 0.05813748538418637 on the training set and 0.059191624181536166 on the test set. These results are considered quite good given the target column's range, which is from 0 to 1. Therefore, having an error of 0.059 indicates that the model's predicted values are within the range of ±0.059 from the actual values.\n",
    "\n",
    "The R-squared score results for the training set and test set are relatively similar, both at 91%. To further evaluate the model's performance, cross-validation will be conducted."
   ]
  },
  {
   "cell_type": "code",
   "execution_count": 73,
   "metadata": {},
   "outputs": [
    {
     "name": "stdout",
     "output_type": "stream",
     "text": [
      "r2 Score - All - Cross Validation  :  [0.91326248 0.9175422  0.91090749 0.90962359 0.91237109 0.91358816\n",
      " 0.91281051 0.90759543 0.91803591 0.91017688]\n",
      "r2 Score - Mean - Cross Validation :  0.9125913739010606\n",
      "r2 Score - Std - Cross Validation  :  0.0031325163089218596\n",
      "r2 Score - Range of Test-Set       :  0.9094588575921387 - 0.9157238902099825\n"
     ]
    }
   ],
   "source": [
    "#Cross Validation\n",
    "\n",
    "r2_train_cross_val = cross_val_score(pipe_svr,\n",
    "                                     X_train_capped,\n",
    "                                     y_train,\n",
    "                                     cv=10,\n",
    "                                     scoring=\"r2\")\n",
    "\n",
    "print('r2 Score - All - Cross Validation  : ', r2_train_cross_val)\n",
    "print('r2 Score - Mean - Cross Validation : ', r2_train_cross_val.mean())\n",
    "print('r2 Score - Std - Cross Validation  : ', r2_train_cross_val.std())\n",
    "print('r2 Score - Range of Test-Set       : ', (r2_train_cross_val.mean()-r2_train_cross_val.std()) , '-', (r2_train_cross_val.mean()+r2_train_cross_val.std()))"
   ]
  },
  {
   "cell_type": "markdown",
   "metadata": {},
   "source": [
    "Based on the results of cross validation for 10 iterations, the average r2 score is 91.25% with a standard deviation of 0.003. This means that this model has r2 score results that are not much different at each iteration. The average r2 score results are also very good at 91.55%."
   ]
  },
  {
   "cell_type": "markdown",
   "metadata": {},
   "source": [
    "## Model Decision Tree Regressor"
   ]
  },
  {
   "cell_type": "code",
   "execution_count": 74,
   "metadata": {},
   "outputs": [],
   "source": [
    "#model is fitted to train data\n",
    "pipe_tree.fit(X_train_capped, y_train)\n",
    "\n",
    "#model learns X test data\n",
    "y_tree_pred_train = pipe_tree.predict(X_train_capped)\n",
    "y_tree_pred_test = pipe_tree.predict(X_test_capped)\n"
   ]
  },
  {
   "cell_type": "code",
   "execution_count": 75,
   "metadata": {},
   "outputs": [
    {
     "name": "stdout",
     "output_type": "stream",
     "text": [
      "Error - train set MAE:  0.03560471403979034\n",
      "Error - Test Set MAE :  0.04618767229482515\n",
      "-----\n",
      "Error - train set RMSE:  0.04648021977243788\n",
      "Error - Test Set RMSE :  0.05838007155688696\n",
      "-----\n",
      "Nilai R2 score - train set :  0.9444794380130545\n",
      "Nilai R2 score  - Test Set r2 :  0.9144139689692022\n"
     ]
    }
   ],
   "source": [
    "#Displays the error from the model using the mean absolute error and r2 score.\n",
    "\n",
    "print('Error - train set MAE: ', mean_absolute_error(y_train, y_tree_pred_train))\n",
    "print('Error - Test Set MAE : ', mean_absolute_error(y_test, y_tree_pred_test))\n",
    "print(\"-----\")\n",
    "print('Error - train set RMSE: ', mean_squared_error(y_train, y_tree_pred_train,squared=False))\n",
    "print('Error - Test Set RMSE : ', mean_squared_error(y_test, y_tree_pred_test,squared=False))\n",
    "print(\"-----\")\n",
    "print('Nilai R2 score - train set : ', r2_score(y_train, y_tree_pred_train))\n",
    "print('Nilai R2 score  - Test Set r2 : ', r2_score(y_test, y_tree_pred_test))"
   ]
  },
  {
   "cell_type": "markdown",
   "metadata": {},
   "source": [
    "Based on the testing results, the Decision Tree Regressor model has a Mean Absolute Error (MAE) of 0.03560471403979034 on the training set and 0.046199669143414175 on the test set. The Root Mean Squared Error (RMSE) is 0.04648021977243788 on the training set and 0.05840283904726611 on the test set. These results are considered very good given the target column's range, which is from 0 to 1. Therefore, having an error of 0.054 indicates that the model's predicted values are within the range of ±0.058 from the actual values.\n",
    "\n",
    "There is a 3% difference in the R-squared score results between the training set and test set. To further evaluate the model's performance, cross-validation will be conducted."
   ]
  },
  {
   "cell_type": "code",
   "execution_count": 76,
   "metadata": {},
   "outputs": [
    {
     "name": "stdout",
     "output_type": "stream",
     "text": [
      "r2 Score - All - Cross Validation  :  [0.90660384 0.91761698 0.90832917 0.90971075 0.9098005  0.91079329\n",
      " 0.90770409 0.90523724 0.91675238 0.91056639]\n",
      "r2 Score - Mean - Cross Validation :  0.9103114642861966\n",
      "r2 Score - Std - Cross Validation  :  0.0038209563551780787\n",
      "r2 Score - Range of Test-Set       :  0.9064905079310185 - 0.9141324206413747\n"
     ]
    }
   ],
   "source": [
    "#Cross Validation\n",
    "\n",
    "r2_train_cross_val = cross_val_score(pipe_tree,\n",
    "                                     X_train_capped,\n",
    "                                     y_train,\n",
    "                                     cv=10,\n",
    "                                     scoring=\"r2\")\n",
    "\n",
    "print('r2 Score - All - Cross Validation  : ', r2_train_cross_val)\n",
    "print('r2 Score - Mean - Cross Validation : ', r2_train_cross_val.mean())\n",
    "print('r2 Score - Std - Cross Validation  : ', r2_train_cross_val.std())\n",
    "print('r2 Score - Range of Test-Set       : ', (r2_train_cross_val.mean()-r2_train_cross_val.std()) , '-', (r2_train_cross_val.mean()+r2_train_cross_val.std()))"
   ]
  },
  {
   "cell_type": "markdown",
   "metadata": {},
   "source": [
    "Based on the results of cross validation for 10 iterations, the average r2 score is 91.01% with a standard deviation of 0.003. This means that this model has r2 score results that are not much different at each iteration. The average r2 score is also very good at 91.04%."
   ]
  },
  {
   "cell_type": "markdown",
   "metadata": {},
   "source": [
    "## Model Random Forest Regressor"
   ]
  },
  {
   "cell_type": "code",
   "execution_count": 77,
   "metadata": {},
   "outputs": [],
   "source": [
    "#model is fitted to train data\n",
    "pipe_rf.fit(X_train_capped, y_train)\n",
    "\n",
    "#model learns X test data\n",
    "y_rf_pred_train = pipe_rf.predict(X_train_capped)\n",
    "y_rf_pred_test = pipe_rf.predict(X_test_capped)\n"
   ]
  },
  {
   "cell_type": "code",
   "execution_count": 78,
   "metadata": {},
   "outputs": [
    {
     "name": "stdout",
     "output_type": "stream",
     "text": [
      "Error - train set MAE:  0.03655624956635718\n",
      "Error - Test Set MAE :  0.04524039708015309\n",
      "-----\n",
      "Error - train set RMSE:  0.04676031031567298\n",
      "Error - Test Set RMSE :  0.05684797196859875\n",
      "-----\n",
      "Nilai R2 score - train set :  0.9438082863239743\n",
      "Nilai R2 score  - Test Set r2 :  0.9188471842832042\n"
     ]
    }
   ],
   "source": [
    "#Displays the error from the model using the mean absolute error and r2 score.\n",
    "\n",
    "print('Error - train set MAE: ', mean_absolute_error(y_train, y_rf_pred_train))\n",
    "print('Error - Test Set MAE : ', mean_absolute_error(y_test, y_rf_pred_test))\n",
    "print(\"-----\")\n",
    "print('Error - train set RMSE: ', mean_squared_error(y_train, y_rf_pred_train,squared=False))\n",
    "print('Error - Test Set RMSE : ', mean_squared_error(y_test, y_rf_pred_test,squared=False))\n",
    "print(\"-----\")\n",
    "print('Nilai R2 score - train set : ', r2_score(y_train, y_rf_pred_train))\n",
    "print('Nilai R2 score  - Test Set r2 : ', r2_score(y_test, y_rf_pred_test))"
   ]
  },
  {
   "cell_type": "markdown",
   "metadata": {},
   "source": [
    "Based on the test results, the Random Forest Regressor model has a MAE error in train of 0.03656979522374799 and in test of 0.04511368736352564, RMSE error in train of 0.046764372765509196 and test of 0.05674823433839227. These results are very good if seen from the range of the target column, namely from 0 to 1, so that if it has an error of 0.056, it means that the prediction results produced by the model have actual values in the range -0.056 and +0.056.\n",
    "\n",
    "There is a 3% difference in the r2 score results in the train set and test set. To find out further model performance, cross validation will be carried out."
   ]
  },
  {
   "cell_type": "code",
   "execution_count": 79,
   "metadata": {},
   "outputs": [
    {
     "name": "stdout",
     "output_type": "stream",
     "text": [
      "r2 Score - All - Cross Validation  :  [0.91375652 0.92189926 0.91500817 0.91620852 0.91544855 0.91716989\n",
      " 0.91448521 0.91203806 0.92248447 0.91561077]\n",
      "r2 Score - Mean - Cross Validation :  0.9164109419176624\n",
      "r2 Score - Std - Cross Validation  :  0.0031786314275170646\n",
      "r2 Score - Range of Test-Set       :  0.9132323104901453 - 0.9195895733451794\n"
     ]
    }
   ],
   "source": [
    "#Cross Validation Model Ini\n",
    "\n",
    "r2_train_cross_val = cross_val_score(pipe_rf,\n",
    "                                     X_train_capped,\n",
    "                                     y_train,\n",
    "                                     cv=10,\n",
    "                                     scoring=\"r2\")\n",
    "\n",
    "print('r2 Score - All - Cross Validation  : ', r2_train_cross_val)\n",
    "print('r2 Score - Mean - Cross Validation : ', r2_train_cross_val.mean())\n",
    "print('r2 Score - Std - Cross Validation  : ', r2_train_cross_val.std())\n",
    "print('r2 Score - Range of Test-Set       : ', (r2_train_cross_val.mean()-r2_train_cross_val.std()) , '-', (r2_train_cross_val.mean()+r2_train_cross_val.std()))"
   ]
  },
  {
   "cell_type": "markdown",
   "metadata": {},
   "source": [
    "Based on the results of cross validation for 10 iterations, the average r2 score is 91.64% with a standard deviation of 0.003. This means that this model has r2 score results that are not much different at each iteration. The average r2 score is also very good at 91.64%."
   ]
  },
  {
   "cell_type": "markdown",
   "metadata": {},
   "source": [
    "## Model LightGBM"
   ]
  },
  {
   "cell_type": "code",
   "execution_count": 80,
   "metadata": {},
   "outputs": [],
   "source": [
    "#model is fitted to train data\n",
    "pipe_lgb.fit(X_train_capped, y_train)\n",
    "\n",
    "#model learns X test data\n",
    "y_lgb_pred_train = pipe_lgb.predict(X_train_capped)\n",
    "y_lgb_pred_test = pipe_lgb.predict(X_test_capped)\n"
   ]
  },
  {
   "cell_type": "code",
   "execution_count": 81,
   "metadata": {},
   "outputs": [
    {
     "name": "stdout",
     "output_type": "stream",
     "text": [
      "Error - train set MAE:  0.041366541981782086\n",
      "Error - Test Set MAE :  0.04283215297440664\n",
      "-----\n",
      "Error - train set RMSE:  0.05096948216444195\n",
      "Error - Test Set RMSE :  0.052975310496332216\n",
      "-----\n",
      "Nilai R2 score - train set :  0.9332366761199101\n",
      "Nilai R2 score  - Test Set r2 :  0.9295273402726404\n"
     ]
    }
   ],
   "source": [
    "#Displays the error from the model using the mean absolute error and r2 score.\n",
    "print('Error - train set MAE: ', mean_absolute_error(y_train, y_lgb_pred_train))\n",
    "print('Error - Test Set MAE : ', mean_absolute_error(y_test, y_lgb_pred_test))\n",
    "print(\"-----\")\n",
    "print('Error - train set RMSE: ', mean_squared_error(y_train, y_lgb_pred_train,squared=False))\n",
    "print('Error - Test Set RMSE : ', mean_squared_error(y_test, y_lgb_pred_test,squared=False))\n",
    "print(\"-----\")\n",
    "print('Nilai R2 score - train set : ', r2_score(y_train, y_lgb_pred_train))\n",
    "print('Nilai R2 score  - Test Set r2 : ', r2_score(y_test, y_lgb_pred_test))"
   ]
  },
  {
   "cell_type": "markdown",
   "metadata": {},
   "source": [
    "Based on the testing results, the LightGBM model has a Mean Absolute Error (MAE) of 0.041366541981782086 on the training set and 0.04283215297440664 on the test set. The Root Mean Squared Error (RMSE) is 0.05096948216444195 on the training set and 0.052975310496332216 on the test set. These results are considered very good given the target column's range, which is from 0 to 1. Therefore, having an error of 0.052 indicates that the model's predicted values are within the range of ±0.052 from the actual values.\n",
    "\n",
    "There is a 1% difference in the R-squared score results between the training set and test set. To further evaluate the model's performance, cross-validation will be conducted."
   ]
  },
  {
   "cell_type": "code",
   "execution_count": 82,
   "metadata": {},
   "outputs": [
    {
     "name": "stdout",
     "output_type": "stream",
     "text": [
      "r2 Score - All - Cross Validation  :  [0.92673895 0.93138834 0.92915653 0.92672147 0.92713589 0.92929132\n",
      " 0.92783878 0.92303847 0.93220626 0.92472446]\n",
      "r2 Score - Mean - Cross Validation :  0.9278240454723148\n",
      "r2 Score - Std - Cross Validation  :  0.0026685659287322017\n",
      "r2 Score - Range of Test-Set       :  0.9251554795435826 - 0.930492611401047\n"
     ]
    }
   ],
   "source": [
    "#Cross Validation\n",
    "\n",
    "r2_train_cross_val = cross_val_score(pipe_lgb,\n",
    "                                     X_train_capped,\n",
    "                                     y_train,\n",
    "                                     cv=10,\n",
    "                                     scoring=\"r2\")\n",
    "\n",
    "print('r2 Score - All - Cross Validation  : ', r2_train_cross_val)\n",
    "print('r2 Score - Mean - Cross Validation : ', r2_train_cross_val.mean())\n",
    "print('r2 Score - Std - Cross Validation  : ', r2_train_cross_val.std())\n",
    "print('r2 Score - Range of Test-Set       : ', (r2_train_cross_val.mean()-r2_train_cross_val.std()) , '-', (r2_train_cross_val.mean()+r2_train_cross_val.std()))"
   ]
  },
  {
   "cell_type": "markdown",
   "metadata": {},
   "source": [
    "Based on the results of cross validation for 10 iterations, the average r2 score is 92.78% with a standard deviation of 0.002. This means that this model has r2 score results that are not much different at each iteration. The average r2 score results are also very good at 92.78%."
   ]
  },
  {
   "cell_type": "markdown",
   "metadata": {},
   "source": [
    "## Comparing Model"
   ]
  },
  {
   "cell_type": "code",
   "execution_count": 83,
   "metadata": {},
   "outputs": [
    {
     "data": {
      "text/html": [
       "<div>\n",
       "<style scoped>\n",
       "    .dataframe tbody tr th:only-of-type {\n",
       "        vertical-align: middle;\n",
       "    }\n",
       "\n",
       "    .dataframe tbody tr th {\n",
       "        vertical-align: top;\n",
       "    }\n",
       "\n",
       "    .dataframe thead th {\n",
       "        text-align: right;\n",
       "    }\n",
       "</style>\n",
       "<table border=\"1\" class=\"dataframe\">\n",
       "  <thead>\n",
       "    <tr style=\"text-align: right;\">\n",
       "      <th></th>\n",
       "      <th>MAE</th>\n",
       "      <th>R2-Score</th>\n",
       "    </tr>\n",
       "  </thead>\n",
       "  <tbody>\n",
       "    <tr>\n",
       "      <th>KNR</th>\n",
       "      <td>0.045991</td>\n",
       "      <td>0.916051</td>\n",
       "    </tr>\n",
       "    <tr>\n",
       "      <th>SVR</th>\n",
       "      <td>0.050104</td>\n",
       "      <td>0.912018</td>\n",
       "    </tr>\n",
       "    <tr>\n",
       "      <th>Decision tree</th>\n",
       "      <td>0.046188</td>\n",
       "      <td>0.914414</td>\n",
       "    </tr>\n",
       "    <tr>\n",
       "      <th>Random Forest</th>\n",
       "      <td>0.04524</td>\n",
       "      <td>0.918847</td>\n",
       "    </tr>\n",
       "    <tr>\n",
       "      <th>Light GBM</th>\n",
       "      <td>0.042832</td>\n",
       "      <td>0.929527</td>\n",
       "    </tr>\n",
       "  </tbody>\n",
       "</table>\n",
       "</div>"
      ],
      "text/plain": [
       "                    MAE  R2-Score\n",
       "KNR            0.045991  0.916051\n",
       "SVR            0.050104  0.912018\n",
       "Decision tree  0.046188  0.914414\n",
       "Random Forest   0.04524  0.918847\n",
       "Light GBM      0.042832  0.929527"
      ]
     },
     "execution_count": 83,
     "metadata": {},
     "output_type": "execute_result"
    }
   ],
   "source": [
    "models = {\n",
    "    'KNR' : pipe_knn,\n",
    "    'SVR' : pipe_svr,\n",
    "    'Decision tree' : pipe_tree,\n",
    "    'Random Forest' : pipe_rf,\n",
    "    'Light GBM' : pipe_lgb,\n",
    "\n",
    "}\n",
    "\n",
    "metrics = {\n",
    "    'MAE' : mean_absolute_error,\n",
    "    'R2-Score' : r2_score,\n",
    "}\n",
    "\n",
    "df_model = pd.DataFrame(columns = models.keys(), index=['MAE', 'R2-Score'])\n",
    "\n",
    "for metric in metrics.keys():\n",
    "  for model in models.keys():\n",
    "      df_model.loc[metric, model] = metrics[metric](y_test, models[model].predict(X_test_capped))\n",
    "    \n",
    "df_model.T"
   ]
  },
  {
   "cell_type": "markdown",
   "metadata": {},
   "source": [
    "__Cross Validation LightGBM__  \n",
    "r2 Score - All - Cross Validation  :  [0.92673895 0.93138834 0.92915653 0.92672147 0.92713589 0.92929132  0.92783878 0.92303847 0.93220626 0.92472446]  \n",
    "r2 Score - Mean - Cross Validation :  0.9278240454723148  \n",
    "r2 Score - Std - Cross Validation  :  0.0026685659287322017  \n",
    "r2 Score - Range of Test-Set       :  0.9251554795435826 - 0.930492611401047  "
   ]
  },
  {
   "cell_type": "markdown",
   "metadata": {},
   "source": [
    "Based on the table above, the best-performing model is LightGBM with an MAE of 0.042 and an R-squared score of 92.95%. This is validated by cross-validation on this model, which is relatively stable with an average R-squared score of 92.78% and a standard deviation of 0.002. This indicates that the difference between the results of each R-squared score in cross-validation is not significantly different from its average, making this model more stable. The performance among models is relatively similar, with an average R-squared score of 91% and an MAE around 0.04. From the MAE and R-squared score values, it can be concluded that all models can predict the burnout rate score well.\n",
    "\n",
    "Next is the process of hyperparameter tuning with the LightGBM model."
   ]
  },
  {
   "cell_type": "markdown",
   "metadata": {},
   "source": [
    "## Hyperparameter Tuning"
   ]
  },
  {
   "cell_type": "code",
   "execution_count": 84,
   "metadata": {},
   "outputs": [
    {
     "data": {
      "text/html": [
       "<style>#sk-container-id-2 {color: black;}#sk-container-id-2 pre{padding: 0;}#sk-container-id-2 div.sk-toggleable {background-color: white;}#sk-container-id-2 label.sk-toggleable__label {cursor: pointer;display: block;width: 100%;margin-bottom: 0;padding: 0.3em;box-sizing: border-box;text-align: center;}#sk-container-id-2 label.sk-toggleable__label-arrow:before {content: \"▸\";float: left;margin-right: 0.25em;color: #696969;}#sk-container-id-2 label.sk-toggleable__label-arrow:hover:before {color: black;}#sk-container-id-2 div.sk-estimator:hover label.sk-toggleable__label-arrow:before {color: black;}#sk-container-id-2 div.sk-toggleable__content {max-height: 0;max-width: 0;overflow: hidden;text-align: left;background-color: #f0f8ff;}#sk-container-id-2 div.sk-toggleable__content pre {margin: 0.2em;color: black;border-radius: 0.25em;background-color: #f0f8ff;}#sk-container-id-2 input.sk-toggleable__control:checked~div.sk-toggleable__content {max-height: 200px;max-width: 100%;overflow: auto;}#sk-container-id-2 input.sk-toggleable__control:checked~label.sk-toggleable__label-arrow:before {content: \"▾\";}#sk-container-id-2 div.sk-estimator input.sk-toggleable__control:checked~label.sk-toggleable__label {background-color: #d4ebff;}#sk-container-id-2 div.sk-label input.sk-toggleable__control:checked~label.sk-toggleable__label {background-color: #d4ebff;}#sk-container-id-2 input.sk-hidden--visually {border: 0;clip: rect(1px 1px 1px 1px);clip: rect(1px, 1px, 1px, 1px);height: 1px;margin: -1px;overflow: hidden;padding: 0;position: absolute;width: 1px;}#sk-container-id-2 div.sk-estimator {font-family: monospace;background-color: #f0f8ff;border: 1px dotted black;border-radius: 0.25em;box-sizing: border-box;margin-bottom: 0.5em;}#sk-container-id-2 div.sk-estimator:hover {background-color: #d4ebff;}#sk-container-id-2 div.sk-parallel-item::after {content: \"\";width: 100%;border-bottom: 1px solid gray;flex-grow: 1;}#sk-container-id-2 div.sk-label:hover label.sk-toggleable__label {background-color: #d4ebff;}#sk-container-id-2 div.sk-serial::before {content: \"\";position: absolute;border-left: 1px solid gray;box-sizing: border-box;top: 0;bottom: 0;left: 50%;z-index: 0;}#sk-container-id-2 div.sk-serial {display: flex;flex-direction: column;align-items: center;background-color: white;padding-right: 0.2em;padding-left: 0.2em;position: relative;}#sk-container-id-2 div.sk-item {position: relative;z-index: 1;}#sk-container-id-2 div.sk-parallel {display: flex;align-items: stretch;justify-content: center;background-color: white;position: relative;}#sk-container-id-2 div.sk-item::before, #sk-container-id-2 div.sk-parallel-item::before {content: \"\";position: absolute;border-left: 1px solid gray;box-sizing: border-box;top: 0;bottom: 0;left: 50%;z-index: -1;}#sk-container-id-2 div.sk-parallel-item {display: flex;flex-direction: column;z-index: 1;position: relative;background-color: white;}#sk-container-id-2 div.sk-parallel-item:first-child::after {align-self: flex-end;width: 50%;}#sk-container-id-2 div.sk-parallel-item:last-child::after {align-self: flex-start;width: 50%;}#sk-container-id-2 div.sk-parallel-item:only-child::after {width: 0;}#sk-container-id-2 div.sk-dashed-wrapped {border: 1px dashed gray;margin: 0 0.4em 0.5em 0.4em;box-sizing: border-box;padding-bottom: 0.4em;background-color: white;}#sk-container-id-2 div.sk-label label {font-family: monospace;font-weight: bold;display: inline-block;line-height: 1.2em;}#sk-container-id-2 div.sk-label-container {text-align: center;}#sk-container-id-2 div.sk-container {/* jupyter's `normalize.less` sets `[hidden] { display: none; }` but bootstrap.min.css set `[hidden] { display: none !important; }` so we also need the `!important` here to be able to override the default hidden behavior on the sphinx rendered scikit-learn.org. See: https://github.com/scikit-learn/scikit-learn/issues/21755 */display: inline-block !important;position: relative;}#sk-container-id-2 div.sk-text-repr-fallback {display: none;}</style><div id=\"sk-container-id-2\" class=\"sk-top-container\"><div class=\"sk-text-repr-fallback\"><pre>GridSearchCV(estimator=Pipeline(steps=[(&#x27;transformer&#x27;,\n",
       "                                        ColumnTransformer(transformers=[(&#x27;scaler&#x27;,\n",
       "                                                                         StandardScaler(),\n",
       "                                                                         [&#x27;Designation&#x27;,\n",
       "                                                                          &#x27;Resource &#x27;\n",
       "                                                                          &#x27;Allocation&#x27;,\n",
       "                                                                          &#x27;Mental &#x27;\n",
       "                                                                          &#x27;Fatigue &#x27;\n",
       "                                                                          &#x27;Score&#x27;]),\n",
       "                                                                        (&#x27;encoding&#x27;,\n",
       "                                                                         OneHotEncoder(),\n",
       "                                                                         [&#x27;Gender&#x27;,\n",
       "                                                                          &#x27;WFH &#x27;\n",
       "                                                                          &#x27;Setup &#x27;\n",
       "                                                                          &#x27;Available&#x27;])])),\n",
       "                                       (&#x27;classifier&#x27;,\n",
       "                                        LGBMRegressor(verbose=-1))]),\n",
       "             param_grid={&#x27;classifier__learning_rate&#x27;: [0.01, 0.05, 0.1, 0.2],\n",
       "                         &#x27;classifier__max_depth&#x27;: [5, 10, 15, 20],\n",
       "                         &#x27;classifier__n_estimators&#x27;: [50, 100, 200, 300],\n",
       "                         &#x27;classifier__num_leaves&#x27;: [10, 20, 30, 40, 50]})</pre><b>In a Jupyter environment, please rerun this cell to show the HTML representation or trust the notebook. <br />On GitHub, the HTML representation is unable to render, please try loading this page with nbviewer.org.</b></div><div class=\"sk-container\" hidden><div class=\"sk-item sk-dashed-wrapped\"><div class=\"sk-label-container\"><div class=\"sk-label sk-toggleable\"><input class=\"sk-toggleable__control sk-hidden--visually\" id=\"sk-estimator-id-6\" type=\"checkbox\" ><label for=\"sk-estimator-id-6\" class=\"sk-toggleable__label sk-toggleable__label-arrow\">GridSearchCV</label><div class=\"sk-toggleable__content\"><pre>GridSearchCV(estimator=Pipeline(steps=[(&#x27;transformer&#x27;,\n",
       "                                        ColumnTransformer(transformers=[(&#x27;scaler&#x27;,\n",
       "                                                                         StandardScaler(),\n",
       "                                                                         [&#x27;Designation&#x27;,\n",
       "                                                                          &#x27;Resource &#x27;\n",
       "                                                                          &#x27;Allocation&#x27;,\n",
       "                                                                          &#x27;Mental &#x27;\n",
       "                                                                          &#x27;Fatigue &#x27;\n",
       "                                                                          &#x27;Score&#x27;]),\n",
       "                                                                        (&#x27;encoding&#x27;,\n",
       "                                                                         OneHotEncoder(),\n",
       "                                                                         [&#x27;Gender&#x27;,\n",
       "                                                                          &#x27;WFH &#x27;\n",
       "                                                                          &#x27;Setup &#x27;\n",
       "                                                                          &#x27;Available&#x27;])])),\n",
       "                                       (&#x27;classifier&#x27;,\n",
       "                                        LGBMRegressor(verbose=-1))]),\n",
       "             param_grid={&#x27;classifier__learning_rate&#x27;: [0.01, 0.05, 0.1, 0.2],\n",
       "                         &#x27;classifier__max_depth&#x27;: [5, 10, 15, 20],\n",
       "                         &#x27;classifier__n_estimators&#x27;: [50, 100, 200, 300],\n",
       "                         &#x27;classifier__num_leaves&#x27;: [10, 20, 30, 40, 50]})</pre></div></div></div><div class=\"sk-parallel\"><div class=\"sk-parallel-item\"><div class=\"sk-item\"><div class=\"sk-label-container\"><div class=\"sk-label sk-toggleable\"><input class=\"sk-toggleable__control sk-hidden--visually\" id=\"sk-estimator-id-7\" type=\"checkbox\" ><label for=\"sk-estimator-id-7\" class=\"sk-toggleable__label sk-toggleable__label-arrow\">estimator: Pipeline</label><div class=\"sk-toggleable__content\"><pre>Pipeline(steps=[(&#x27;transformer&#x27;,\n",
       "                 ColumnTransformer(transformers=[(&#x27;scaler&#x27;, StandardScaler(),\n",
       "                                                  [&#x27;Designation&#x27;,\n",
       "                                                   &#x27;Resource Allocation&#x27;,\n",
       "                                                   &#x27;Mental Fatigue Score&#x27;]),\n",
       "                                                 (&#x27;encoding&#x27;, OneHotEncoder(),\n",
       "                                                  [&#x27;Gender&#x27;,\n",
       "                                                   &#x27;WFH Setup Available&#x27;])])),\n",
       "                (&#x27;classifier&#x27;, LGBMRegressor(verbose=-1))])</pre></div></div></div><div class=\"sk-serial\"><div class=\"sk-item\"><div class=\"sk-serial\"><div class=\"sk-item sk-dashed-wrapped\"><div class=\"sk-label-container\"><div class=\"sk-label sk-toggleable\"><input class=\"sk-toggleable__control sk-hidden--visually\" id=\"sk-estimator-id-8\" type=\"checkbox\" ><label for=\"sk-estimator-id-8\" class=\"sk-toggleable__label sk-toggleable__label-arrow\">transformer: ColumnTransformer</label><div class=\"sk-toggleable__content\"><pre>ColumnTransformer(transformers=[(&#x27;scaler&#x27;, StandardScaler(),\n",
       "                                 [&#x27;Designation&#x27;, &#x27;Resource Allocation&#x27;,\n",
       "                                  &#x27;Mental Fatigue Score&#x27;]),\n",
       "                                (&#x27;encoding&#x27;, OneHotEncoder(),\n",
       "                                 [&#x27;Gender&#x27;, &#x27;WFH Setup Available&#x27;])])</pre></div></div></div><div class=\"sk-parallel\"><div class=\"sk-parallel-item\"><div class=\"sk-item\"><div class=\"sk-label-container\"><div class=\"sk-label sk-toggleable\"><input class=\"sk-toggleable__control sk-hidden--visually\" id=\"sk-estimator-id-9\" type=\"checkbox\" ><label for=\"sk-estimator-id-9\" class=\"sk-toggleable__label sk-toggleable__label-arrow\">scaler</label><div class=\"sk-toggleable__content\"><pre>[&#x27;Designation&#x27;, &#x27;Resource Allocation&#x27;, &#x27;Mental Fatigue Score&#x27;]</pre></div></div></div><div class=\"sk-serial\"><div class=\"sk-item\"><div class=\"sk-estimator sk-toggleable\"><input class=\"sk-toggleable__control sk-hidden--visually\" id=\"sk-estimator-id-10\" type=\"checkbox\" ><label for=\"sk-estimator-id-10\" class=\"sk-toggleable__label sk-toggleable__label-arrow\">StandardScaler</label><div class=\"sk-toggleable__content\"><pre>StandardScaler()</pre></div></div></div></div></div></div><div class=\"sk-parallel-item\"><div class=\"sk-item\"><div class=\"sk-label-container\"><div class=\"sk-label sk-toggleable\"><input class=\"sk-toggleable__control sk-hidden--visually\" id=\"sk-estimator-id-11\" type=\"checkbox\" ><label for=\"sk-estimator-id-11\" class=\"sk-toggleable__label sk-toggleable__label-arrow\">encoding</label><div class=\"sk-toggleable__content\"><pre>[&#x27;Gender&#x27;, &#x27;WFH Setup Available&#x27;]</pre></div></div></div><div class=\"sk-serial\"><div class=\"sk-item\"><div class=\"sk-estimator sk-toggleable\"><input class=\"sk-toggleable__control sk-hidden--visually\" id=\"sk-estimator-id-12\" type=\"checkbox\" ><label for=\"sk-estimator-id-12\" class=\"sk-toggleable__label sk-toggleable__label-arrow\">OneHotEncoder</label><div class=\"sk-toggleable__content\"><pre>OneHotEncoder()</pre></div></div></div></div></div></div></div></div><div class=\"sk-item\"><div class=\"sk-estimator sk-toggleable\"><input class=\"sk-toggleable__control sk-hidden--visually\" id=\"sk-estimator-id-13\" type=\"checkbox\" ><label for=\"sk-estimator-id-13\" class=\"sk-toggleable__label sk-toggleable__label-arrow\">LGBMRegressor</label><div class=\"sk-toggleable__content\"><pre>LGBMRegressor(verbose=-1)</pre></div></div></div></div></div></div></div></div></div></div></div></div>"
      ],
      "text/plain": [
       "GridSearchCV(estimator=Pipeline(steps=[('transformer',\n",
       "                                        ColumnTransformer(transformers=[('scaler',\n",
       "                                                                         StandardScaler(),\n",
       "                                                                         ['Designation',\n",
       "                                                                          'Resource '\n",
       "                                                                          'Allocation',\n",
       "                                                                          'Mental '\n",
       "                                                                          'Fatigue '\n",
       "                                                                          'Score']),\n",
       "                                                                        ('encoding',\n",
       "                                                                         OneHotEncoder(),\n",
       "                                                                         ['Gender',\n",
       "                                                                          'WFH '\n",
       "                                                                          'Setup '\n",
       "                                                                          'Available'])])),\n",
       "                                       ('classifier',\n",
       "                                        LGBMRegressor(verbose=-1))]),\n",
       "             param_grid={'classifier__learning_rate': [0.01, 0.05, 0.1, 0.2],\n",
       "                         'classifier__max_depth': [5, 10, 15, 20],\n",
       "                         'classifier__n_estimators': [50, 100, 200, 300],\n",
       "                         'classifier__num_leaves': [10, 20, 30, 40, 50]})"
      ]
     },
     "execution_count": 84,
     "metadata": {},
     "output_type": "execute_result"
    }
   ],
   "source": [
    "#assign parameters to the LightGBM model\n",
    "param_grid = {\n",
    "    'classifier__learning_rate': [0.01, 0.05, 0.1, 0.2],\n",
    "    'classifier__n_estimators': [50, 100, 200, 300],\n",
    "    'classifier__max_depth': [5, 10, 15, 20],\n",
    "    'classifier__num_leaves': [10, 20, 30, 40, 50]\n",
    "    \n",
    "}\n",
    "#Using gridsearch to find best parameters\n",
    "grid = GridSearchCV(pipe_lgb,param_grid)\n",
    "\n",
    "#Model learns train data\n",
    "grid.fit(X_train_capped, y_train)"
   ]
  },
  {
   "cell_type": "code",
   "execution_count": 85,
   "metadata": {},
   "outputs": [
    {
     "name": "stdout",
     "output_type": "stream",
     "text": [
      "{'classifier__learning_rate': 0.05, 'classifier__max_depth': 15, 'classifier__n_estimators': 100, 'classifier__num_leaves': 50}\n",
      "\n",
      "\n",
      "Pipeline(steps=[('transformer',\n",
      "                 ColumnTransformer(transformers=[('scaler', StandardScaler(),\n",
      "                                                  ['Designation',\n",
      "                                                   'Resource Allocation',\n",
      "                                                   'Mental Fatigue Score']),\n",
      "                                                 ('encoding', OneHotEncoder(),\n",
      "                                                  ['Gender',\n",
      "                                                   'WFH Setup Available'])])),\n",
      "                ('classifier',\n",
      "                 LGBMRegressor(learning_rate=0.05, max_depth=15, num_leaves=50,\n",
      "                               verbose=-1))])\n",
      "\n",
      "\n",
      "Index(['mean_fit_time', 'std_fit_time', 'mean_score_time', 'std_score_time',\n",
      "       'param_classifier__learning_rate', 'param_classifier__max_depth',\n",
      "       'param_classifier__n_estimators', 'param_classifier__num_leaves',\n",
      "       'params', 'split0_test_score', 'split1_test_score', 'split2_test_score',\n",
      "       'split3_test_score', 'split4_test_score', 'mean_test_score',\n",
      "       'std_test_score', 'rank_test_score'],\n",
      "      dtype='object')\n"
     ]
    }
   ],
   "source": [
    "#syntax displays the best parameters\n",
    "best_param_rf = grid.best_params_\n",
    "print(best_param_rf)\n",
    "print('\\n')\n",
    "best_pipe_lgb = grid.best_estimator_\n",
    "print(best_pipe_lgb)\n",
    "print('\\n')\n",
    "result_df_rf = pd.DataFrame.from_dict(grid.cv_results_, orient='columns')\n",
    "print(result_df_rf.columns)"
   ]
  },
  {
   "cell_type": "markdown",
   "metadata": {},
   "source": [
    "Based on the gridsearch results, the best parameters from the parameters that have been determined are\n",
    "- classifier__learning_rate: 0.05, \n",
    "- classifier__max_depth: 15, \n",
    "- classifier__n_estimators: 100,\n",
    "- classifier__num_leaves: 50"
   ]
  },
  {
   "cell_type": "code",
   "execution_count": 86,
   "metadata": {},
   "outputs": [],
   "source": [
    "#model learns X test data\n",
    "y_lgbTuning_pred_train = best_pipe_lgb.predict(X_train_capped)\n",
    "y_lgbTuning_pred_test = best_pipe_lgb.predict(X_test_capped)"
   ]
  },
  {
   "cell_type": "code",
   "execution_count": 87,
   "metadata": {},
   "outputs": [
    {
     "name": "stdout",
     "output_type": "stream",
     "text": [
      "Error - train set MAE:  0.041462337260772926\n",
      "Error - Test Set MAE :  0.04281064233520828\n",
      "-----\n",
      "Error - train set RMSE:  0.05110373624453793\n",
      "Error - Test Set RMSE :  0.052948960551381034\n",
      "-----\n",
      "Nilai R2 score - train set :  0.9328845025097499\n",
      "Nilai R2 score  - Test Set r2 :  0.9295974291069634\n"
     ]
    }
   ],
   "source": [
    "print('Error - train set MAE: ', mean_absolute_error(y_train, y_lgbTuning_pred_train))\n",
    "print('Error - Test Set MAE : ', mean_absolute_error(y_test, y_lgbTuning_pred_test))\n",
    "print(\"-----\")\n",
    "print('Error - train set RMSE: ', mean_squared_error(y_train, y_lgbTuning_pred_train,squared=False))\n",
    "print('Error - Test Set RMSE : ', mean_squared_error(y_test, y_lgbTuning_pred_test,squared=False))\n",
    "print(\"-----\")\n",
    "print('Nilai R2 score - train set : ', r2_score(y_train, y_lgbTuning_pred_train))\n",
    "print('Nilai R2 score  - Test Set r2 : ', r2_score(y_test, y_lgbTuning_pred_test))"
   ]
  },
  {
   "cell_type": "markdown",
   "metadata": {},
   "source": [
    "Based on the test results, the LightGBM model with hyperparameter tuning has an MAE error of 0.041462337260772926 on the train set and 0.04281064233520828 on the test set. The RMSE error on the train set is 0.05110373624453793 and on the test set is 0.052948960551381034. These results are excellent considering the target column's range is from 0 to 1. Hence, an error of 0.052 means that the model's predictions fall within the range of -0.052 to +0.052 of the actual values. However, when compared to the default parameter MAE and RMSE values, there is no significant difference.\n",
    "\n",
    "There is a 1% difference in the R-squared score between the train set and the test set. Further evaluation of the model's performance will be conducted through cross-validation."
   ]
  },
  {
   "cell_type": "code",
   "execution_count": 88,
   "metadata": {},
   "outputs": [
    {
     "name": "stdout",
     "output_type": "stream",
     "text": [
      "r2 Score - All - Cross Validation  :  [0.92731066 0.93118685 0.92915467 0.92694617 0.92729162 0.92919854\n",
      " 0.9277092  0.9237538  0.93259144 0.92495281]\n",
      "r2 Score - Mean - Cross Validation :  0.9280095751116251\n",
      "r2 Score - Std - Cross Validation  :  0.0025197994350453293\n",
      "r2 Score - Range of Test-Set       :  0.9254897756765798 - 0.9305293745466704\n"
     ]
    }
   ],
   "source": [
    "#Cross Validation\n",
    "\n",
    "r2_train_cross_val = cross_val_score(best_pipe_lgb,\n",
    "                                     X_train_capped,\n",
    "                                     y_train,\n",
    "                                     cv=10,\n",
    "                                     scoring=\"r2\")\n",
    "\n",
    "print('r2 Score - All - Cross Validation  : ', r2_train_cross_val)\n",
    "print('r2 Score - Mean - Cross Validation : ', r2_train_cross_val.mean())\n",
    "print('r2 Score - Std - Cross Validation  : ', r2_train_cross_val.std())\n",
    "print('r2 Score - Range of Test-Set       : ', (r2_train_cross_val.mean()-r2_train_cross_val.std()) , '-', (r2_train_cross_val.mean()+r2_train_cross_val.std()))"
   ]
  },
  {
   "cell_type": "markdown",
   "metadata": {},
   "source": [
    "Based on the results of cross validation for 10 iterations, the average r2 score is 92.80% with a standard deviation of 0.0025. This means that this model has r2 score results that are not much different at each iteration. The average r2 score is also very good at 92.80%."
   ]
  },
  {
   "cell_type": "code",
   "execution_count": 89,
   "metadata": {},
   "outputs": [
    {
     "data": {
      "text/html": [
       "<div>\n",
       "<style scoped>\n",
       "    .dataframe tbody tr th:only-of-type {\n",
       "        vertical-align: middle;\n",
       "    }\n",
       "\n",
       "    .dataframe tbody tr th {\n",
       "        vertical-align: top;\n",
       "    }\n",
       "\n",
       "    .dataframe thead th {\n",
       "        text-align: right;\n",
       "    }\n",
       "</style>\n",
       "<table border=\"1\" class=\"dataframe\">\n",
       "  <thead>\n",
       "    <tr style=\"text-align: right;\">\n",
       "      <th></th>\n",
       "      <th>MAE</th>\n",
       "      <th>R2-Score</th>\n",
       "    </tr>\n",
       "  </thead>\n",
       "  <tbody>\n",
       "    <tr>\n",
       "      <th>Light GBM</th>\n",
       "      <td>0.042832</td>\n",
       "      <td>0.929527</td>\n",
       "    </tr>\n",
       "    <tr>\n",
       "      <th>Light GBM Tuning</th>\n",
       "      <td>0.042811</td>\n",
       "      <td>0.929597</td>\n",
       "    </tr>\n",
       "  </tbody>\n",
       "</table>\n",
       "</div>"
      ],
      "text/plain": [
       "                       MAE  R2-Score\n",
       "Light GBM         0.042832  0.929527\n",
       "Light GBM Tuning  0.042811  0.929597"
      ]
     },
     "execution_count": 89,
     "metadata": {},
     "output_type": "execute_result"
    }
   ],
   "source": [
    "models = {\n",
    "    'Light GBM' : pipe_lgb,\n",
    "    'Light GBM Tuning' : best_pipe_lgb,\n",
    "\n",
    "\n",
    "}\n",
    "\n",
    "metrics = {\n",
    "    'MAE' : mean_absolute_error,\n",
    "    'R2-Score' : r2_score,\n",
    "}\n",
    "\n",
    "df_model = pd.DataFrame(columns = models.keys(), index=['MAE', 'R2-Score'])\n",
    "\n",
    "for metric in metrics.keys():\n",
    "  for model in models.keys():\n",
    "      df_model.loc[metric, model] = metrics[metric](y_test, models[model].predict(X_test_capped))\n",
    "    \n",
    "df_model.T"
   ]
  },
  {
   "cell_type": "markdown",
   "metadata": {},
   "source": [
    "When compared with the MAE AND R2 scores on test data predictions, the model with hyper parameter tuning is slightly better than the model with default parameters. However, as explained, the difference is not significant."
   ]
  },
  {
   "cell_type": "markdown",
   "metadata": {},
   "source": [
    "## Model Evaluation"
   ]
  },
  {
   "cell_type": "code",
   "execution_count": 90,
   "metadata": {},
   "outputs": [
    {
     "data": {
      "text/html": [
       "<div>\n",
       "<style scoped>\n",
       "    .dataframe tbody tr th:only-of-type {\n",
       "        vertical-align: middle;\n",
       "    }\n",
       "\n",
       "    .dataframe tbody tr th {\n",
       "        vertical-align: top;\n",
       "    }\n",
       "\n",
       "    .dataframe thead th {\n",
       "        text-align: right;\n",
       "    }\n",
       "</style>\n",
       "<table border=\"1\" class=\"dataframe\">\n",
       "  <thead>\n",
       "    <tr style=\"text-align: right;\">\n",
       "      <th></th>\n",
       "      <th>MAE</th>\n",
       "      <th>R2-Score</th>\n",
       "    </tr>\n",
       "  </thead>\n",
       "  <tbody>\n",
       "    <tr>\n",
       "      <th>KNR</th>\n",
       "      <td>0.045991</td>\n",
       "      <td>0.916051</td>\n",
       "    </tr>\n",
       "    <tr>\n",
       "      <th>SVR</th>\n",
       "      <td>0.050104</td>\n",
       "      <td>0.912018</td>\n",
       "    </tr>\n",
       "    <tr>\n",
       "      <th>Decision tree</th>\n",
       "      <td>0.046188</td>\n",
       "      <td>0.914414</td>\n",
       "    </tr>\n",
       "    <tr>\n",
       "      <th>Random Forest</th>\n",
       "      <td>0.04524</td>\n",
       "      <td>0.918847</td>\n",
       "    </tr>\n",
       "    <tr>\n",
       "      <th>Light GBM</th>\n",
       "      <td>0.042832</td>\n",
       "      <td>0.929527</td>\n",
       "    </tr>\n",
       "    <tr>\n",
       "      <th>Light GBM Hyperparameter Tuning</th>\n",
       "      <td>0.042811</td>\n",
       "      <td>0.929597</td>\n",
       "    </tr>\n",
       "  </tbody>\n",
       "</table>\n",
       "</div>"
      ],
      "text/plain": [
       "                                      MAE  R2-Score\n",
       "KNR                              0.045991  0.916051\n",
       "SVR                              0.050104  0.912018\n",
       "Decision tree                    0.046188  0.914414\n",
       "Random Forest                     0.04524  0.918847\n",
       "Light GBM                        0.042832  0.929527\n",
       "Light GBM Hyperparameter Tuning  0.042811  0.929597"
      ]
     },
     "execution_count": 90,
     "metadata": {},
     "output_type": "execute_result"
    }
   ],
   "source": [
    "models = {\n",
    "    'KNR' : pipe_knn,\n",
    "    'SVR' : pipe_svr,\n",
    "    'Decision tree' : pipe_tree,\n",
    "    'Random Forest' : pipe_rf,\n",
    "    'Light GBM' : pipe_lgb,\n",
    "    'Light GBM Hyperparameter Tuning' : best_pipe_lgb\n",
    "\n",
    "}\n",
    "\n",
    "metrics = {\n",
    "    'MAE' : mean_absolute_error,\n",
    "    'R2-Score' : r2_score,\n",
    "}\n",
    "\n",
    "df_model = pd.DataFrame(columns = models.keys(), index=['MAE', 'R2-Score'])\n",
    "\n",
    "for metric in metrics.keys():\n",
    "  for model in models.keys():\n",
    "      df_model.loc[metric, model] = metrics[metric](y_test, models[model].predict(X_test_capped))\n",
    "    \n",
    "df_model.T"
   ]
  },
  {
   "cell_type": "markdown",
   "metadata": {},
   "source": [
    "When compared to all models with default parameters, the LightGBM model performs better than the others, although the differences in MAE, RMSE, and R2 score values are not significant. The R2 score values still hover around 90% for the average R2 score of each model, while the LightGBM model achieves an R2 score of 92.95%. After hyperparameter tuning, the MAE value experiences a slight decrease (a decrease indicates improvement), while the R2 score increases slightly. The performance of hyperparameter tuning is influenced by the parameters determined beforehand. Trying more parameters may lead to better performance, but it requires more time as it involves using the GridSearchCV algorithm. As previously mentioned, the performance of each model is relatively similar, with no significant difference in MAE and R2 score values.\n",
    "\n",
    "Advantages and Disadvantages of LightGBM:\n",
    "__Advantages__:\n",
    "- The model has fast fitting and prediction processes despite using ensemble learning with boosting methods, which are known to be time-consuming.\n",
    "- It can be used on large-scale datasets.\n",
    "- It performs well for both classification and regression predictions.\n",
    "\n",
    "__Disadvantages__:\n",
    "- When used for predicting large-scale data, it requires high memory and CPU usage.\n",
    "- Determining the parameters can be complex as achieving optimal results requires selecting the right parameters.\n",
    "\n",
    "__Result__:  \n",
    "The model to be saved and deployed is the LightGBM model with hyperparameter tuning."
   ]
  },
  {
   "cell_type": "markdown",
   "metadata": {},
   "source": [
    "## Model Saving"
   ]
  },
  {
   "cell_type": "code",
   "execution_count": 91,
   "metadata": {},
   "outputs": [],
   "source": [
    "#model saving\n",
    "\n",
    "with open('model.pkl', 'wb') as file_1:\n",
    "  pickle.dump(best_pipe_lgb, file_1)"
   ]
  },
  {
   "cell_type": "markdown",
   "metadata": {},
   "source": [
    "# Inference"
   ]
  },
  {
   "cell_type": "markdown",
   "metadata": {},
   "source": [
    "Inference is performed in the file __P1M2_Angger_inference.ipynb__"
   ]
  },
  {
   "cell_type": "markdown",
   "metadata": {},
   "source": [
    "# Conclusion"
   ]
  },
  {
   "cell_type": "markdown",
   "metadata": {},
   "source": [
    "In the dataset \"Are Your Employees Burned Out?\", the goal is to predict the \"Burn Rate\" column to determine the burnout score of each employee. Based on exploration, several interesting points were discovered:\n",
    "\n",
    "- The level of stress (mental fatigue), the number of working hours (resource allocation), and the job designation (designation) are correlated with the burnout level of employees.\n",
    "- The higher the job designation, the longer the working hours, and vice versa.\n",
    "- The higher the job designation, the higher the burnout level.\n",
    "- Based on the distribution of Mental Fatigue, individuals who are not stressed are very rare. Employees tend to experience Mental Fatigue or stress.\n",
    "- In this dataset, there are more women recorded than men, more workers in the service sector than in the product sector, and more people allowed to work from home.\n",
    "\n",
    "Six models were used in this project:\n",
    "1. K-Nearest Regressor\n",
    "2. Support Vector Regressor\n",
    "3. Decision Tree Regressor\n",
    "4. Random Forest Regressor\n",
    "5. LightGBM Regressor\n",
    "6. LightGBM Regressor with hyperparameter tuning\n",
    "\n",
    "Based on the experimentation results, all six models have relatively similar performances, around 91% (r2-score) for K-Nearest Regressor, Support Vector Regressor, Decision Tree Regressor, and Random Forest Regressor. The LightGBM model has a higher r2-score value of 92.9527%. After tuning, the r2-score value increases to 92.9597%. The LightGBM model with hyperparameter tuning performs slightly better, although the difference is not significant because it is very minimal. The LightGBM model requires the right parameters to produce optimal predictions.\n",
    "\n",
    "The results of the model performance determine the predicted values of the Burn Out Rate generated by the algorithmic model. The better the performance and the lower the error, the more accurate the model is for predicting. The predicted Burn Rate values are useful for HR teams in analyzing the burnout level of employees in a company. The LightGBM Regressor model with hyperparameter tuning can be used to predict the burnout level of employees by determining the required feature values. According to CNN.com, based on a poll conducted on social media in 2021, 77.4% of workers in Indonesia experience burnout. With this prediction, it is possible to prevent or reduce the level of employee burnout through specific programs."
   ]
  }
 ],
 "metadata": {
  "kernelspec": {
   "display_name": "base",
   "language": "python",
   "name": "python3"
  },
  "language_info": {
   "codemirror_mode": {
    "name": "ipython",
    "version": 3
   },
   "file_extension": ".py",
   "mimetype": "text/x-python",
   "name": "python",
   "nbconvert_exporter": "python",
   "pygments_lexer": "ipython3",
   "version": "3.11.5"
  }
 },
 "nbformat": 4,
 "nbformat_minor": 2
}
